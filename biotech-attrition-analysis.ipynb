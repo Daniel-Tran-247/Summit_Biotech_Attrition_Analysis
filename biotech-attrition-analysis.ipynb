{
 "cells": [
  {
   "cell_type": "code",
   "execution_count": 1,
   "id": "d0e6432f",
   "metadata": {
    "execution": {
     "iopub.execute_input": "2023-01-12T15:02:08.745882Z",
     "iopub.status.busy": "2023-01-12T15:02:08.744315Z",
     "iopub.status.idle": "2023-01-12T15:02:11.323605Z",
     "shell.execute_reply": "2023-01-12T15:02:11.321948Z"
    },
    "papermill": {
     "duration": 2.61195,
     "end_time": "2023-01-12T15:02:11.327354",
     "exception": false,
     "start_time": "2023-01-12T15:02:08.715404",
     "status": "completed"
    },
    "tags": []
   },
   "outputs": [],
   "source": [
    "import numpy as np\n",
    "import pandas as pd\n",
    "import matplotlib.pyplot as plt\n",
    "%matplotlib inline\n",
    "import seaborn as sns\n",
    "sns.set()\n",
    "import plotly.express as px\n",
    "import warnings \n",
    "warnings.filterwarnings('ignore')\n",
    "\n",
    "pd.set_option(\"display.max_column\", 500)"
   ]
  },
  {
   "cell_type": "code",
   "execution_count": 2,
   "id": "ae1dd579",
   "metadata": {
    "execution": {
     "iopub.execute_input": "2023-01-12T15:02:11.381265Z",
     "iopub.status.busy": "2023-01-12T15:02:11.380777Z",
     "iopub.status.idle": "2023-01-12T15:02:12.578692Z",
     "shell.execute_reply": "2023-01-12T15:02:12.577474Z"
    },
    "papermill": {
     "duration": 1.229152,
     "end_time": "2023-01-12T15:02:12.581990",
     "exception": false,
     "start_time": "2023-01-12T15:02:11.352838",
     "status": "completed"
    },
    "tags": []
   },
   "outputs": [],
   "source": [
    "raw = pd.read_excel(\"/kaggle/input/summit-biotech-attrition-2021/Dataset_-_Summit_Biotech_Attrition_2021.xlsx\",sheet_name=\"Attrition Dataset\")"
   ]
  },
  {
   "cell_type": "code",
   "execution_count": 3,
   "id": "cb67f674",
   "metadata": {
    "execution": {
     "iopub.execute_input": "2023-01-12T15:02:12.636449Z",
     "iopub.status.busy": "2023-01-12T15:02:12.635347Z",
     "iopub.status.idle": "2023-01-12T15:02:12.670846Z",
     "shell.execute_reply": "2023-01-12T15:02:12.669864Z"
    },
    "papermill": {
     "duration": 0.065594,
     "end_time": "2023-01-12T15:02:12.673662",
     "exception": false,
     "start_time": "2023-01-12T15:02:12.608068",
     "status": "completed"
    },
    "tags": []
   },
   "outputs": [
    {
     "data": {
      "text/html": [
       "<div>\n",
       "<style scoped>\n",
       "    .dataframe tbody tr th:only-of-type {\n",
       "        vertical-align: middle;\n",
       "    }\n",
       "\n",
       "    .dataframe tbody tr th {\n",
       "        vertical-align: top;\n",
       "    }\n",
       "\n",
       "    .dataframe thead th {\n",
       "        text-align: right;\n",
       "    }\n",
       "</style>\n",
       "<table border=\"1\" class=\"dataframe\">\n",
       "  <thead>\n",
       "    <tr style=\"text-align: right;\">\n",
       "      <th></th>\n",
       "      <th>Age</th>\n",
       "      <th>Attrition</th>\n",
       "      <th>BusinessTravel</th>\n",
       "      <th>Department</th>\n",
       "      <th>DistanceFromHome</th>\n",
       "      <th>EducationField</th>\n",
       "      <th>EmployeeCount</th>\n",
       "      <th>EmployeeNumber</th>\n",
       "      <th>EnvironmentSatisfaction</th>\n",
       "      <th>Gender</th>\n",
       "      <th>JobInvolvement</th>\n",
       "      <th>JobLevel</th>\n",
       "      <th>JobRole</th>\n",
       "      <th>JobSatisfaction</th>\n",
       "      <th>MaritalStatus</th>\n",
       "      <th>MonthlyIncome</th>\n",
       "      <th>NumCompaniesWorked</th>\n",
       "      <th>Over18</th>\n",
       "      <th>OverTime</th>\n",
       "      <th>PercentSalaryHike</th>\n",
       "      <th>PerformanceRating</th>\n",
       "      <th>RelationshipSatisfaction</th>\n",
       "      <th>StockOptionLevel</th>\n",
       "      <th>TotalWorkingYears</th>\n",
       "      <th>TrainingTimesLastYear</th>\n",
       "      <th>WorkLifeBalance</th>\n",
       "      <th>YearsAtCompany</th>\n",
       "      <th>YearsInCurrentRole</th>\n",
       "      <th>YearsSinceLastPromotion</th>\n",
       "      <th>YearsWithCurrManager</th>\n",
       "    </tr>\n",
       "  </thead>\n",
       "  <tbody>\n",
       "    <tr>\n",
       "      <th>0</th>\n",
       "      <td>41</td>\n",
       "      <td>Yes</td>\n",
       "      <td>Travel_Rarely</td>\n",
       "      <td>Sales</td>\n",
       "      <td>1</td>\n",
       "      <td>Life Sciences</td>\n",
       "      <td>1</td>\n",
       "      <td>1</td>\n",
       "      <td>2</td>\n",
       "      <td>Female</td>\n",
       "      <td>3</td>\n",
       "      <td>2</td>\n",
       "      <td>Sales Executive</td>\n",
       "      <td>4</td>\n",
       "      <td>Single</td>\n",
       "      <td>6592.3</td>\n",
       "      <td>8</td>\n",
       "      <td>Y</td>\n",
       "      <td>Yes</td>\n",
       "      <td>11</td>\n",
       "      <td>3</td>\n",
       "      <td>1</td>\n",
       "      <td>0</td>\n",
       "      <td>8</td>\n",
       "      <td>0</td>\n",
       "      <td>1</td>\n",
       "      <td>6</td>\n",
       "      <td>4</td>\n",
       "      <td>0</td>\n",
       "      <td>5</td>\n",
       "    </tr>\n",
       "    <tr>\n",
       "      <th>1</th>\n",
       "      <td>49</td>\n",
       "      <td>No</td>\n",
       "      <td>Travel_Frequently</td>\n",
       "      <td>Research &amp; Development</td>\n",
       "      <td>8</td>\n",
       "      <td>Life Sciences</td>\n",
       "      <td>1</td>\n",
       "      <td>2</td>\n",
       "      <td>3</td>\n",
       "      <td>Male</td>\n",
       "      <td>2</td>\n",
       "      <td>2</td>\n",
       "      <td>Research Scientist</td>\n",
       "      <td>2</td>\n",
       "      <td>Married</td>\n",
       "      <td>5643.0</td>\n",
       "      <td>1</td>\n",
       "      <td>Y</td>\n",
       "      <td>No</td>\n",
       "      <td>23</td>\n",
       "      <td>4</td>\n",
       "      <td>4</td>\n",
       "      <td>1</td>\n",
       "      <td>10</td>\n",
       "      <td>3</td>\n",
       "      <td>3</td>\n",
       "      <td>10</td>\n",
       "      <td>7</td>\n",
       "      <td>1</td>\n",
       "      <td>7</td>\n",
       "    </tr>\n",
       "    <tr>\n",
       "      <th>2</th>\n",
       "      <td>37</td>\n",
       "      <td>Yes</td>\n",
       "      <td>Travel_Rarely</td>\n",
       "      <td>Research &amp; Development</td>\n",
       "      <td>2</td>\n",
       "      <td>Other</td>\n",
       "      <td>1</td>\n",
       "      <td>4</td>\n",
       "      <td>4</td>\n",
       "      <td>Male</td>\n",
       "      <td>2</td>\n",
       "      <td>1</td>\n",
       "      <td>Laboratory Technician</td>\n",
       "      <td>3</td>\n",
       "      <td>Single</td>\n",
       "      <td>2299.0</td>\n",
       "      <td>6</td>\n",
       "      <td>Y</td>\n",
       "      <td>Yes</td>\n",
       "      <td>15</td>\n",
       "      <td>3</td>\n",
       "      <td>2</td>\n",
       "      <td>0</td>\n",
       "      <td>7</td>\n",
       "      <td>3</td>\n",
       "      <td>3</td>\n",
       "      <td>0</td>\n",
       "      <td>0</td>\n",
       "      <td>0</td>\n",
       "      <td>0</td>\n",
       "    </tr>\n",
       "    <tr>\n",
       "      <th>3</th>\n",
       "      <td>33</td>\n",
       "      <td>No</td>\n",
       "      <td>Travel_Frequently</td>\n",
       "      <td>Research &amp; Development</td>\n",
       "      <td>3</td>\n",
       "      <td>Life Sciences</td>\n",
       "      <td>1</td>\n",
       "      <td>5</td>\n",
       "      <td>4</td>\n",
       "      <td>Female</td>\n",
       "      <td>3</td>\n",
       "      <td>1</td>\n",
       "      <td>Research Scientist</td>\n",
       "      <td>3</td>\n",
       "      <td>Married</td>\n",
       "      <td>3199.9</td>\n",
       "      <td>1</td>\n",
       "      <td>Y</td>\n",
       "      <td>Yes</td>\n",
       "      <td>11</td>\n",
       "      <td>3</td>\n",
       "      <td>3</td>\n",
       "      <td>0</td>\n",
       "      <td>8</td>\n",
       "      <td>3</td>\n",
       "      <td>3</td>\n",
       "      <td>8</td>\n",
       "      <td>7</td>\n",
       "      <td>3</td>\n",
       "      <td>0</td>\n",
       "    </tr>\n",
       "    <tr>\n",
       "      <th>4</th>\n",
       "      <td>27</td>\n",
       "      <td>No</td>\n",
       "      <td>Travel_Rarely</td>\n",
       "      <td>Research &amp; Development</td>\n",
       "      <td>2</td>\n",
       "      <td>Medical</td>\n",
       "      <td>1</td>\n",
       "      <td>7</td>\n",
       "      <td>1</td>\n",
       "      <td>Male</td>\n",
       "      <td>3</td>\n",
       "      <td>1</td>\n",
       "      <td>Laboratory Technician</td>\n",
       "      <td>2</td>\n",
       "      <td>Married</td>\n",
       "      <td>3814.8</td>\n",
       "      <td>9</td>\n",
       "      <td>Y</td>\n",
       "      <td>No</td>\n",
       "      <td>12</td>\n",
       "      <td>3</td>\n",
       "      <td>4</td>\n",
       "      <td>1</td>\n",
       "      <td>6</td>\n",
       "      <td>3</td>\n",
       "      <td>3</td>\n",
       "      <td>2</td>\n",
       "      <td>2</td>\n",
       "      <td>2</td>\n",
       "      <td>2</td>\n",
       "    </tr>\n",
       "  </tbody>\n",
       "</table>\n",
       "</div>"
      ],
      "text/plain": [
       "   Age Attrition     BusinessTravel              Department  DistanceFromHome  \\\n",
       "0   41       Yes      Travel_Rarely                   Sales                 1   \n",
       "1   49        No  Travel_Frequently  Research & Development                 8   \n",
       "2   37       Yes      Travel_Rarely  Research & Development                 2   \n",
       "3   33        No  Travel_Frequently  Research & Development                 3   \n",
       "4   27        No      Travel_Rarely  Research & Development                 2   \n",
       "\n",
       "  EducationField  EmployeeCount  EmployeeNumber  EnvironmentSatisfaction  \\\n",
       "0  Life Sciences              1               1                        2   \n",
       "1  Life Sciences              1               2                        3   \n",
       "2          Other              1               4                        4   \n",
       "3  Life Sciences              1               5                        4   \n",
       "4        Medical              1               7                        1   \n",
       "\n",
       "   Gender  JobInvolvement  JobLevel                JobRole  JobSatisfaction  \\\n",
       "0  Female               3         2        Sales Executive                4   \n",
       "1    Male               2         2     Research Scientist                2   \n",
       "2    Male               2         1  Laboratory Technician                3   \n",
       "3  Female               3         1     Research Scientist                3   \n",
       "4    Male               3         1  Laboratory Technician                2   \n",
       "\n",
       "  MaritalStatus  MonthlyIncome  NumCompaniesWorked Over18 OverTime  \\\n",
       "0        Single         6592.3                   8      Y      Yes   \n",
       "1       Married         5643.0                   1      Y       No   \n",
       "2        Single         2299.0                   6      Y      Yes   \n",
       "3       Married         3199.9                   1      Y      Yes   \n",
       "4       Married         3814.8                   9      Y       No   \n",
       "\n",
       "   PercentSalaryHike  PerformanceRating  RelationshipSatisfaction  \\\n",
       "0                 11                  3                         1   \n",
       "1                 23                  4                         4   \n",
       "2                 15                  3                         2   \n",
       "3                 11                  3                         3   \n",
       "4                 12                  3                         4   \n",
       "\n",
       "   StockOptionLevel  TotalWorkingYears  TrainingTimesLastYear  \\\n",
       "0                 0                  8                      0   \n",
       "1                 1                 10                      3   \n",
       "2                 0                  7                      3   \n",
       "3                 0                  8                      3   \n",
       "4                 1                  6                      3   \n",
       "\n",
       "   WorkLifeBalance  YearsAtCompany  YearsInCurrentRole  \\\n",
       "0                1               6                   4   \n",
       "1                3              10                   7   \n",
       "2                3               0                   0   \n",
       "3                3               8                   7   \n",
       "4                3               2                   2   \n",
       "\n",
       "   YearsSinceLastPromotion  YearsWithCurrManager  \n",
       "0                        0                     5  \n",
       "1                        1                     7  \n",
       "2                        0                     0  \n",
       "3                        3                     0  \n",
       "4                        2                     2  "
      ]
     },
     "execution_count": 3,
     "metadata": {},
     "output_type": "execute_result"
    }
   ],
   "source": [
    "raw.head()"
   ]
  },
  {
   "cell_type": "code",
   "execution_count": 4,
   "id": "ff917a0f",
   "metadata": {
    "execution": {
     "iopub.execute_input": "2023-01-12T15:02:12.727325Z",
     "iopub.status.busy": "2023-01-12T15:02:12.726561Z",
     "iopub.status.idle": "2023-01-12T15:02:12.759663Z",
     "shell.execute_reply": "2023-01-12T15:02:12.757514Z"
    },
    "papermill": {
     "duration": 0.063653,
     "end_time": "2023-01-12T15:02:12.763032",
     "exception": false,
     "start_time": "2023-01-12T15:02:12.699379",
     "status": "completed"
    },
    "tags": []
   },
   "outputs": [
    {
     "name": "stdout",
     "output_type": "stream",
     "text": [
      "<class 'pandas.core.frame.DataFrame'>\n",
      "RangeIndex: 1470 entries, 0 to 1469\n",
      "Data columns (total 30 columns):\n",
      " #   Column                    Non-Null Count  Dtype  \n",
      "---  ------                    --------------  -----  \n",
      " 0   Age                       1470 non-null   int64  \n",
      " 1   Attrition                 1470 non-null   object \n",
      " 2   BusinessTravel            1470 non-null   object \n",
      " 3   Department                1470 non-null   object \n",
      " 4   DistanceFromHome          1470 non-null   int64  \n",
      " 5   EducationField            1470 non-null   object \n",
      " 6   EmployeeCount             1470 non-null   int64  \n",
      " 7   EmployeeNumber            1470 non-null   int64  \n",
      " 8   EnvironmentSatisfaction   1470 non-null   int64  \n",
      " 9   Gender                    1470 non-null   object \n",
      " 10  JobInvolvement            1470 non-null   int64  \n",
      " 11  JobLevel                  1470 non-null   int64  \n",
      " 12  JobRole                   1470 non-null   object \n",
      " 13  JobSatisfaction           1470 non-null   int64  \n",
      " 14  MaritalStatus             1470 non-null   object \n",
      " 15  MonthlyIncome             1470 non-null   float64\n",
      " 16  NumCompaniesWorked        1470 non-null   int64  \n",
      " 17  Over18                    1470 non-null   object \n",
      " 18  OverTime                  1470 non-null   object \n",
      " 19  PercentSalaryHike         1470 non-null   int64  \n",
      " 20  PerformanceRating         1470 non-null   int64  \n",
      " 21  RelationshipSatisfaction  1470 non-null   int64  \n",
      " 22  StockOptionLevel          1470 non-null   int64  \n",
      " 23  TotalWorkingYears         1470 non-null   int64  \n",
      " 24  TrainingTimesLastYear     1470 non-null   int64  \n",
      " 25  WorkLifeBalance           1470 non-null   int64  \n",
      " 26  YearsAtCompany            1470 non-null   int64  \n",
      " 27  YearsInCurrentRole        1470 non-null   int64  \n",
      " 28  YearsSinceLastPromotion   1470 non-null   int64  \n",
      " 29  YearsWithCurrManager      1470 non-null   int64  \n",
      "dtypes: float64(1), int64(20), object(9)\n",
      "memory usage: 344.7+ KB\n"
     ]
    }
   ],
   "source": [
    "raw.info()"
   ]
  },
  {
   "cell_type": "markdown",
   "id": "ee672850",
   "metadata": {
    "papermill": {
     "duration": 0.024946,
     "end_time": "2023-01-12T15:02:12.815276",
     "exception": false,
     "start_time": "2023-01-12T15:02:12.790330",
     "status": "completed"
    },
    "tags": []
   },
   "source": [
    "### Missing Values"
   ]
  },
  {
   "cell_type": "code",
   "execution_count": 5,
   "id": "96a2afad",
   "metadata": {
    "execution": {
     "iopub.execute_input": "2023-01-12T15:02:12.868891Z",
     "iopub.status.busy": "2023-01-12T15:02:12.868099Z",
     "iopub.status.idle": "2023-01-12T15:02:12.878754Z",
     "shell.execute_reply": "2023-01-12T15:02:12.877415Z"
    },
    "papermill": {
     "duration": 0.041293,
     "end_time": "2023-01-12T15:02:12.881928",
     "exception": false,
     "start_time": "2023-01-12T15:02:12.840635",
     "status": "completed"
    },
    "tags": []
   },
   "outputs": [
    {
     "data": {
      "text/plain": [
       "Age                         0\n",
       "Attrition                   0\n",
       "BusinessTravel              0\n",
       "Department                  0\n",
       "DistanceFromHome            0\n",
       "EducationField              0\n",
       "EmployeeCount               0\n",
       "EmployeeNumber              0\n",
       "EnvironmentSatisfaction     0\n",
       "Gender                      0\n",
       "JobInvolvement              0\n",
       "JobLevel                    0\n",
       "JobRole                     0\n",
       "JobSatisfaction             0\n",
       "MaritalStatus               0\n",
       "MonthlyIncome               0\n",
       "NumCompaniesWorked          0\n",
       "Over18                      0\n",
       "OverTime                    0\n",
       "PercentSalaryHike           0\n",
       "PerformanceRating           0\n",
       "RelationshipSatisfaction    0\n",
       "StockOptionLevel            0\n",
       "TotalWorkingYears           0\n",
       "TrainingTimesLastYear       0\n",
       "WorkLifeBalance             0\n",
       "YearsAtCompany              0\n",
       "YearsInCurrentRole          0\n",
       "YearsSinceLastPromotion     0\n",
       "YearsWithCurrManager        0\n",
       "dtype: int64"
      ]
     },
     "execution_count": 5,
     "metadata": {},
     "output_type": "execute_result"
    }
   ],
   "source": [
    "raw.isnull().sum()"
   ]
  },
  {
   "cell_type": "markdown",
   "id": "9ff6b060",
   "metadata": {
    "papermill": {
     "duration": 0.028588,
     "end_time": "2023-01-12T15:02:12.935907",
     "exception": false,
     "start_time": "2023-01-12T15:02:12.907319",
     "status": "completed"
    },
    "tags": []
   },
   "source": [
    "### Duplicated Value"
   ]
  },
  {
   "cell_type": "code",
   "execution_count": 6,
   "id": "c6e74b10",
   "metadata": {
    "execution": {
     "iopub.execute_input": "2023-01-12T15:02:12.990207Z",
     "iopub.status.busy": "2023-01-12T15:02:12.989550Z",
     "iopub.status.idle": "2023-01-12T15:02:13.004577Z",
     "shell.execute_reply": "2023-01-12T15:02:13.003217Z"
    },
    "papermill": {
     "duration": 0.044932,
     "end_time": "2023-01-12T15:02:13.007896",
     "exception": false,
     "start_time": "2023-01-12T15:02:12.962964",
     "status": "completed"
    },
    "tags": []
   },
   "outputs": [
    {
     "data": {
      "text/plain": [
       "0"
      ]
     },
     "execution_count": 6,
     "metadata": {},
     "output_type": "execute_result"
    }
   ],
   "source": [
    "raw.duplicated().sum()"
   ]
  },
  {
   "cell_type": "markdown",
   "id": "a304279c",
   "metadata": {
    "papermill": {
     "duration": 0.026954,
     "end_time": "2023-01-12T15:02:13.060810",
     "exception": false,
     "start_time": "2023-01-12T15:02:13.033856",
     "status": "completed"
    },
    "tags": []
   },
   "source": [
    "### Percent Employee in each Dept"
   ]
  },
  {
   "cell_type": "code",
   "execution_count": 7,
   "id": "8665ab8e",
   "metadata": {
    "execution": {
     "iopub.execute_input": "2023-01-12T15:02:13.116668Z",
     "iopub.status.busy": "2023-01-12T15:02:13.115850Z",
     "iopub.status.idle": "2023-01-12T15:02:14.292750Z",
     "shell.execute_reply": "2023-01-12T15:02:14.291419Z"
    },
    "papermill": {
     "duration": 1.207006,
     "end_time": "2023-01-12T15:02:14.295423",
     "exception": false,
     "start_time": "2023-01-12T15:02:13.088417",
     "status": "completed"
    },
    "tags": []
   },
   "outputs": [
    {
     "data": {
      "text/html": [
       "        <script type=\"text/javascript\">\n",
       "        window.PlotlyConfig = {MathJaxConfig: 'local'};\n",
       "        if (window.MathJax && window.MathJax.Hub && window.MathJax.Hub.Config) {window.MathJax.Hub.Config({SVG: {font: \"STIX-Web\"}});}\n",
       "        if (typeof require !== 'undefined') {\n",
       "        require.undef(\"plotly\");\n",
       "        requirejs.config({\n",
       "            paths: {\n",
       "                'plotly': ['https://cdn.plot.ly/plotly-2.16.1.min']\n",
       "            }\n",
       "        });\n",
       "        require(['plotly'], function(Plotly) {\n",
       "            window._Plotly = Plotly;\n",
       "        });\n",
       "        }\n",
       "        </script>\n",
       "        "
      ]
     },
     "metadata": {},
     "output_type": "display_data"
    },
    {
     "data": {
      "text/html": [
       "<div>                            <div id=\"7ea24a10-4048-493f-bf19-675964666aa7\" class=\"plotly-graph-div\" style=\"height:525px; width:100%;\"></div>            <script type=\"text/javascript\">                require([\"plotly\"], function(Plotly) {                    window.PLOTLYENV=window.PLOTLYENV || {};                                    if (document.getElementById(\"7ea24a10-4048-493f-bf19-675964666aa7\")) {                    Plotly.newPlot(                        \"7ea24a10-4048-493f-bf19-675964666aa7\",                        [{\"domain\":{\"x\":[0.0,1.0],\"y\":[0.0,1.0]},\"hovertemplate\":\"label=%{label}<br>value=%{value}<extra></extra>\",\"labels\":[\"Sales\",\"Research & Development\",\"Human Resources\"],\"legendgroup\":\"\",\"name\":\"\",\"showlegend\":true,\"values\":[961,446,63],\"type\":\"pie\"}],                        {\"template\":{\"data\":{\"histogram2dcontour\":[{\"type\":\"histogram2dcontour\",\"colorbar\":{\"outlinewidth\":0,\"ticks\":\"\"},\"colorscale\":[[0.0,\"#0d0887\"],[0.1111111111111111,\"#46039f\"],[0.2222222222222222,\"#7201a8\"],[0.3333333333333333,\"#9c179e\"],[0.4444444444444444,\"#bd3786\"],[0.5555555555555556,\"#d8576b\"],[0.6666666666666666,\"#ed7953\"],[0.7777777777777778,\"#fb9f3a\"],[0.8888888888888888,\"#fdca26\"],[1.0,\"#f0f921\"]]}],\"choropleth\":[{\"type\":\"choropleth\",\"colorbar\":{\"outlinewidth\":0,\"ticks\":\"\"}}],\"histogram2d\":[{\"type\":\"histogram2d\",\"colorbar\":{\"outlinewidth\":0,\"ticks\":\"\"},\"colorscale\":[[0.0,\"#0d0887\"],[0.1111111111111111,\"#46039f\"],[0.2222222222222222,\"#7201a8\"],[0.3333333333333333,\"#9c179e\"],[0.4444444444444444,\"#bd3786\"],[0.5555555555555556,\"#d8576b\"],[0.6666666666666666,\"#ed7953\"],[0.7777777777777778,\"#fb9f3a\"],[0.8888888888888888,\"#fdca26\"],[1.0,\"#f0f921\"]]}],\"heatmap\":[{\"type\":\"heatmap\",\"colorbar\":{\"outlinewidth\":0,\"ticks\":\"\"},\"colorscale\":[[0.0,\"#0d0887\"],[0.1111111111111111,\"#46039f\"],[0.2222222222222222,\"#7201a8\"],[0.3333333333333333,\"#9c179e\"],[0.4444444444444444,\"#bd3786\"],[0.5555555555555556,\"#d8576b\"],[0.6666666666666666,\"#ed7953\"],[0.7777777777777778,\"#fb9f3a\"],[0.8888888888888888,\"#fdca26\"],[1.0,\"#f0f921\"]]}],\"heatmapgl\":[{\"type\":\"heatmapgl\",\"colorbar\":{\"outlinewidth\":0,\"ticks\":\"\"},\"colorscale\":[[0.0,\"#0d0887\"],[0.1111111111111111,\"#46039f\"],[0.2222222222222222,\"#7201a8\"],[0.3333333333333333,\"#9c179e\"],[0.4444444444444444,\"#bd3786\"],[0.5555555555555556,\"#d8576b\"],[0.6666666666666666,\"#ed7953\"],[0.7777777777777778,\"#fb9f3a\"],[0.8888888888888888,\"#fdca26\"],[1.0,\"#f0f921\"]]}],\"contourcarpet\":[{\"type\":\"contourcarpet\",\"colorbar\":{\"outlinewidth\":0,\"ticks\":\"\"}}],\"contour\":[{\"type\":\"contour\",\"colorbar\":{\"outlinewidth\":0,\"ticks\":\"\"},\"colorscale\":[[0.0,\"#0d0887\"],[0.1111111111111111,\"#46039f\"],[0.2222222222222222,\"#7201a8\"],[0.3333333333333333,\"#9c179e\"],[0.4444444444444444,\"#bd3786\"],[0.5555555555555556,\"#d8576b\"],[0.6666666666666666,\"#ed7953\"],[0.7777777777777778,\"#fb9f3a\"],[0.8888888888888888,\"#fdca26\"],[1.0,\"#f0f921\"]]}],\"surface\":[{\"type\":\"surface\",\"colorbar\":{\"outlinewidth\":0,\"ticks\":\"\"},\"colorscale\":[[0.0,\"#0d0887\"],[0.1111111111111111,\"#46039f\"],[0.2222222222222222,\"#7201a8\"],[0.3333333333333333,\"#9c179e\"],[0.4444444444444444,\"#bd3786\"],[0.5555555555555556,\"#d8576b\"],[0.6666666666666666,\"#ed7953\"],[0.7777777777777778,\"#fb9f3a\"],[0.8888888888888888,\"#fdca26\"],[1.0,\"#f0f921\"]]}],\"mesh3d\":[{\"type\":\"mesh3d\",\"colorbar\":{\"outlinewidth\":0,\"ticks\":\"\"}}],\"scatter\":[{\"fillpattern\":{\"fillmode\":\"overlay\",\"size\":10,\"solidity\":0.2},\"type\":\"scatter\"}],\"parcoords\":[{\"type\":\"parcoords\",\"line\":{\"colorbar\":{\"outlinewidth\":0,\"ticks\":\"\"}}}],\"scatterpolargl\":[{\"type\":\"scatterpolargl\",\"marker\":{\"colorbar\":{\"outlinewidth\":0,\"ticks\":\"\"}}}],\"bar\":[{\"error_x\":{\"color\":\"#2a3f5f\"},\"error_y\":{\"color\":\"#2a3f5f\"},\"marker\":{\"line\":{\"color\":\"#E5ECF6\",\"width\":0.5},\"pattern\":{\"fillmode\":\"overlay\",\"size\":10,\"solidity\":0.2}},\"type\":\"bar\"}],\"scattergeo\":[{\"type\":\"scattergeo\",\"marker\":{\"colorbar\":{\"outlinewidth\":0,\"ticks\":\"\"}}}],\"scatterpolar\":[{\"type\":\"scatterpolar\",\"marker\":{\"colorbar\":{\"outlinewidth\":0,\"ticks\":\"\"}}}],\"histogram\":[{\"marker\":{\"pattern\":{\"fillmode\":\"overlay\",\"size\":10,\"solidity\":0.2}},\"type\":\"histogram\"}],\"scattergl\":[{\"type\":\"scattergl\",\"marker\":{\"colorbar\":{\"outlinewidth\":0,\"ticks\":\"\"}}}],\"scatter3d\":[{\"type\":\"scatter3d\",\"line\":{\"colorbar\":{\"outlinewidth\":0,\"ticks\":\"\"}},\"marker\":{\"colorbar\":{\"outlinewidth\":0,\"ticks\":\"\"}}}],\"scattermapbox\":[{\"type\":\"scattermapbox\",\"marker\":{\"colorbar\":{\"outlinewidth\":0,\"ticks\":\"\"}}}],\"scatterternary\":[{\"type\":\"scatterternary\",\"marker\":{\"colorbar\":{\"outlinewidth\":0,\"ticks\":\"\"}}}],\"scattercarpet\":[{\"type\":\"scattercarpet\",\"marker\":{\"colorbar\":{\"outlinewidth\":0,\"ticks\":\"\"}}}],\"carpet\":[{\"aaxis\":{\"endlinecolor\":\"#2a3f5f\",\"gridcolor\":\"white\",\"linecolor\":\"white\",\"minorgridcolor\":\"white\",\"startlinecolor\":\"#2a3f5f\"},\"baxis\":{\"endlinecolor\":\"#2a3f5f\",\"gridcolor\":\"white\",\"linecolor\":\"white\",\"minorgridcolor\":\"white\",\"startlinecolor\":\"#2a3f5f\"},\"type\":\"carpet\"}],\"table\":[{\"cells\":{\"fill\":{\"color\":\"#EBF0F8\"},\"line\":{\"color\":\"white\"}},\"header\":{\"fill\":{\"color\":\"#C8D4E3\"},\"line\":{\"color\":\"white\"}},\"type\":\"table\"}],\"barpolar\":[{\"marker\":{\"line\":{\"color\":\"#E5ECF6\",\"width\":0.5},\"pattern\":{\"fillmode\":\"overlay\",\"size\":10,\"solidity\":0.2}},\"type\":\"barpolar\"}],\"pie\":[{\"automargin\":true,\"type\":\"pie\"}]},\"layout\":{\"autotypenumbers\":\"strict\",\"colorway\":[\"#636efa\",\"#EF553B\",\"#00cc96\",\"#ab63fa\",\"#FFA15A\",\"#19d3f3\",\"#FF6692\",\"#B6E880\",\"#FF97FF\",\"#FECB52\"],\"font\":{\"color\":\"#2a3f5f\"},\"hovermode\":\"closest\",\"hoverlabel\":{\"align\":\"left\"},\"paper_bgcolor\":\"white\",\"plot_bgcolor\":\"#E5ECF6\",\"polar\":{\"bgcolor\":\"#E5ECF6\",\"angularaxis\":{\"gridcolor\":\"white\",\"linecolor\":\"white\",\"ticks\":\"\"},\"radialaxis\":{\"gridcolor\":\"white\",\"linecolor\":\"white\",\"ticks\":\"\"}},\"ternary\":{\"bgcolor\":\"#E5ECF6\",\"aaxis\":{\"gridcolor\":\"white\",\"linecolor\":\"white\",\"ticks\":\"\"},\"baxis\":{\"gridcolor\":\"white\",\"linecolor\":\"white\",\"ticks\":\"\"},\"caxis\":{\"gridcolor\":\"white\",\"linecolor\":\"white\",\"ticks\":\"\"}},\"coloraxis\":{\"colorbar\":{\"outlinewidth\":0,\"ticks\":\"\"}},\"colorscale\":{\"sequential\":[[0.0,\"#0d0887\"],[0.1111111111111111,\"#46039f\"],[0.2222222222222222,\"#7201a8\"],[0.3333333333333333,\"#9c179e\"],[0.4444444444444444,\"#bd3786\"],[0.5555555555555556,\"#d8576b\"],[0.6666666666666666,\"#ed7953\"],[0.7777777777777778,\"#fb9f3a\"],[0.8888888888888888,\"#fdca26\"],[1.0,\"#f0f921\"]],\"sequentialminus\":[[0.0,\"#0d0887\"],[0.1111111111111111,\"#46039f\"],[0.2222222222222222,\"#7201a8\"],[0.3333333333333333,\"#9c179e\"],[0.4444444444444444,\"#bd3786\"],[0.5555555555555556,\"#d8576b\"],[0.6666666666666666,\"#ed7953\"],[0.7777777777777778,\"#fb9f3a\"],[0.8888888888888888,\"#fdca26\"],[1.0,\"#f0f921\"]],\"diverging\":[[0,\"#8e0152\"],[0.1,\"#c51b7d\"],[0.2,\"#de77ae\"],[0.3,\"#f1b6da\"],[0.4,\"#fde0ef\"],[0.5,\"#f7f7f7\"],[0.6,\"#e6f5d0\"],[0.7,\"#b8e186\"],[0.8,\"#7fbc41\"],[0.9,\"#4d9221\"],[1,\"#276419\"]]},\"xaxis\":{\"gridcolor\":\"white\",\"linecolor\":\"white\",\"ticks\":\"\",\"title\":{\"standoff\":15},\"zerolinecolor\":\"white\",\"automargin\":true,\"zerolinewidth\":2},\"yaxis\":{\"gridcolor\":\"white\",\"linecolor\":\"white\",\"ticks\":\"\",\"title\":{\"standoff\":15},\"zerolinecolor\":\"white\",\"automargin\":true,\"zerolinewidth\":2},\"scene\":{\"xaxis\":{\"backgroundcolor\":\"#E5ECF6\",\"gridcolor\":\"white\",\"linecolor\":\"white\",\"showbackground\":true,\"ticks\":\"\",\"zerolinecolor\":\"white\",\"gridwidth\":2},\"yaxis\":{\"backgroundcolor\":\"#E5ECF6\",\"gridcolor\":\"white\",\"linecolor\":\"white\",\"showbackground\":true,\"ticks\":\"\",\"zerolinecolor\":\"white\",\"gridwidth\":2},\"zaxis\":{\"backgroundcolor\":\"#E5ECF6\",\"gridcolor\":\"white\",\"linecolor\":\"white\",\"showbackground\":true,\"ticks\":\"\",\"zerolinecolor\":\"white\",\"gridwidth\":2}},\"shapedefaults\":{\"line\":{\"color\":\"#2a3f5f\"}},\"annotationdefaults\":{\"arrowcolor\":\"#2a3f5f\",\"arrowhead\":0,\"arrowwidth\":1},\"geo\":{\"bgcolor\":\"white\",\"landcolor\":\"#E5ECF6\",\"subunitcolor\":\"white\",\"showland\":true,\"showlakes\":true,\"lakecolor\":\"white\"},\"title\":{\"x\":0.05},\"mapbox\":{\"style\":\"light\"}}},\"legend\":{\"tracegroupgap\":0},\"margin\":{\"t\":60}},                        {\"responsive\": true}                    ).then(function(){\n",
       "                            \n",
       "var gd = document.getElementById('7ea24a10-4048-493f-bf19-675964666aa7');\n",
       "var x = new MutationObserver(function (mutations, observer) {{\n",
       "        var display = window.getComputedStyle(gd).display;\n",
       "        if (!display || display === 'none') {{\n",
       "            console.log([gd, 'removed!']);\n",
       "            Plotly.purge(gd);\n",
       "            observer.disconnect();\n",
       "        }}\n",
       "}});\n",
       "\n",
       "// Listen for the removal of the full notebook cells\n",
       "var notebookContainer = gd.closest('#notebook-container');\n",
       "if (notebookContainer) {{\n",
       "    x.observe(notebookContainer, {childList: true});\n",
       "}}\n",
       "\n",
       "// Listen for the clearing of the current output cell\n",
       "var outputEl = gd.closest('.output');\n",
       "if (outputEl) {{\n",
       "    x.observe(outputEl, {childList: true});\n",
       "}}\n",
       "\n",
       "                        })                };                });            </script>        </div>"
      ]
     },
     "metadata": {},
     "output_type": "display_data"
    }
   ],
   "source": [
    "px.pie(data_frame=raw, names=raw.Department.unique(),values=raw.Department.value_counts())"
   ]
  },
  {
   "cell_type": "markdown",
   "id": "c45fd2a5",
   "metadata": {
    "papermill": {
     "duration": 0.025729,
     "end_time": "2023-01-12T15:02:14.348405",
     "exception": false,
     "start_time": "2023-01-12T15:02:14.322676",
     "status": "completed"
    },
    "tags": []
   },
   "source": [
    "### Attrition Rate by Department Compared with Industry"
   ]
  },
  {
   "cell_type": "code",
   "execution_count": 8,
   "id": "40fcda23",
   "metadata": {
    "execution": {
     "iopub.execute_input": "2023-01-12T15:02:14.404469Z",
     "iopub.status.busy": "2023-01-12T15:02:14.403596Z",
     "iopub.status.idle": "2023-01-12T15:02:14.430076Z",
     "shell.execute_reply": "2023-01-12T15:02:14.428722Z"
    },
    "jupyter": {
     "source_hidden": true
    },
    "papermill": {
     "duration": 0.058637,
     "end_time": "2023-01-12T15:02:14.433006",
     "exception": false,
     "start_time": "2023-01-12T15:02:14.374369",
     "status": "completed"
    },
    "tags": []
   },
   "outputs": [],
   "source": [
    "dept_att = pd.pivot_table(data=raw, index=\"Department\", columns=\"Attrition\", values=\"EmployeeCount\", aggfunc=np.sum)"
   ]
  },
  {
   "cell_type": "code",
   "execution_count": 9,
   "id": "61dbd5bc",
   "metadata": {
    "execution": {
     "iopub.execute_input": "2023-01-12T15:02:14.486877Z",
     "iopub.status.busy": "2023-01-12T15:02:14.486401Z",
     "iopub.status.idle": "2023-01-12T15:02:14.495478Z",
     "shell.execute_reply": "2023-01-12T15:02:14.494201Z"
    },
    "jupyter": {
     "source_hidden": true
    },
    "papermill": {
     "duration": 0.038575,
     "end_time": "2023-01-12T15:02:14.497989",
     "exception": false,
     "start_time": "2023-01-12T15:02:14.459414",
     "status": "completed"
    },
    "tags": []
   },
   "outputs": [],
   "source": [
    "dept_att[\"Yes Perc\"] = dept_att.Yes/(dept_att.Yes + dept_att.No)*100\n",
    "dept_att[\"No Perc\"] = 100 - dept_att[\"Yes Perc\"]"
   ]
  },
  {
   "cell_type": "code",
   "execution_count": 10,
   "id": "1d24fc7d",
   "metadata": {
    "execution": {
     "iopub.execute_input": "2023-01-12T15:02:14.554846Z",
     "iopub.status.busy": "2023-01-12T15:02:14.554397Z",
     "iopub.status.idle": "2023-01-12T15:02:14.565545Z",
     "shell.execute_reply": "2023-01-12T15:02:14.564625Z"
    },
    "jupyter": {
     "source_hidden": true
    },
    "papermill": {
     "duration": 0.043104,
     "end_time": "2023-01-12T15:02:14.567933",
     "exception": false,
     "start_time": "2023-01-12T15:02:14.524829",
     "status": "completed"
    },
    "tags": []
   },
   "outputs": [
    {
     "data": {
      "text/html": [
       "<div>\n",
       "<style scoped>\n",
       "    .dataframe tbody tr th:only-of-type {\n",
       "        vertical-align: middle;\n",
       "    }\n",
       "\n",
       "    .dataframe tbody tr th {\n",
       "        vertical-align: top;\n",
       "    }\n",
       "\n",
       "    .dataframe thead th {\n",
       "        text-align: right;\n",
       "    }\n",
       "</style>\n",
       "<table border=\"1\" class=\"dataframe\">\n",
       "  <thead>\n",
       "    <tr style=\"text-align: right;\">\n",
       "      <th>Attrition</th>\n",
       "      <th>No</th>\n",
       "      <th>Yes</th>\n",
       "      <th>Yes Perc</th>\n",
       "      <th>No Perc</th>\n",
       "    </tr>\n",
       "    <tr>\n",
       "      <th>Department</th>\n",
       "      <th></th>\n",
       "      <th></th>\n",
       "      <th></th>\n",
       "      <th></th>\n",
       "    </tr>\n",
       "  </thead>\n",
       "  <tbody>\n",
       "    <tr>\n",
       "      <th>Human Resources</th>\n",
       "      <td>51</td>\n",
       "      <td>12</td>\n",
       "      <td>19.047619</td>\n",
       "      <td>80.952381</td>\n",
       "    </tr>\n",
       "    <tr>\n",
       "      <th>Research &amp; Development</th>\n",
       "      <td>828</td>\n",
       "      <td>133</td>\n",
       "      <td>13.839750</td>\n",
       "      <td>86.160250</td>\n",
       "    </tr>\n",
       "    <tr>\n",
       "      <th>Sales</th>\n",
       "      <td>354</td>\n",
       "      <td>92</td>\n",
       "      <td>20.627803</td>\n",
       "      <td>79.372197</td>\n",
       "    </tr>\n",
       "  </tbody>\n",
       "</table>\n",
       "</div>"
      ],
      "text/plain": [
       "Attrition                No  Yes   Yes Perc    No Perc\n",
       "Department                                            \n",
       "Human Resources          51   12  19.047619  80.952381\n",
       "Research & Development  828  133  13.839750  86.160250\n",
       "Sales                   354   92  20.627803  79.372197"
      ]
     },
     "execution_count": 10,
     "metadata": {},
     "output_type": "execute_result"
    }
   ],
   "source": [
    "dept_att"
   ]
  },
  {
   "cell_type": "code",
   "execution_count": 11,
   "id": "f69ce838",
   "metadata": {
    "execution": {
     "iopub.execute_input": "2023-01-12T15:02:14.623155Z",
     "iopub.status.busy": "2023-01-12T15:02:14.622495Z",
     "iopub.status.idle": "2023-01-12T15:02:14.629273Z",
     "shell.execute_reply": "2023-01-12T15:02:14.628242Z"
    },
    "jupyter": {
     "source_hidden": true
    },
    "papermill": {
     "duration": 0.037524,
     "end_time": "2023-01-12T15:02:14.631714",
     "exception": false,
     "start_time": "2023-01-12T15:02:14.594190",
     "status": "completed"
    },
    "tags": []
   },
   "outputs": [],
   "source": [
    "industry_att_dept = pd.DataFrame(columns=[\"Yes Perc\"], index=raw.Department.unique(), data = [15, 15, 20])"
   ]
  },
  {
   "cell_type": "code",
   "execution_count": 12,
   "id": "2c066b6e",
   "metadata": {
    "execution": {
     "iopub.execute_input": "2023-01-12T15:02:14.685789Z",
     "iopub.status.busy": "2023-01-12T15:02:14.685417Z",
     "iopub.status.idle": "2023-01-12T15:02:14.691173Z",
     "shell.execute_reply": "2023-01-12T15:02:14.689989Z"
    },
    "jupyter": {
     "source_hidden": true
    },
    "papermill": {
     "duration": 0.035591,
     "end_time": "2023-01-12T15:02:14.693610",
     "exception": false,
     "start_time": "2023-01-12T15:02:14.658019",
     "status": "completed"
    },
    "tags": []
   },
   "outputs": [],
   "source": [
    "industry_att_dept[\"No Perc\"] = 100 - industry_att_dept[\"Yes Perc\"]"
   ]
  },
  {
   "cell_type": "code",
   "execution_count": 13,
   "id": "16f7960f",
   "metadata": {
    "execution": {
     "iopub.execute_input": "2023-01-12T15:02:14.748972Z",
     "iopub.status.busy": "2023-01-12T15:02:14.748548Z",
     "iopub.status.idle": "2023-01-12T15:02:14.753847Z",
     "shell.execute_reply": "2023-01-12T15:02:14.752455Z"
    },
    "jupyter": {
     "source_hidden": true
    },
    "papermill": {
     "duration": 0.036035,
     "end_time": "2023-01-12T15:02:14.756435",
     "exception": false,
     "start_time": "2023-01-12T15:02:14.720400",
     "status": "completed"
    },
    "tags": []
   },
   "outputs": [],
   "source": [
    "industry_att_dept.index.rename(\"Department\", inplace=True)"
   ]
  },
  {
   "cell_type": "code",
   "execution_count": 14,
   "id": "da5c689b",
   "metadata": {
    "execution": {
     "iopub.execute_input": "2023-01-12T15:02:14.810871Z",
     "iopub.status.busy": "2023-01-12T15:02:14.810480Z",
     "iopub.status.idle": "2023-01-12T15:02:14.820197Z",
     "shell.execute_reply": "2023-01-12T15:02:14.819001Z"
    },
    "jupyter": {
     "source_hidden": true
    },
    "papermill": {
     "duration": 0.039293,
     "end_time": "2023-01-12T15:02:14.822480",
     "exception": false,
     "start_time": "2023-01-12T15:02:14.783187",
     "status": "completed"
    },
    "tags": []
   },
   "outputs": [
    {
     "data": {
      "text/html": [
       "<div>\n",
       "<style scoped>\n",
       "    .dataframe tbody tr th:only-of-type {\n",
       "        vertical-align: middle;\n",
       "    }\n",
       "\n",
       "    .dataframe tbody tr th {\n",
       "        vertical-align: top;\n",
       "    }\n",
       "\n",
       "    .dataframe thead th {\n",
       "        text-align: right;\n",
       "    }\n",
       "</style>\n",
       "<table border=\"1\" class=\"dataframe\">\n",
       "  <thead>\n",
       "    <tr style=\"text-align: right;\">\n",
       "      <th></th>\n",
       "      <th>Yes Perc</th>\n",
       "      <th>No Perc</th>\n",
       "    </tr>\n",
       "    <tr>\n",
       "      <th>Department</th>\n",
       "      <th></th>\n",
       "      <th></th>\n",
       "    </tr>\n",
       "  </thead>\n",
       "  <tbody>\n",
       "    <tr>\n",
       "      <th>Sales</th>\n",
       "      <td>15</td>\n",
       "      <td>85</td>\n",
       "    </tr>\n",
       "    <tr>\n",
       "      <th>Research &amp; Development</th>\n",
       "      <td>15</td>\n",
       "      <td>85</td>\n",
       "    </tr>\n",
       "    <tr>\n",
       "      <th>Human Resources</th>\n",
       "      <td>20</td>\n",
       "      <td>80</td>\n",
       "    </tr>\n",
       "  </tbody>\n",
       "</table>\n",
       "</div>"
      ],
      "text/plain": [
       "                        Yes Perc  No Perc\n",
       "Department                               \n",
       "Sales                         15       85\n",
       "Research & Development        15       85\n",
       "Human Resources               20       80"
      ]
     },
     "execution_count": 14,
     "metadata": {},
     "output_type": "execute_result"
    }
   ],
   "source": [
    "industry_att_dept"
   ]
  },
  {
   "cell_type": "code",
   "execution_count": 15,
   "id": "b0995cc5",
   "metadata": {
    "execution": {
     "iopub.execute_input": "2023-01-12T15:02:14.877632Z",
     "iopub.status.busy": "2023-01-12T15:02:14.877216Z",
     "iopub.status.idle": "2023-01-12T15:02:14.891572Z",
     "shell.execute_reply": "2023-01-12T15:02:14.890527Z"
    },
    "jupyter": {
     "source_hidden": true
    },
    "papermill": {
     "duration": 0.044652,
     "end_time": "2023-01-12T15:02:14.894131",
     "exception": false,
     "start_time": "2023-01-12T15:02:14.849479",
     "status": "completed"
    },
    "tags": []
   },
   "outputs": [],
   "source": [
    "dept_att_compare = dept_att.merge(industry_att_dept, how=\"inner\", on=\"Department\",suffixes=[\"_summit\", \"_industry\"])"
   ]
  },
  {
   "cell_type": "code",
   "execution_count": 16,
   "id": "2e8eebd0",
   "metadata": {
    "execution": {
     "iopub.execute_input": "2023-01-12T15:02:14.949606Z",
     "iopub.status.busy": "2023-01-12T15:02:14.948580Z",
     "iopub.status.idle": "2023-01-12T15:02:14.961727Z",
     "shell.execute_reply": "2023-01-12T15:02:14.960548Z"
    },
    "jupyter": {
     "source_hidden": true
    },
    "papermill": {
     "duration": 0.043505,
     "end_time": "2023-01-12T15:02:14.964379",
     "exception": false,
     "start_time": "2023-01-12T15:02:14.920874",
     "status": "completed"
    },
    "tags": []
   },
   "outputs": [
    {
     "data": {
      "text/html": [
       "<div>\n",
       "<style scoped>\n",
       "    .dataframe tbody tr th:only-of-type {\n",
       "        vertical-align: middle;\n",
       "    }\n",
       "\n",
       "    .dataframe tbody tr th {\n",
       "        vertical-align: top;\n",
       "    }\n",
       "\n",
       "    .dataframe thead th {\n",
       "        text-align: right;\n",
       "    }\n",
       "</style>\n",
       "<table border=\"1\" class=\"dataframe\">\n",
       "  <thead>\n",
       "    <tr style=\"text-align: right;\">\n",
       "      <th></th>\n",
       "      <th>No</th>\n",
       "      <th>Yes</th>\n",
       "      <th>Yes Perc_summit</th>\n",
       "      <th>No Perc_summit</th>\n",
       "      <th>Yes Perc_industry</th>\n",
       "      <th>No Perc_industry</th>\n",
       "    </tr>\n",
       "    <tr>\n",
       "      <th>Department</th>\n",
       "      <th></th>\n",
       "      <th></th>\n",
       "      <th></th>\n",
       "      <th></th>\n",
       "      <th></th>\n",
       "      <th></th>\n",
       "    </tr>\n",
       "  </thead>\n",
       "  <tbody>\n",
       "    <tr>\n",
       "      <th>Human Resources</th>\n",
       "      <td>51</td>\n",
       "      <td>12</td>\n",
       "      <td>19.047619</td>\n",
       "      <td>80.952381</td>\n",
       "      <td>20</td>\n",
       "      <td>80</td>\n",
       "    </tr>\n",
       "    <tr>\n",
       "      <th>Research &amp; Development</th>\n",
       "      <td>828</td>\n",
       "      <td>133</td>\n",
       "      <td>13.839750</td>\n",
       "      <td>86.160250</td>\n",
       "      <td>15</td>\n",
       "      <td>85</td>\n",
       "    </tr>\n",
       "    <tr>\n",
       "      <th>Sales</th>\n",
       "      <td>354</td>\n",
       "      <td>92</td>\n",
       "      <td>20.627803</td>\n",
       "      <td>79.372197</td>\n",
       "      <td>15</td>\n",
       "      <td>85</td>\n",
       "    </tr>\n",
       "  </tbody>\n",
       "</table>\n",
       "</div>"
      ],
      "text/plain": [
       "                         No  Yes  Yes Perc_summit  No Perc_summit  \\\n",
       "Department                                                          \n",
       "Human Resources          51   12        19.047619       80.952381   \n",
       "Research & Development  828  133        13.839750       86.160250   \n",
       "Sales                   354   92        20.627803       79.372197   \n",
       "\n",
       "                        Yes Perc_industry  No Perc_industry  \n",
       "Department                                                   \n",
       "Human Resources                        20                80  \n",
       "Research & Development                 15                85  \n",
       "Sales                                  15                85  "
      ]
     },
     "execution_count": 16,
     "metadata": {},
     "output_type": "execute_result"
    }
   ],
   "source": [
    "dept_att_compare"
   ]
  },
  {
   "cell_type": "code",
   "execution_count": 17,
   "id": "abe8396f",
   "metadata": {
    "execution": {
     "iopub.execute_input": "2023-01-12T15:02:15.018752Z",
     "iopub.status.busy": "2023-01-12T15:02:15.018362Z",
     "iopub.status.idle": "2023-01-12T15:02:15.127054Z",
     "shell.execute_reply": "2023-01-12T15:02:15.125847Z"
    },
    "papermill": {
     "duration": 0.139469,
     "end_time": "2023-01-12T15:02:15.129961",
     "exception": false,
     "start_time": "2023-01-12T15:02:14.990492",
     "status": "completed"
    },
    "tags": []
   },
   "outputs": [
    {
     "data": {
      "text/html": [
       "<div>                            <div id=\"d4d32a89-7696-4b97-8a99-0fe3d18a9396\" class=\"plotly-graph-div\" style=\"height:525px; width:100%;\"></div>            <script type=\"text/javascript\">                require([\"plotly\"], function(Plotly) {                    window.PLOTLYENV=window.PLOTLYENV || {};                                    if (document.getElementById(\"d4d32a89-7696-4b97-8a99-0fe3d18a9396\")) {                    Plotly.newPlot(                        \"d4d32a89-7696-4b97-8a99-0fe3d18a9396\",                        [{\"alignmentgroup\":\"True\",\"hovertemplate\":\"variable=Yes Perc_industry<br>Department=%{x}<br>value=%{y}<extra></extra>\",\"legendgroup\":\"Yes Perc_industry\",\"marker\":{\"color\":\"#636efa\",\"pattern\":{\"shape\":\"\"}},\"name\":\"Yes Perc_industry\",\"offsetgroup\":\"Yes Perc_industry\",\"orientation\":\"v\",\"showlegend\":true,\"textposition\":\"auto\",\"x\":[\"Human Resources\",\"Research & Development\",\"Sales\"],\"xaxis\":\"x\",\"y\":[20.0,15.0,15.0],\"yaxis\":\"y\",\"type\":\"bar\"},{\"alignmentgroup\":\"True\",\"hovertemplate\":\"variable=Yes Perc_summit<br>Department=%{x}<br>value=%{y}<extra></extra>\",\"legendgroup\":\"Yes Perc_summit\",\"marker\":{\"color\":\"#EF553B\",\"pattern\":{\"shape\":\"\"}},\"name\":\"Yes Perc_summit\",\"offsetgroup\":\"Yes Perc_summit\",\"orientation\":\"v\",\"showlegend\":true,\"textposition\":\"auto\",\"x\":[\"Human Resources\",\"Research & Development\",\"Sales\"],\"xaxis\":\"x\",\"y\":[19.047619047619047,13.839750260145681,20.62780269058296],\"yaxis\":\"y\",\"type\":\"bar\"}],                        {\"template\":{\"data\":{\"histogram2dcontour\":[{\"type\":\"histogram2dcontour\",\"colorbar\":{\"outlinewidth\":0,\"ticks\":\"\"},\"colorscale\":[[0.0,\"#0d0887\"],[0.1111111111111111,\"#46039f\"],[0.2222222222222222,\"#7201a8\"],[0.3333333333333333,\"#9c179e\"],[0.4444444444444444,\"#bd3786\"],[0.5555555555555556,\"#d8576b\"],[0.6666666666666666,\"#ed7953\"],[0.7777777777777778,\"#fb9f3a\"],[0.8888888888888888,\"#fdca26\"],[1.0,\"#f0f921\"]]}],\"choropleth\":[{\"type\":\"choropleth\",\"colorbar\":{\"outlinewidth\":0,\"ticks\":\"\"}}],\"histogram2d\":[{\"type\":\"histogram2d\",\"colorbar\":{\"outlinewidth\":0,\"ticks\":\"\"},\"colorscale\":[[0.0,\"#0d0887\"],[0.1111111111111111,\"#46039f\"],[0.2222222222222222,\"#7201a8\"],[0.3333333333333333,\"#9c179e\"],[0.4444444444444444,\"#bd3786\"],[0.5555555555555556,\"#d8576b\"],[0.6666666666666666,\"#ed7953\"],[0.7777777777777778,\"#fb9f3a\"],[0.8888888888888888,\"#fdca26\"],[1.0,\"#f0f921\"]]}],\"heatmap\":[{\"type\":\"heatmap\",\"colorbar\":{\"outlinewidth\":0,\"ticks\":\"\"},\"colorscale\":[[0.0,\"#0d0887\"],[0.1111111111111111,\"#46039f\"],[0.2222222222222222,\"#7201a8\"],[0.3333333333333333,\"#9c179e\"],[0.4444444444444444,\"#bd3786\"],[0.5555555555555556,\"#d8576b\"],[0.6666666666666666,\"#ed7953\"],[0.7777777777777778,\"#fb9f3a\"],[0.8888888888888888,\"#fdca26\"],[1.0,\"#f0f921\"]]}],\"heatmapgl\":[{\"type\":\"heatmapgl\",\"colorbar\":{\"outlinewidth\":0,\"ticks\":\"\"},\"colorscale\":[[0.0,\"#0d0887\"],[0.1111111111111111,\"#46039f\"],[0.2222222222222222,\"#7201a8\"],[0.3333333333333333,\"#9c179e\"],[0.4444444444444444,\"#bd3786\"],[0.5555555555555556,\"#d8576b\"],[0.6666666666666666,\"#ed7953\"],[0.7777777777777778,\"#fb9f3a\"],[0.8888888888888888,\"#fdca26\"],[1.0,\"#f0f921\"]]}],\"contourcarpet\":[{\"type\":\"contourcarpet\",\"colorbar\":{\"outlinewidth\":0,\"ticks\":\"\"}}],\"contour\":[{\"type\":\"contour\",\"colorbar\":{\"outlinewidth\":0,\"ticks\":\"\"},\"colorscale\":[[0.0,\"#0d0887\"],[0.1111111111111111,\"#46039f\"],[0.2222222222222222,\"#7201a8\"],[0.3333333333333333,\"#9c179e\"],[0.4444444444444444,\"#bd3786\"],[0.5555555555555556,\"#d8576b\"],[0.6666666666666666,\"#ed7953\"],[0.7777777777777778,\"#fb9f3a\"],[0.8888888888888888,\"#fdca26\"],[1.0,\"#f0f921\"]]}],\"surface\":[{\"type\":\"surface\",\"colorbar\":{\"outlinewidth\":0,\"ticks\":\"\"},\"colorscale\":[[0.0,\"#0d0887\"],[0.1111111111111111,\"#46039f\"],[0.2222222222222222,\"#7201a8\"],[0.3333333333333333,\"#9c179e\"],[0.4444444444444444,\"#bd3786\"],[0.5555555555555556,\"#d8576b\"],[0.6666666666666666,\"#ed7953\"],[0.7777777777777778,\"#fb9f3a\"],[0.8888888888888888,\"#fdca26\"],[1.0,\"#f0f921\"]]}],\"mesh3d\":[{\"type\":\"mesh3d\",\"colorbar\":{\"outlinewidth\":0,\"ticks\":\"\"}}],\"scatter\":[{\"fillpattern\":{\"fillmode\":\"overlay\",\"size\":10,\"solidity\":0.2},\"type\":\"scatter\"}],\"parcoords\":[{\"type\":\"parcoords\",\"line\":{\"colorbar\":{\"outlinewidth\":0,\"ticks\":\"\"}}}],\"scatterpolargl\":[{\"type\":\"scatterpolargl\",\"marker\":{\"colorbar\":{\"outlinewidth\":0,\"ticks\":\"\"}}}],\"bar\":[{\"error_x\":{\"color\":\"#2a3f5f\"},\"error_y\":{\"color\":\"#2a3f5f\"},\"marker\":{\"line\":{\"color\":\"#E5ECF6\",\"width\":0.5},\"pattern\":{\"fillmode\":\"overlay\",\"size\":10,\"solidity\":0.2}},\"type\":\"bar\"}],\"scattergeo\":[{\"type\":\"scattergeo\",\"marker\":{\"colorbar\":{\"outlinewidth\":0,\"ticks\":\"\"}}}],\"scatterpolar\":[{\"type\":\"scatterpolar\",\"marker\":{\"colorbar\":{\"outlinewidth\":0,\"ticks\":\"\"}}}],\"histogram\":[{\"marker\":{\"pattern\":{\"fillmode\":\"overlay\",\"size\":10,\"solidity\":0.2}},\"type\":\"histogram\"}],\"scattergl\":[{\"type\":\"scattergl\",\"marker\":{\"colorbar\":{\"outlinewidth\":0,\"ticks\":\"\"}}}],\"scatter3d\":[{\"type\":\"scatter3d\",\"line\":{\"colorbar\":{\"outlinewidth\":0,\"ticks\":\"\"}},\"marker\":{\"colorbar\":{\"outlinewidth\":0,\"ticks\":\"\"}}}],\"scattermapbox\":[{\"type\":\"scattermapbox\",\"marker\":{\"colorbar\":{\"outlinewidth\":0,\"ticks\":\"\"}}}],\"scatterternary\":[{\"type\":\"scatterternary\",\"marker\":{\"colorbar\":{\"outlinewidth\":0,\"ticks\":\"\"}}}],\"scattercarpet\":[{\"type\":\"scattercarpet\",\"marker\":{\"colorbar\":{\"outlinewidth\":0,\"ticks\":\"\"}}}],\"carpet\":[{\"aaxis\":{\"endlinecolor\":\"#2a3f5f\",\"gridcolor\":\"white\",\"linecolor\":\"white\",\"minorgridcolor\":\"white\",\"startlinecolor\":\"#2a3f5f\"},\"baxis\":{\"endlinecolor\":\"#2a3f5f\",\"gridcolor\":\"white\",\"linecolor\":\"white\",\"minorgridcolor\":\"white\",\"startlinecolor\":\"#2a3f5f\"},\"type\":\"carpet\"}],\"table\":[{\"cells\":{\"fill\":{\"color\":\"#EBF0F8\"},\"line\":{\"color\":\"white\"}},\"header\":{\"fill\":{\"color\":\"#C8D4E3\"},\"line\":{\"color\":\"white\"}},\"type\":\"table\"}],\"barpolar\":[{\"marker\":{\"line\":{\"color\":\"#E5ECF6\",\"width\":0.5},\"pattern\":{\"fillmode\":\"overlay\",\"size\":10,\"solidity\":0.2}},\"type\":\"barpolar\"}],\"pie\":[{\"automargin\":true,\"type\":\"pie\"}]},\"layout\":{\"autotypenumbers\":\"strict\",\"colorway\":[\"#636efa\",\"#EF553B\",\"#00cc96\",\"#ab63fa\",\"#FFA15A\",\"#19d3f3\",\"#FF6692\",\"#B6E880\",\"#FF97FF\",\"#FECB52\"],\"font\":{\"color\":\"#2a3f5f\"},\"hovermode\":\"closest\",\"hoverlabel\":{\"align\":\"left\"},\"paper_bgcolor\":\"white\",\"plot_bgcolor\":\"#E5ECF6\",\"polar\":{\"bgcolor\":\"#E5ECF6\",\"angularaxis\":{\"gridcolor\":\"white\",\"linecolor\":\"white\",\"ticks\":\"\"},\"radialaxis\":{\"gridcolor\":\"white\",\"linecolor\":\"white\",\"ticks\":\"\"}},\"ternary\":{\"bgcolor\":\"#E5ECF6\",\"aaxis\":{\"gridcolor\":\"white\",\"linecolor\":\"white\",\"ticks\":\"\"},\"baxis\":{\"gridcolor\":\"white\",\"linecolor\":\"white\",\"ticks\":\"\"},\"caxis\":{\"gridcolor\":\"white\",\"linecolor\":\"white\",\"ticks\":\"\"}},\"coloraxis\":{\"colorbar\":{\"outlinewidth\":0,\"ticks\":\"\"}},\"colorscale\":{\"sequential\":[[0.0,\"#0d0887\"],[0.1111111111111111,\"#46039f\"],[0.2222222222222222,\"#7201a8\"],[0.3333333333333333,\"#9c179e\"],[0.4444444444444444,\"#bd3786\"],[0.5555555555555556,\"#d8576b\"],[0.6666666666666666,\"#ed7953\"],[0.7777777777777778,\"#fb9f3a\"],[0.8888888888888888,\"#fdca26\"],[1.0,\"#f0f921\"]],\"sequentialminus\":[[0.0,\"#0d0887\"],[0.1111111111111111,\"#46039f\"],[0.2222222222222222,\"#7201a8\"],[0.3333333333333333,\"#9c179e\"],[0.4444444444444444,\"#bd3786\"],[0.5555555555555556,\"#d8576b\"],[0.6666666666666666,\"#ed7953\"],[0.7777777777777778,\"#fb9f3a\"],[0.8888888888888888,\"#fdca26\"],[1.0,\"#f0f921\"]],\"diverging\":[[0,\"#8e0152\"],[0.1,\"#c51b7d\"],[0.2,\"#de77ae\"],[0.3,\"#f1b6da\"],[0.4,\"#fde0ef\"],[0.5,\"#f7f7f7\"],[0.6,\"#e6f5d0\"],[0.7,\"#b8e186\"],[0.8,\"#7fbc41\"],[0.9,\"#4d9221\"],[1,\"#276419\"]]},\"xaxis\":{\"gridcolor\":\"white\",\"linecolor\":\"white\",\"ticks\":\"\",\"title\":{\"standoff\":15},\"zerolinecolor\":\"white\",\"automargin\":true,\"zerolinewidth\":2},\"yaxis\":{\"gridcolor\":\"white\",\"linecolor\":\"white\",\"ticks\":\"\",\"title\":{\"standoff\":15},\"zerolinecolor\":\"white\",\"automargin\":true,\"zerolinewidth\":2},\"scene\":{\"xaxis\":{\"backgroundcolor\":\"#E5ECF6\",\"gridcolor\":\"white\",\"linecolor\":\"white\",\"showbackground\":true,\"ticks\":\"\",\"zerolinecolor\":\"white\",\"gridwidth\":2},\"yaxis\":{\"backgroundcolor\":\"#E5ECF6\",\"gridcolor\":\"white\",\"linecolor\":\"white\",\"showbackground\":true,\"ticks\":\"\",\"zerolinecolor\":\"white\",\"gridwidth\":2},\"zaxis\":{\"backgroundcolor\":\"#E5ECF6\",\"gridcolor\":\"white\",\"linecolor\":\"white\",\"showbackground\":true,\"ticks\":\"\",\"zerolinecolor\":\"white\",\"gridwidth\":2}},\"shapedefaults\":{\"line\":{\"color\":\"#2a3f5f\"}},\"annotationdefaults\":{\"arrowcolor\":\"#2a3f5f\",\"arrowhead\":0,\"arrowwidth\":1},\"geo\":{\"bgcolor\":\"white\",\"landcolor\":\"#E5ECF6\",\"subunitcolor\":\"white\",\"showland\":true,\"showlakes\":true,\"lakecolor\":\"white\"},\"title\":{\"x\":0.05},\"mapbox\":{\"style\":\"light\"}}},\"xaxis\":{\"anchor\":\"y\",\"domain\":[0.0,1.0],\"title\":{\"text\":\"Department\"}},\"yaxis\":{\"anchor\":\"x\",\"domain\":[0.0,1.0],\"title\":{\"text\":\"value\"}},\"legend\":{\"title\":{\"text\":\"variable\"},\"tracegroupgap\":0},\"margin\":{\"t\":60},\"barmode\":\"group\"},                        {\"responsive\": true}                    ).then(function(){\n",
       "                            \n",
       "var gd = document.getElementById('d4d32a89-7696-4b97-8a99-0fe3d18a9396');\n",
       "var x = new MutationObserver(function (mutations, observer) {{\n",
       "        var display = window.getComputedStyle(gd).display;\n",
       "        if (!display || display === 'none') {{\n",
       "            console.log([gd, 'removed!']);\n",
       "            Plotly.purge(gd);\n",
       "            observer.disconnect();\n",
       "        }}\n",
       "}});\n",
       "\n",
       "// Listen for the removal of the full notebook cells\n",
       "var notebookContainer = gd.closest('#notebook-container');\n",
       "if (notebookContainer) {{\n",
       "    x.observe(notebookContainer, {childList: true});\n",
       "}}\n",
       "\n",
       "// Listen for the clearing of the current output cell\n",
       "var outputEl = gd.closest('.output');\n",
       "if (outputEl) {{\n",
       "    x.observe(outputEl, {childList: true});\n",
       "}}\n",
       "\n",
       "                        })                };                });            </script>        </div>"
      ]
     },
     "metadata": {},
     "output_type": "display_data"
    }
   ],
   "source": [
    "px.bar(data_frame=dept_att_compare[[\"Yes Perc_industry\", \"Yes Perc_summit\"]], barmode=\"group\")"
   ]
  },
  {
   "cell_type": "markdown",
   "id": "2d0d6319",
   "metadata": {
    "papermill": {
     "duration": 0.0259,
     "end_time": "2023-01-12T15:02:15.182543",
     "exception": false,
     "start_time": "2023-01-12T15:02:15.156643",
     "status": "completed"
    },
    "tags": []
   },
   "source": [
    "#### Notes:\n",
    "- Only ```Sales``` Dept at Biotech has higher attrition rate than the industry"
   ]
  },
  {
   "cell_type": "markdown",
   "id": "e663ed66",
   "metadata": {
    "papermill": {
     "duration": 0.026077,
     "end_time": "2023-01-12T15:02:15.235011",
     "exception": false,
     "start_time": "2023-01-12T15:02:15.208934",
     "status": "completed"
    },
    "tags": []
   },
   "source": [
    "### Attrition by Role"
   ]
  },
  {
   "cell_type": "code",
   "execution_count": 18,
   "id": "a8de41f8",
   "metadata": {
    "execution": {
     "iopub.execute_input": "2023-01-12T15:02:15.291271Z",
     "iopub.status.busy": "2023-01-12T15:02:15.290834Z",
     "iopub.status.idle": "2023-01-12T15:02:15.297957Z",
     "shell.execute_reply": "2023-01-12T15:02:15.296707Z"
    },
    "jupyter": {
     "source_hidden": true
    },
    "papermill": {
     "duration": 0.037838,
     "end_time": "2023-01-12T15:02:15.300433",
     "exception": false,
     "start_time": "2023-01-12T15:02:15.262595",
     "status": "completed"
    },
    "tags": []
   },
   "outputs": [],
   "source": [
    "industry_attrition_by_role = pd.Series({\"Sales Executives\": 19,\n",
    "           \"Research Scientist\": 18,\n",
    "           \"Laboratory Technician\": 22,\n",
    "           \"Manufacturing Director\": 6,\n",
    "           \"Healthcare Representative\": 6,\n",
    "           \"Manager\": 5,\n",
    "           \"Sales Representative\": 31,\n",
    "           \"Research Director\":4,\n",
    "           \"Human Resources\": 24}, name='Attrition').to_frame()\n",
    "        "
   ]
  },
  {
   "cell_type": "code",
   "execution_count": 19,
   "id": "c97aa706",
   "metadata": {
    "execution": {
     "iopub.execute_input": "2023-01-12T15:02:15.354895Z",
     "iopub.status.busy": "2023-01-12T15:02:15.354518Z",
     "iopub.status.idle": "2023-01-12T15:02:15.360422Z",
     "shell.execute_reply": "2023-01-12T15:02:15.359249Z"
    },
    "jupyter": {
     "source_hidden": true
    },
    "papermill": {
     "duration": 0.036349,
     "end_time": "2023-01-12T15:02:15.363144",
     "exception": false,
     "start_time": "2023-01-12T15:02:15.326795",
     "status": "completed"
    },
    "tags": []
   },
   "outputs": [],
   "source": [
    "industry_attrition_by_role.rename(columns={\"Attrition\":\"Yes Perc\"}, inplace=True)"
   ]
  },
  {
   "cell_type": "code",
   "execution_count": 20,
   "id": "55f99c18",
   "metadata": {
    "execution": {
     "iopub.execute_input": "2023-01-12T15:02:15.419680Z",
     "iopub.status.busy": "2023-01-12T15:02:15.419268Z",
     "iopub.status.idle": "2023-01-12T15:02:15.424799Z",
     "shell.execute_reply": "2023-01-12T15:02:15.423409Z"
    },
    "jupyter": {
     "source_hidden": true
    },
    "papermill": {
     "duration": 0.036339,
     "end_time": "2023-01-12T15:02:15.427328",
     "exception": false,
     "start_time": "2023-01-12T15:02:15.390989",
     "status": "completed"
    },
    "tags": []
   },
   "outputs": [],
   "source": [
    "industry_attrition_by_role.index.rename(\"JobRole\", inplace=True)"
   ]
  },
  {
   "cell_type": "code",
   "execution_count": 21,
   "id": "af7ba965",
   "metadata": {
    "execution": {
     "iopub.execute_input": "2023-01-12T15:02:15.483261Z",
     "iopub.status.busy": "2023-01-12T15:02:15.482809Z",
     "iopub.status.idle": "2023-01-12T15:02:15.501790Z",
     "shell.execute_reply": "2023-01-12T15:02:15.500417Z"
    },
    "jupyter": {
     "source_hidden": true
    },
    "papermill": {
     "duration": 0.050455,
     "end_time": "2023-01-12T15:02:15.504879",
     "exception": false,
     "start_time": "2023-01-12T15:02:15.454424",
     "status": "completed"
    },
    "tags": []
   },
   "outputs": [],
   "source": [
    "role_att = pd.pivot_table(data=raw, index=\"JobRole\", columns=\"Attrition\", values=\"EmployeeCount\", aggfunc=np.sum)"
   ]
  },
  {
   "cell_type": "code",
   "execution_count": 22,
   "id": "12a19483",
   "metadata": {
    "execution": {
     "iopub.execute_input": "2023-01-12T15:02:15.560766Z",
     "iopub.status.busy": "2023-01-12T15:02:15.560374Z",
     "iopub.status.idle": "2023-01-12T15:02:15.566788Z",
     "shell.execute_reply": "2023-01-12T15:02:15.565332Z"
    },
    "jupyter": {
     "source_hidden": true
    },
    "papermill": {
     "duration": 0.037605,
     "end_time": "2023-01-12T15:02:15.569314",
     "exception": false,
     "start_time": "2023-01-12T15:02:15.531709",
     "status": "completed"
    },
    "tags": []
   },
   "outputs": [],
   "source": [
    "role_att.rename(columns={\"Yes\": \"Yes Perc\", \"No\": \"No Perc\"}, inplace=True)"
   ]
  },
  {
   "cell_type": "code",
   "execution_count": 23,
   "id": "2a31d9b7",
   "metadata": {
    "execution": {
     "iopub.execute_input": "2023-01-12T15:02:15.624763Z",
     "iopub.status.busy": "2023-01-12T15:02:15.624075Z",
     "iopub.status.idle": "2023-01-12T15:02:15.631226Z",
     "shell.execute_reply": "2023-01-12T15:02:15.630019Z"
    },
    "jupyter": {
     "source_hidden": true
    },
    "papermill": {
     "duration": 0.038123,
     "end_time": "2023-01-12T15:02:15.633926",
     "exception": false,
     "start_time": "2023-01-12T15:02:15.595803",
     "status": "completed"
    },
    "tags": []
   },
   "outputs": [],
   "source": [
    "role_att[\"Yes\"] = role_att[\"Yes Perc\"] / (role_att[\"Yes Perc\"] + role_att[\"No Perc\"])*100"
   ]
  },
  {
   "cell_type": "code",
   "execution_count": 24,
   "id": "95d4fba6",
   "metadata": {
    "execution": {
     "iopub.execute_input": "2023-01-12T15:02:15.689080Z",
     "iopub.status.busy": "2023-01-12T15:02:15.688632Z",
     "iopub.status.idle": "2023-01-12T15:02:15.695090Z",
     "shell.execute_reply": "2023-01-12T15:02:15.693849Z"
    },
    "jupyter": {
     "source_hidden": true
    },
    "papermill": {
     "duration": 0.036565,
     "end_time": "2023-01-12T15:02:15.697597",
     "exception": false,
     "start_time": "2023-01-12T15:02:15.661032",
     "status": "completed"
    },
    "tags": []
   },
   "outputs": [],
   "source": [
    "role_att[\"No\"]=100-role_att.Yes"
   ]
  },
  {
   "cell_type": "code",
   "execution_count": 25,
   "id": "e0899338",
   "metadata": {
    "execution": {
     "iopub.execute_input": "2023-01-12T15:02:15.752762Z",
     "iopub.status.busy": "2023-01-12T15:02:15.752348Z",
     "iopub.status.idle": "2023-01-12T15:02:15.760379Z",
     "shell.execute_reply": "2023-01-12T15:02:15.758808Z"
    },
    "jupyter": {
     "source_hidden": true
    },
    "papermill": {
     "duration": 0.038735,
     "end_time": "2023-01-12T15:02:15.763042",
     "exception": false,
     "start_time": "2023-01-12T15:02:15.724307",
     "status": "completed"
    },
    "tags": []
   },
   "outputs": [],
   "source": [
    "role_att.drop(columns=[\"No Perc\", \"Yes Perc\"], inplace=True)"
   ]
  },
  {
   "cell_type": "code",
   "execution_count": 26,
   "id": "87bd3ffe",
   "metadata": {
    "execution": {
     "iopub.execute_input": "2023-01-12T15:02:15.818503Z",
     "iopub.status.busy": "2023-01-12T15:02:15.818088Z",
     "iopub.status.idle": "2023-01-12T15:02:15.824250Z",
     "shell.execute_reply": "2023-01-12T15:02:15.822977Z"
    },
    "jupyter": {
     "source_hidden": true
    },
    "papermill": {
     "duration": 0.036478,
     "end_time": "2023-01-12T15:02:15.826584",
     "exception": false,
     "start_time": "2023-01-12T15:02:15.790106",
     "status": "completed"
    },
    "tags": []
   },
   "outputs": [],
   "source": [
    "role_att.rename(columns={\"Yes\": \"Yes Perc\", \"No\": \"No Perc\"}, inplace=True)"
   ]
  },
  {
   "cell_type": "code",
   "execution_count": 27,
   "id": "0285c45f",
   "metadata": {
    "execution": {
     "iopub.execute_input": "2023-01-12T15:02:15.882996Z",
     "iopub.status.busy": "2023-01-12T15:02:15.882590Z",
     "iopub.status.idle": "2023-01-12T15:02:15.891439Z",
     "shell.execute_reply": "2023-01-12T15:02:15.890307Z"
    },
    "jupyter": {
     "source_hidden": true
    },
    "papermill": {
     "duration": 0.040117,
     "end_time": "2023-01-12T15:02:15.893905",
     "exception": false,
     "start_time": "2023-01-12T15:02:15.853788",
     "status": "completed"
    },
    "tags": []
   },
   "outputs": [],
   "source": [
    "role_att_compare = industry_attrition_by_role.merge(role_att, on=\"JobRole\", how='inner', suffixes=[\"_industry\", \"_summit\"])"
   ]
  },
  {
   "cell_type": "code",
   "execution_count": 28,
   "id": "2d921af9",
   "metadata": {
    "execution": {
     "iopub.execute_input": "2023-01-12T15:02:15.950787Z",
     "iopub.status.busy": "2023-01-12T15:02:15.950355Z",
     "iopub.status.idle": "2023-01-12T15:02:15.962966Z",
     "shell.execute_reply": "2023-01-12T15:02:15.961581Z"
    },
    "jupyter": {
     "source_hidden": true
    },
    "papermill": {
     "duration": 0.043827,
     "end_time": "2023-01-12T15:02:15.965512",
     "exception": false,
     "start_time": "2023-01-12T15:02:15.921685",
     "status": "completed"
    },
    "tags": []
   },
   "outputs": [
    {
     "data": {
      "text/html": [
       "<div>\n",
       "<style scoped>\n",
       "    .dataframe tbody tr th:only-of-type {\n",
       "        vertical-align: middle;\n",
       "    }\n",
       "\n",
       "    .dataframe tbody tr th {\n",
       "        vertical-align: top;\n",
       "    }\n",
       "\n",
       "    .dataframe thead th {\n",
       "        text-align: right;\n",
       "    }\n",
       "</style>\n",
       "<table border=\"1\" class=\"dataframe\">\n",
       "  <thead>\n",
       "    <tr style=\"text-align: right;\">\n",
       "      <th></th>\n",
       "      <th>Yes Perc_industry</th>\n",
       "      <th>Yes Perc_summit</th>\n",
       "      <th>No Perc</th>\n",
       "    </tr>\n",
       "    <tr>\n",
       "      <th>JobRole</th>\n",
       "      <th></th>\n",
       "      <th></th>\n",
       "      <th></th>\n",
       "    </tr>\n",
       "  </thead>\n",
       "  <tbody>\n",
       "    <tr>\n",
       "      <th>Research Scientist</th>\n",
       "      <td>18</td>\n",
       "      <td>16.095890</td>\n",
       "      <td>83.904110</td>\n",
       "    </tr>\n",
       "    <tr>\n",
       "      <th>Laboratory Technician</th>\n",
       "      <td>22</td>\n",
       "      <td>23.938224</td>\n",
       "      <td>76.061776</td>\n",
       "    </tr>\n",
       "    <tr>\n",
       "      <th>Manufacturing Director</th>\n",
       "      <td>6</td>\n",
       "      <td>6.896552</td>\n",
       "      <td>93.103448</td>\n",
       "    </tr>\n",
       "    <tr>\n",
       "      <th>Healthcare Representative</th>\n",
       "      <td>6</td>\n",
       "      <td>6.870229</td>\n",
       "      <td>93.129771</td>\n",
       "    </tr>\n",
       "    <tr>\n",
       "      <th>Manager</th>\n",
       "      <td>5</td>\n",
       "      <td>4.901961</td>\n",
       "      <td>95.098039</td>\n",
       "    </tr>\n",
       "    <tr>\n",
       "      <th>Sales Representative</th>\n",
       "      <td>31</td>\n",
       "      <td>39.759036</td>\n",
       "      <td>60.240964</td>\n",
       "    </tr>\n",
       "    <tr>\n",
       "      <th>Research Director</th>\n",
       "      <td>4</td>\n",
       "      <td>2.500000</td>\n",
       "      <td>97.500000</td>\n",
       "    </tr>\n",
       "    <tr>\n",
       "      <th>Human Resources</th>\n",
       "      <td>24</td>\n",
       "      <td>23.076923</td>\n",
       "      <td>76.923077</td>\n",
       "    </tr>\n",
       "  </tbody>\n",
       "</table>\n",
       "</div>"
      ],
      "text/plain": [
       "                           Yes Perc_industry  Yes Perc_summit    No Perc\n",
       "JobRole                                                                 \n",
       "Research Scientist                        18        16.095890  83.904110\n",
       "Laboratory Technician                     22        23.938224  76.061776\n",
       "Manufacturing Director                     6         6.896552  93.103448\n",
       "Healthcare Representative                  6         6.870229  93.129771\n",
       "Manager                                    5         4.901961  95.098039\n",
       "Sales Representative                      31        39.759036  60.240964\n",
       "Research Director                          4         2.500000  97.500000\n",
       "Human Resources                           24        23.076923  76.923077"
      ]
     },
     "execution_count": 28,
     "metadata": {},
     "output_type": "execute_result"
    }
   ],
   "source": [
    "role_att_compare"
   ]
  },
  {
   "cell_type": "code",
   "execution_count": 29,
   "id": "079ef026",
   "metadata": {
    "execution": {
     "iopub.execute_input": "2023-01-12T15:02:16.021471Z",
     "iopub.status.busy": "2023-01-12T15:02:16.021055Z",
     "iopub.status.idle": "2023-01-12T15:02:16.094660Z",
     "shell.execute_reply": "2023-01-12T15:02:16.093724Z"
    },
    "jupyter": {
     "source_hidden": true
    },
    "papermill": {
     "duration": 0.104792,
     "end_time": "2023-01-12T15:02:16.097075",
     "exception": false,
     "start_time": "2023-01-12T15:02:15.992283",
     "status": "completed"
    },
    "tags": []
   },
   "outputs": [
    {
     "data": {
      "text/html": [
       "<div>                            <div id=\"475a4d39-d683-421c-b736-bd58ed822f82\" class=\"plotly-graph-div\" style=\"height:525px; width:100%;\"></div>            <script type=\"text/javascript\">                require([\"plotly\"], function(Plotly) {                    window.PLOTLYENV=window.PLOTLYENV || {};                                    if (document.getElementById(\"475a4d39-d683-421c-b736-bd58ed822f82\")) {                    Plotly.newPlot(                        \"475a4d39-d683-421c-b736-bd58ed822f82\",                        [{\"alignmentgroup\":\"True\",\"hovertemplate\":\"variable=Yes Perc_industry<br>Percent Employee=%{x}<br>Job Role=%{y}<extra></extra>\",\"legendgroup\":\"Yes Perc_industry\",\"marker\":{\"color\":\"#636efa\",\"pattern\":{\"shape\":\"\"}},\"name\":\"Yes Perc_industry\",\"offsetgroup\":\"Yes Perc_industry\",\"orientation\":\"h\",\"showlegend\":true,\"textposition\":\"auto\",\"x\":[18.0,22.0,6.0,6.0,5.0,31.0,4.0,24.0],\"xaxis\":\"x\",\"y\":[\"Research Scientist\",\"Laboratory Technician\",\"Manufacturing Director\",\"Healthcare Representative\",\"Manager\",\"Sales Representative\",\"Research Director\",\"Human Resources\"],\"yaxis\":\"y\",\"type\":\"bar\"},{\"alignmentgroup\":\"True\",\"hovertemplate\":\"variable=Yes Perc_summit<br>Percent Employee=%{x}<br>Job Role=%{y}<extra></extra>\",\"legendgroup\":\"Yes Perc_summit\",\"marker\":{\"color\":\"#EF553B\",\"pattern\":{\"shape\":\"\"}},\"name\":\"Yes Perc_summit\",\"offsetgroup\":\"Yes Perc_summit\",\"orientation\":\"h\",\"showlegend\":true,\"textposition\":\"auto\",\"x\":[16.095890410958905,23.93822393822394,6.896551724137931,6.870229007633588,4.901960784313726,39.75903614457831,2.5,23.076923076923077],\"xaxis\":\"x\",\"y\":[\"Research Scientist\",\"Laboratory Technician\",\"Manufacturing Director\",\"Healthcare Representative\",\"Manager\",\"Sales Representative\",\"Research Director\",\"Human Resources\"],\"yaxis\":\"y\",\"type\":\"bar\"}],                        {\"template\":{\"data\":{\"histogram2dcontour\":[{\"type\":\"histogram2dcontour\",\"colorbar\":{\"outlinewidth\":0,\"ticks\":\"\"},\"colorscale\":[[0.0,\"#0d0887\"],[0.1111111111111111,\"#46039f\"],[0.2222222222222222,\"#7201a8\"],[0.3333333333333333,\"#9c179e\"],[0.4444444444444444,\"#bd3786\"],[0.5555555555555556,\"#d8576b\"],[0.6666666666666666,\"#ed7953\"],[0.7777777777777778,\"#fb9f3a\"],[0.8888888888888888,\"#fdca26\"],[1.0,\"#f0f921\"]]}],\"choropleth\":[{\"type\":\"choropleth\",\"colorbar\":{\"outlinewidth\":0,\"ticks\":\"\"}}],\"histogram2d\":[{\"type\":\"histogram2d\",\"colorbar\":{\"outlinewidth\":0,\"ticks\":\"\"},\"colorscale\":[[0.0,\"#0d0887\"],[0.1111111111111111,\"#46039f\"],[0.2222222222222222,\"#7201a8\"],[0.3333333333333333,\"#9c179e\"],[0.4444444444444444,\"#bd3786\"],[0.5555555555555556,\"#d8576b\"],[0.6666666666666666,\"#ed7953\"],[0.7777777777777778,\"#fb9f3a\"],[0.8888888888888888,\"#fdca26\"],[1.0,\"#f0f921\"]]}],\"heatmap\":[{\"type\":\"heatmap\",\"colorbar\":{\"outlinewidth\":0,\"ticks\":\"\"},\"colorscale\":[[0.0,\"#0d0887\"],[0.1111111111111111,\"#46039f\"],[0.2222222222222222,\"#7201a8\"],[0.3333333333333333,\"#9c179e\"],[0.4444444444444444,\"#bd3786\"],[0.5555555555555556,\"#d8576b\"],[0.6666666666666666,\"#ed7953\"],[0.7777777777777778,\"#fb9f3a\"],[0.8888888888888888,\"#fdca26\"],[1.0,\"#f0f921\"]]}],\"heatmapgl\":[{\"type\":\"heatmapgl\",\"colorbar\":{\"outlinewidth\":0,\"ticks\":\"\"},\"colorscale\":[[0.0,\"#0d0887\"],[0.1111111111111111,\"#46039f\"],[0.2222222222222222,\"#7201a8\"],[0.3333333333333333,\"#9c179e\"],[0.4444444444444444,\"#bd3786\"],[0.5555555555555556,\"#d8576b\"],[0.6666666666666666,\"#ed7953\"],[0.7777777777777778,\"#fb9f3a\"],[0.8888888888888888,\"#fdca26\"],[1.0,\"#f0f921\"]]}],\"contourcarpet\":[{\"type\":\"contourcarpet\",\"colorbar\":{\"outlinewidth\":0,\"ticks\":\"\"}}],\"contour\":[{\"type\":\"contour\",\"colorbar\":{\"outlinewidth\":0,\"ticks\":\"\"},\"colorscale\":[[0.0,\"#0d0887\"],[0.1111111111111111,\"#46039f\"],[0.2222222222222222,\"#7201a8\"],[0.3333333333333333,\"#9c179e\"],[0.4444444444444444,\"#bd3786\"],[0.5555555555555556,\"#d8576b\"],[0.6666666666666666,\"#ed7953\"],[0.7777777777777778,\"#fb9f3a\"],[0.8888888888888888,\"#fdca26\"],[1.0,\"#f0f921\"]]}],\"surface\":[{\"type\":\"surface\",\"colorbar\":{\"outlinewidth\":0,\"ticks\":\"\"},\"colorscale\":[[0.0,\"#0d0887\"],[0.1111111111111111,\"#46039f\"],[0.2222222222222222,\"#7201a8\"],[0.3333333333333333,\"#9c179e\"],[0.4444444444444444,\"#bd3786\"],[0.5555555555555556,\"#d8576b\"],[0.6666666666666666,\"#ed7953\"],[0.7777777777777778,\"#fb9f3a\"],[0.8888888888888888,\"#fdca26\"],[1.0,\"#f0f921\"]]}],\"mesh3d\":[{\"type\":\"mesh3d\",\"colorbar\":{\"outlinewidth\":0,\"ticks\":\"\"}}],\"scatter\":[{\"fillpattern\":{\"fillmode\":\"overlay\",\"size\":10,\"solidity\":0.2},\"type\":\"scatter\"}],\"parcoords\":[{\"type\":\"parcoords\",\"line\":{\"colorbar\":{\"outlinewidth\":0,\"ticks\":\"\"}}}],\"scatterpolargl\":[{\"type\":\"scatterpolargl\",\"marker\":{\"colorbar\":{\"outlinewidth\":0,\"ticks\":\"\"}}}],\"bar\":[{\"error_x\":{\"color\":\"#2a3f5f\"},\"error_y\":{\"color\":\"#2a3f5f\"},\"marker\":{\"line\":{\"color\":\"#E5ECF6\",\"width\":0.5},\"pattern\":{\"fillmode\":\"overlay\",\"size\":10,\"solidity\":0.2}},\"type\":\"bar\"}],\"scattergeo\":[{\"type\":\"scattergeo\",\"marker\":{\"colorbar\":{\"outlinewidth\":0,\"ticks\":\"\"}}}],\"scatterpolar\":[{\"type\":\"scatterpolar\",\"marker\":{\"colorbar\":{\"outlinewidth\":0,\"ticks\":\"\"}}}],\"histogram\":[{\"marker\":{\"pattern\":{\"fillmode\":\"overlay\",\"size\":10,\"solidity\":0.2}},\"type\":\"histogram\"}],\"scattergl\":[{\"type\":\"scattergl\",\"marker\":{\"colorbar\":{\"outlinewidth\":0,\"ticks\":\"\"}}}],\"scatter3d\":[{\"type\":\"scatter3d\",\"line\":{\"colorbar\":{\"outlinewidth\":0,\"ticks\":\"\"}},\"marker\":{\"colorbar\":{\"outlinewidth\":0,\"ticks\":\"\"}}}],\"scattermapbox\":[{\"type\":\"scattermapbox\",\"marker\":{\"colorbar\":{\"outlinewidth\":0,\"ticks\":\"\"}}}],\"scatterternary\":[{\"type\":\"scatterternary\",\"marker\":{\"colorbar\":{\"outlinewidth\":0,\"ticks\":\"\"}}}],\"scattercarpet\":[{\"type\":\"scattercarpet\",\"marker\":{\"colorbar\":{\"outlinewidth\":0,\"ticks\":\"\"}}}],\"carpet\":[{\"aaxis\":{\"endlinecolor\":\"#2a3f5f\",\"gridcolor\":\"white\",\"linecolor\":\"white\",\"minorgridcolor\":\"white\",\"startlinecolor\":\"#2a3f5f\"},\"baxis\":{\"endlinecolor\":\"#2a3f5f\",\"gridcolor\":\"white\",\"linecolor\":\"white\",\"minorgridcolor\":\"white\",\"startlinecolor\":\"#2a3f5f\"},\"type\":\"carpet\"}],\"table\":[{\"cells\":{\"fill\":{\"color\":\"#EBF0F8\"},\"line\":{\"color\":\"white\"}},\"header\":{\"fill\":{\"color\":\"#C8D4E3\"},\"line\":{\"color\":\"white\"}},\"type\":\"table\"}],\"barpolar\":[{\"marker\":{\"line\":{\"color\":\"#E5ECF6\",\"width\":0.5},\"pattern\":{\"fillmode\":\"overlay\",\"size\":10,\"solidity\":0.2}},\"type\":\"barpolar\"}],\"pie\":[{\"automargin\":true,\"type\":\"pie\"}]},\"layout\":{\"autotypenumbers\":\"strict\",\"colorway\":[\"#636efa\",\"#EF553B\",\"#00cc96\",\"#ab63fa\",\"#FFA15A\",\"#19d3f3\",\"#FF6692\",\"#B6E880\",\"#FF97FF\",\"#FECB52\"],\"font\":{\"color\":\"#2a3f5f\"},\"hovermode\":\"closest\",\"hoverlabel\":{\"align\":\"left\"},\"paper_bgcolor\":\"white\",\"plot_bgcolor\":\"#E5ECF6\",\"polar\":{\"bgcolor\":\"#E5ECF6\",\"angularaxis\":{\"gridcolor\":\"white\",\"linecolor\":\"white\",\"ticks\":\"\"},\"radialaxis\":{\"gridcolor\":\"white\",\"linecolor\":\"white\",\"ticks\":\"\"}},\"ternary\":{\"bgcolor\":\"#E5ECF6\",\"aaxis\":{\"gridcolor\":\"white\",\"linecolor\":\"white\",\"ticks\":\"\"},\"baxis\":{\"gridcolor\":\"white\",\"linecolor\":\"white\",\"ticks\":\"\"},\"caxis\":{\"gridcolor\":\"white\",\"linecolor\":\"white\",\"ticks\":\"\"}},\"coloraxis\":{\"colorbar\":{\"outlinewidth\":0,\"ticks\":\"\"}},\"colorscale\":{\"sequential\":[[0.0,\"#0d0887\"],[0.1111111111111111,\"#46039f\"],[0.2222222222222222,\"#7201a8\"],[0.3333333333333333,\"#9c179e\"],[0.4444444444444444,\"#bd3786\"],[0.5555555555555556,\"#d8576b\"],[0.6666666666666666,\"#ed7953\"],[0.7777777777777778,\"#fb9f3a\"],[0.8888888888888888,\"#fdca26\"],[1.0,\"#f0f921\"]],\"sequentialminus\":[[0.0,\"#0d0887\"],[0.1111111111111111,\"#46039f\"],[0.2222222222222222,\"#7201a8\"],[0.3333333333333333,\"#9c179e\"],[0.4444444444444444,\"#bd3786\"],[0.5555555555555556,\"#d8576b\"],[0.6666666666666666,\"#ed7953\"],[0.7777777777777778,\"#fb9f3a\"],[0.8888888888888888,\"#fdca26\"],[1.0,\"#f0f921\"]],\"diverging\":[[0,\"#8e0152\"],[0.1,\"#c51b7d\"],[0.2,\"#de77ae\"],[0.3,\"#f1b6da\"],[0.4,\"#fde0ef\"],[0.5,\"#f7f7f7\"],[0.6,\"#e6f5d0\"],[0.7,\"#b8e186\"],[0.8,\"#7fbc41\"],[0.9,\"#4d9221\"],[1,\"#276419\"]]},\"xaxis\":{\"gridcolor\":\"white\",\"linecolor\":\"white\",\"ticks\":\"\",\"title\":{\"standoff\":15},\"zerolinecolor\":\"white\",\"automargin\":true,\"zerolinewidth\":2},\"yaxis\":{\"gridcolor\":\"white\",\"linecolor\":\"white\",\"ticks\":\"\",\"title\":{\"standoff\":15},\"zerolinecolor\":\"white\",\"automargin\":true,\"zerolinewidth\":2},\"scene\":{\"xaxis\":{\"backgroundcolor\":\"#E5ECF6\",\"gridcolor\":\"white\",\"linecolor\":\"white\",\"showbackground\":true,\"ticks\":\"\",\"zerolinecolor\":\"white\",\"gridwidth\":2},\"yaxis\":{\"backgroundcolor\":\"#E5ECF6\",\"gridcolor\":\"white\",\"linecolor\":\"white\",\"showbackground\":true,\"ticks\":\"\",\"zerolinecolor\":\"white\",\"gridwidth\":2},\"zaxis\":{\"backgroundcolor\":\"#E5ECF6\",\"gridcolor\":\"white\",\"linecolor\":\"white\",\"showbackground\":true,\"ticks\":\"\",\"zerolinecolor\":\"white\",\"gridwidth\":2}},\"shapedefaults\":{\"line\":{\"color\":\"#2a3f5f\"}},\"annotationdefaults\":{\"arrowcolor\":\"#2a3f5f\",\"arrowhead\":0,\"arrowwidth\":1},\"geo\":{\"bgcolor\":\"white\",\"landcolor\":\"#E5ECF6\",\"subunitcolor\":\"white\",\"showland\":true,\"showlakes\":true,\"lakecolor\":\"white\"},\"title\":{\"x\":0.05},\"mapbox\":{\"style\":\"light\"}}},\"xaxis\":{\"anchor\":\"y\",\"domain\":[0.0,1.0],\"title\":{\"text\":\"Percent Employee\"}},\"yaxis\":{\"anchor\":\"x\",\"domain\":[0.0,1.0],\"title\":{\"text\":\"Job Role\"}},\"legend\":{\"title\":{\"text\":\"variable\"},\"tracegroupgap\":0},\"margin\":{\"t\":60},\"barmode\":\"group\"},                        {\"responsive\": true}                    ).then(function(){\n",
       "                            \n",
       "var gd = document.getElementById('475a4d39-d683-421c-b736-bd58ed822f82');\n",
       "var x = new MutationObserver(function (mutations, observer) {{\n",
       "        var display = window.getComputedStyle(gd).display;\n",
       "        if (!display || display === 'none') {{\n",
       "            console.log([gd, 'removed!']);\n",
       "            Plotly.purge(gd);\n",
       "            observer.disconnect();\n",
       "        }}\n",
       "}});\n",
       "\n",
       "// Listen for the removal of the full notebook cells\n",
       "var notebookContainer = gd.closest('#notebook-container');\n",
       "if (notebookContainer) {{\n",
       "    x.observe(notebookContainer, {childList: true});\n",
       "}}\n",
       "\n",
       "// Listen for the clearing of the current output cell\n",
       "var outputEl = gd.closest('.output');\n",
       "if (outputEl) {{\n",
       "    x.observe(outputEl, {childList: true});\n",
       "}}\n",
       "\n",
       "                        })                };                });            </script>        </div>"
      ]
     },
     "metadata": {},
     "output_type": "display_data"
    }
   ],
   "source": [
    "px.bar(data_frame=role_att_compare, x=[\"Yes Perc_industry\",\"Yes Perc_summit\"],barmode=\"group\", labels={\"JobRole\": \"Job Role\", \"value\": \"Percent Employee\"})"
   ]
  },
  {
   "cell_type": "markdown",
   "id": "615c7a07",
   "metadata": {
    "papermill": {
     "duration": 0.030637,
     "end_time": "2023-01-12T15:02:16.155892",
     "exception": false,
     "start_time": "2023-01-12T15:02:16.125255",
     "status": "completed"
    },
    "tags": []
   },
   "source": [
    "#### Notes:\n",
    "- ```Sales Rep```'s attrition rate in Biotech was remarkably higher than the industry\n",
    "- ```Lab Technician```, ```Healthcare Rep``` and ```Manufacturing Director``` has the relatively high attrition rate compared to the whole industry"
   ]
  },
  {
   "cell_type": "markdown",
   "id": "96fc26b4",
   "metadata": {
    "papermill": {
     "duration": 0.027342,
     "end_time": "2023-01-12T15:02:16.211433",
     "exception": false,
     "start_time": "2023-01-12T15:02:16.184091",
     "status": "completed"
    },
    "tags": []
   },
   "source": [
    "### Average Attrition Rate"
   ]
  },
  {
   "cell_type": "code",
   "execution_count": 30,
   "id": "f53ba5a3",
   "metadata": {
    "execution": {
     "iopub.execute_input": "2023-01-12T15:02:16.273983Z",
     "iopub.status.busy": "2023-01-12T15:02:16.272838Z",
     "iopub.status.idle": "2023-01-12T15:02:16.280140Z",
     "shell.execute_reply": "2023-01-12T15:02:16.279219Z"
    },
    "jupyter": {
     "source_hidden": true
    },
    "papermill": {
     "duration": 0.041448,
     "end_time": "2023-01-12T15:02:16.282617",
     "exception": false,
     "start_time": "2023-01-12T15:02:16.241169",
     "status": "completed"
    },
    "tags": []
   },
   "outputs": [],
   "source": [
    "avg_attrition = raw.Department.where(raw.Attrition==\"Yes\").count()/raw.Department.count()*100"
   ]
  },
  {
   "cell_type": "code",
   "execution_count": 31,
   "id": "883eb227",
   "metadata": {
    "execution": {
     "iopub.execute_input": "2023-01-12T15:02:16.341539Z",
     "iopub.status.busy": "2023-01-12T15:02:16.340876Z",
     "iopub.status.idle": "2023-01-12T15:02:16.347714Z",
     "shell.execute_reply": "2023-01-12T15:02:16.346694Z"
    },
    "jupyter": {
     "source_hidden": true
    },
    "papermill": {
     "duration": 0.040085,
     "end_time": "2023-01-12T15:02:16.349957",
     "exception": false,
     "start_time": "2023-01-12T15:02:16.309872",
     "status": "completed"
    },
    "tags": []
   },
   "outputs": [
    {
     "data": {
      "text/plain": [
       "'Average Attrition Rate: 16.12%'"
      ]
     },
     "execution_count": 31,
     "metadata": {},
     "output_type": "execute_result"
    }
   ],
   "source": [
    "f\"Average Attrition Rate: {avg_attrition:.2f}%\""
   ]
  },
  {
   "cell_type": "markdown",
   "id": "eb441ee4",
   "metadata": {
    "papermill": {
     "duration": 0.026862,
     "end_time": "2023-01-12T15:02:16.404087",
     "exception": false,
     "start_time": "2023-01-12T15:02:16.377225",
     "status": "completed"
    },
    "tags": []
   },
   "source": [
    "### Average Employee Distance from Home"
   ]
  },
  {
   "cell_type": "code",
   "execution_count": 32,
   "id": "a911c803",
   "metadata": {
    "execution": {
     "iopub.execute_input": "2023-01-12T15:02:16.462790Z",
     "iopub.status.busy": "2023-01-12T15:02:16.462156Z",
     "iopub.status.idle": "2023-01-12T15:02:16.475295Z",
     "shell.execute_reply": "2023-01-12T15:02:16.474016Z"
    },
    "jupyter": {
     "source_hidden": true
    },
    "papermill": {
     "duration": 0.044374,
     "end_time": "2023-01-12T15:02:16.477745",
     "exception": false,
     "start_time": "2023-01-12T15:02:16.433371",
     "status": "completed"
    },
    "tags": []
   },
   "outputs": [
    {
     "data": {
      "text/plain": [
       "count    1470.000000\n",
       "mean        9.192517\n",
       "std         8.106864\n",
       "min         1.000000\n",
       "25%         2.000000\n",
       "50%         7.000000\n",
       "75%        14.000000\n",
       "max        29.000000\n",
       "Name: DistanceFromHome, dtype: float64"
      ]
     },
     "execution_count": 32,
     "metadata": {},
     "output_type": "execute_result"
    }
   ],
   "source": [
    "raw.DistanceFromHome.describe()"
   ]
  },
  {
   "cell_type": "code",
   "execution_count": 33,
   "id": "e2d7d407",
   "metadata": {
    "execution": {
     "iopub.execute_input": "2023-01-12T15:02:16.538050Z",
     "iopub.status.busy": "2023-01-12T15:02:16.536671Z",
     "iopub.status.idle": "2023-01-12T15:02:16.544700Z",
     "shell.execute_reply": "2023-01-12T15:02:16.543258Z"
    },
    "jupyter": {
     "source_hidden": true
    },
    "papermill": {
     "duration": 0.041319,
     "end_time": "2023-01-12T15:02:16.548018",
     "exception": false,
     "start_time": "2023-01-12T15:02:16.506699",
     "status": "completed"
    },
    "tags": []
   },
   "outputs": [
    {
     "name": "stdout",
     "output_type": "stream",
     "text": [
      "Average Distance from Home: 9.19%\n"
     ]
    }
   ],
   "source": [
    "print(f\"Average Distance from Home: {raw.DistanceFromHome.mean():.2f}%\")"
   ]
  },
  {
   "cell_type": "markdown",
   "id": "95be517f",
   "metadata": {
    "papermill": {
     "duration": 0.028209,
     "end_time": "2023-01-12T15:02:16.605546",
     "exception": false,
     "start_time": "2023-01-12T15:02:16.577337",
     "status": "completed"
    },
    "tags": []
   },
   "source": [
    "### Average HR-to-Employee Ratio"
   ]
  },
  {
   "cell_type": "code",
   "execution_count": 34,
   "id": "56a3e3fc",
   "metadata": {
    "execution": {
     "iopub.execute_input": "2023-01-12T15:02:16.663148Z",
     "iopub.status.busy": "2023-01-12T15:02:16.662677Z",
     "iopub.status.idle": "2023-01-12T15:02:16.669936Z",
     "shell.execute_reply": "2023-01-12T15:02:16.668545Z"
    },
    "jupyter": {
     "source_hidden": true
    },
    "papermill": {
     "duration": 0.039919,
     "end_time": "2023-01-12T15:02:16.672359",
     "exception": false,
     "start_time": "2023-01-12T15:02:16.632440",
     "status": "completed"
    },
    "tags": []
   },
   "outputs": [],
   "source": [
    "HR_ratio = raw.JobRole[raw.JobRole==\"Human Resources\"].count()/raw.JobRole.count()*100"
   ]
  },
  {
   "cell_type": "code",
   "execution_count": 35,
   "id": "39da1dbf",
   "metadata": {
    "execution": {
     "iopub.execute_input": "2023-01-12T15:02:16.732660Z",
     "iopub.status.busy": "2023-01-12T15:02:16.732026Z",
     "iopub.status.idle": "2023-01-12T15:02:16.742934Z",
     "shell.execute_reply": "2023-01-12T15:02:16.741983Z"
    },
    "jupyter": {
     "source_hidden": true
    },
    "papermill": {
     "duration": 0.043686,
     "end_time": "2023-01-12T15:02:16.745327",
     "exception": false,
     "start_time": "2023-01-12T15:02:16.701641",
     "status": "completed"
    },
    "tags": []
   },
   "outputs": [
    {
     "data": {
      "text/plain": [
       "Department\n",
       "Human Resources                                  [Human Resources, Manager]\n",
       "Research & Development    [Research Scientist, Laboratory Technician, Ma...\n",
       "Sales                      [Sales Executive, Manager, Sales Representative]\n",
       "Name: JobRole, dtype: object"
      ]
     },
     "execution_count": 35,
     "metadata": {},
     "output_type": "execute_result"
    }
   ],
   "source": [
    "raw.groupby('Department').JobRole.unique()"
   ]
  },
  {
   "cell_type": "code",
   "execution_count": 36,
   "id": "68976072",
   "metadata": {
    "execution": {
     "iopub.execute_input": "2023-01-12T15:02:16.803571Z",
     "iopub.status.busy": "2023-01-12T15:02:16.802946Z",
     "iopub.status.idle": "2023-01-12T15:02:16.810907Z",
     "shell.execute_reply": "2023-01-12T15:02:16.810009Z"
    },
    "jupyter": {
     "source_hidden": true
    },
    "papermill": {
     "duration": 0.040659,
     "end_time": "2023-01-12T15:02:16.813163",
     "exception": false,
     "start_time": "2023-01-12T15:02:16.772504",
     "status": "completed"
    },
    "tags": []
   },
   "outputs": [
    {
     "data": {
      "text/plain": [
       "array(['Human Resources', 'Manager'], dtype=object)"
      ]
     },
     "execution_count": 36,
     "metadata": {},
     "output_type": "execute_result"
    }
   ],
   "source": [
    "raw.groupby('Department').JobRole.unique()[0]"
   ]
  },
  {
   "cell_type": "code",
   "execution_count": 37,
   "id": "c7ee05d9",
   "metadata": {
    "execution": {
     "iopub.execute_input": "2023-01-12T15:02:16.873016Z",
     "iopub.status.busy": "2023-01-12T15:02:16.872370Z",
     "iopub.status.idle": "2023-01-12T15:02:16.878641Z",
     "shell.execute_reply": "2023-01-12T15:02:16.876891Z"
    },
    "jupyter": {
     "source_hidden": true
    },
    "papermill": {
     "duration": 0.040738,
     "end_time": "2023-01-12T15:02:16.881853",
     "exception": false,
     "start_time": "2023-01-12T15:02:16.841115",
     "status": "completed"
    },
    "tags": []
   },
   "outputs": [
    {
     "name": "stdout",
     "output_type": "stream",
     "text": [
      "Average HR-to-Employeee Ratio: 3.54%\n"
     ]
    }
   ],
   "source": [
    "print(f\"Average HR-to-Employeee Ratio: {HR_ratio:.2f}%\")"
   ]
  },
  {
   "cell_type": "markdown",
   "id": "7cca63cf",
   "metadata": {
    "papermill": {
     "duration": 0.028729,
     "end_time": "2023-01-12T15:02:16.940494",
     "exception": false,
     "start_time": "2023-01-12T15:02:16.911765",
     "status": "completed"
    },
    "tags": []
   },
   "source": [
    "### Average % Employee Working OT"
   ]
  },
  {
   "cell_type": "code",
   "execution_count": 38,
   "id": "af66db58",
   "metadata": {
    "execution": {
     "iopub.execute_input": "2023-01-12T15:02:16.998004Z",
     "iopub.status.busy": "2023-01-12T15:02:16.997078Z",
     "iopub.status.idle": "2023-01-12T15:02:17.005129Z",
     "shell.execute_reply": "2023-01-12T15:02:17.003503Z"
    },
    "jupyter": {
     "source_hidden": true
    },
    "papermill": {
     "duration": 0.039665,
     "end_time": "2023-01-12T15:02:17.008037",
     "exception": false,
     "start_time": "2023-01-12T15:02:16.968372",
     "status": "completed"
    },
    "tags": []
   },
   "outputs": [],
   "source": [
    "percent_OT = raw.OverTime[raw.OverTime==\"Yes\"].count()/raw.OverTime.count()*100"
   ]
  },
  {
   "cell_type": "code",
   "execution_count": 39,
   "id": "a234f717",
   "metadata": {
    "execution": {
     "iopub.execute_input": "2023-01-12T15:02:17.070124Z",
     "iopub.status.busy": "2023-01-12T15:02:17.068828Z",
     "iopub.status.idle": "2023-01-12T15:02:17.075614Z",
     "shell.execute_reply": "2023-01-12T15:02:17.074290Z"
    },
    "jupyter": {
     "source_hidden": true
    },
    "papermill": {
     "duration": 0.042025,
     "end_time": "2023-01-12T15:02:17.078289",
     "exception": false,
     "start_time": "2023-01-12T15:02:17.036264",
     "status": "completed"
    },
    "tags": []
   },
   "outputs": [
    {
     "name": "stdout",
     "output_type": "stream",
     "text": [
      "Average % Employee Working OT: 28.30%\n"
     ]
    }
   ],
   "source": [
    "print(f\"Average % Employee Working OT: {percent_OT:.2f}%\")"
   ]
  },
  {
   "cell_type": "markdown",
   "id": "cd7a1b59",
   "metadata": {
    "papermill": {
     "duration": 0.027275,
     "end_time": "2023-01-12T15:02:17.133429",
     "exception": false,
     "start_time": "2023-01-12T15:02:17.106154",
     "status": "completed"
    },
    "tags": []
   },
   "source": [
    "### Insights into Why Facing High Turnover Rate:"
   ]
  },
  {
   "cell_type": "markdown",
   "id": "7bab1dd9",
   "metadata": {
    "papermill": {
     "duration": 0.029961,
     "end_time": "2023-01-12T15:02:17.192551",
     "exception": false,
     "start_time": "2023-01-12T15:02:17.162590",
     "status": "completed"
    },
    "tags": []
   },
   "source": [
    "The increase in turnover is partially due to the following:\n",
    "- For Summit Biotech, the number of forced layoffs was minimal.\n",
    "- Employees are compelled to stay with their current employer as they appreciated the job security. This was inly true for specific industries and during Covid's peak (in 2020 to the mid 2021). This analysis was conducted at the end of 2021. \n",
    "- Work can be done from anywhere ---> Return to office policy have been playing an important role in employees' decision whether to leave.\n"
   ]
  },
  {
   "cell_type": "markdown",
   "id": "5bc224cb",
   "metadata": {
    "papermill": {
     "duration": 0.027927,
     "end_time": "2023-01-12T15:02:17.249071",
     "exception": false,
     "start_time": "2023-01-12T15:02:17.221144",
     "status": "completed"
    },
    "tags": []
   },
   "source": [
    "Some factors that can contribute to the increase in attrition rate:\n",
    "- Disadvantage Factors: ```DistanceFromHome```, ```BusinessTravel```, ```OverTime```\n",
    "- Compensation: ```MonthlyIncome```, ```JobLevel```, ```StockOptionLevel```, ```PercentSalaryHike```\n",
    "- Satisfaction: ```EnvironmentSatisfaction```, ```JobSatisfaction```, ```RelationshipSatisfaction```\n",
    "- Other ratings: ```JobInvolvement```, ```PerformanceRating```, ```WorkLifeBalance```\n",
    "- Working Status:  ```Department```, ```JobRole```. ```TrainingTimesLastYear```, ```YearsAtCompany```, ```YearsInCurrentRole```, ```YearsSinceLastPromotion```, ```YearsWithCurrManager```\n",
    "- Work History: ```NumCompaniesWorked```, ```TotalWorkingYears```\n",
    "- Personal Profile: ```Age```, ```EducationField```. ```Gender```, ```MaritalStatus```"
   ]
  },
  {
   "cell_type": "markdown",
   "id": "fe32333c",
   "metadata": {
    "papermill": {
     "duration": 0.028791,
     "end_time": "2023-01-12T15:02:17.306740",
     "exception": false,
     "start_time": "2023-01-12T15:02:17.277949",
     "status": "completed"
    },
    "tags": []
   },
   "source": [
    "### Return to Office Policy\n",
    "- The company believed that all employees would have to return to the office based on their eligibility outlined in the 3-phase approach\n",
    "\n",
    "---> Is the manager the one to whom employee can easily be talking with? (Because \"if you are hesitant about returning to the office, please speak with your manager as soon as possible\")\n",
    "\n",
    "- \"Those that are under the age of 60 without increased risk for serious illness are asked to return on July 2021\" ---> Basically, almost all people were back to work right in phase 1 (only 5 people were 60)\n",
    "\n",
    "---> Phase 1 and phase 2 are not really different in terms of the number of employees back to work\n",
    "\n",
    "#### Notes:\n",
    "- There is the lack of information regarding wether working from home was what employees want to. Howeever, based on the attrition rate, it would infer that working from home was more favorable by employees. \n",
    "- The reason why people preferred working from home maybe because they felt more flexible, more comfortable and more effective compared to the conventional working style. Or it could be because they would still be afraid of the negative effect of COVID on their health.  \n",
    "\n",
    "---> Need more survey about whether people prefer working from home and the reason why that is the case"
   ]
  },
  {
   "cell_type": "markdown",
   "id": "d93aac6b",
   "metadata": {
    "jp-MarkdownHeadingCollapsed": true,
    "papermill": {
     "duration": 0.028234,
     "end_time": "2023-01-12T15:02:17.364059",
     "exception": false,
     "start_time": "2023-01-12T15:02:17.335825",
     "status": "completed"
    },
    "tags": []
   },
   "source": [
    "### Reviews from Former Employees\n",
    "- Lab Technician: Back-to-work policy didn't align with her personal priorities (Female, 25)\n",
    "--- \n",
    "- Research Director: Have to be open and flexible in order to thrive (2018, Female, 42)\n",
    "\n",
    "---\n",
    "- Research Scientist: Back-to-work policy (Male, 31)\n",
    "- ***Contradict***: Management is approachable and transparent ---> Maybe because different roles have different managers?\n",
    "---\n",
    "- Executive Assistant: Close-minded management that wont't listen to your ideas + hierachy is very deliberate. (Male, 28)\n",
    "---\n",
    "- Sales Representative x4: ***Salaries for non-managers*** are far below market + Emplotees are ***not allowed to discuss their pay*** + ***Stock options*** are offered but this doesn't make up for the gap + Vacations can be difficult to book (Male, 31)+ Employees are often expected to ***Work Overtime*** without receiving enough compensation + A Lack of transparency (**answer to employee's questions are often vague*** - especially during COVID) + ***Feel forced to return to the office*** when working remotely helped mitigate ***micromanagement*** (Female, 22) + ***The pay isn't bad, but it's not great either*** + ***Felt undervalued*** at times, especially during COVID + Love working remotely + ***Lack of training and emphasis on personal development*** (Male, 23)\n",
    "- ***Contradict***: Felt isolated in this role ---> Maybe because of the lack of connection and guidance from manager?\n",
    "\n",
    "#### Questions:\n",
    "- Whether different roles have different managers?\n",
    "- Non-managers and managers role?\n",
    "\n",
    "#### Strategy:\n",
    "- Adjust the back-to-office policy: Which job roles can be done more productively at home (Sales Rep), which one requires working at the office (Lab Technician, Scientist)\n",
    "- Adjust the training plan (emphasis on personal development/career, more training)\n",
    "- Improve the relationship between managers and employees (clear communication, no hierachy - more open-minded - seek to understand, mitigate micromanagement)\n",
    "- Salaries for non-management roles - Compensate for working overtime (PercentHikeSalary, StockOptions, MonthlyIncome, JobLevel, etc.)"
   ]
  },
  {
   "cell_type": "markdown",
   "id": "951a10d2",
   "metadata": {
    "papermill": {
     "duration": 0.028932,
     "end_time": "2023-01-12T15:02:17.421541",
     "exception": false,
     "start_time": "2023-01-12T15:02:17.392609",
     "status": "completed"
    },
    "tags": []
   },
   "source": [
    "### Finding The Reviewer Status"
   ]
  },
  {
   "cell_type": "markdown",
   "id": "c447913c",
   "metadata": {
    "papermill": {
     "duration": 0.027815,
     "end_time": "2023-01-12T15:02:17.477427",
     "exception": false,
     "start_time": "2023-01-12T15:02:17.449612",
     "status": "completed"
    },
    "tags": []
   },
   "source": [
    "#### Sales Rep - Male 25 - Rating 1/5 \n",
    "#### Problems: Salaries - Stock Options \n"
   ]
  },
  {
   "cell_type": "code",
   "execution_count": 40,
   "id": "30f724ca",
   "metadata": {
    "execution": {
     "iopub.execute_input": "2023-01-12T15:02:17.540191Z",
     "iopub.status.busy": "2023-01-12T15:02:17.538592Z",
     "iopub.status.idle": "2023-01-12T15:02:17.567512Z",
     "shell.execute_reply": "2023-01-12T15:02:17.566249Z"
    },
    "papermill": {
     "duration": 0.064044,
     "end_time": "2023-01-12T15:02:17.570092",
     "exception": false,
     "start_time": "2023-01-12T15:02:17.506048",
     "status": "completed"
    },
    "tags": []
   },
   "outputs": [
    {
     "data": {
      "text/html": [
       "<div>\n",
       "<style scoped>\n",
       "    .dataframe tbody tr th:only-of-type {\n",
       "        vertical-align: middle;\n",
       "    }\n",
       "\n",
       "    .dataframe tbody tr th {\n",
       "        vertical-align: top;\n",
       "    }\n",
       "\n",
       "    .dataframe thead th {\n",
       "        text-align: right;\n",
       "    }\n",
       "</style>\n",
       "<table border=\"1\" class=\"dataframe\">\n",
       "  <thead>\n",
       "    <tr style=\"text-align: right;\">\n",
       "      <th></th>\n",
       "      <th>Age</th>\n",
       "      <th>Attrition</th>\n",
       "      <th>BusinessTravel</th>\n",
       "      <th>Department</th>\n",
       "      <th>DistanceFromHome</th>\n",
       "      <th>EducationField</th>\n",
       "      <th>EmployeeCount</th>\n",
       "      <th>EmployeeNumber</th>\n",
       "      <th>EnvironmentSatisfaction</th>\n",
       "      <th>Gender</th>\n",
       "      <th>JobInvolvement</th>\n",
       "      <th>JobLevel</th>\n",
       "      <th>JobRole</th>\n",
       "      <th>JobSatisfaction</th>\n",
       "      <th>MaritalStatus</th>\n",
       "      <th>MonthlyIncome</th>\n",
       "      <th>NumCompaniesWorked</th>\n",
       "      <th>Over18</th>\n",
       "      <th>OverTime</th>\n",
       "      <th>PercentSalaryHike</th>\n",
       "      <th>PerformanceRating</th>\n",
       "      <th>RelationshipSatisfaction</th>\n",
       "      <th>StockOptionLevel</th>\n",
       "      <th>TotalWorkingYears</th>\n",
       "      <th>TrainingTimesLastYear</th>\n",
       "      <th>WorkLifeBalance</th>\n",
       "      <th>YearsAtCompany</th>\n",
       "      <th>YearsInCurrentRole</th>\n",
       "      <th>YearsSinceLastPromotion</th>\n",
       "      <th>YearsWithCurrManager</th>\n",
       "    </tr>\n",
       "  </thead>\n",
       "  <tbody>\n",
       "    <tr>\n",
       "      <th>478</th>\n",
       "      <td>25</td>\n",
       "      <td>No</td>\n",
       "      <td>Travel_Rarely</td>\n",
       "      <td>Sales</td>\n",
       "      <td>13</td>\n",
       "      <td>Medical</td>\n",
       "      <td>1</td>\n",
       "      <td>645</td>\n",
       "      <td>2</td>\n",
       "      <td>Male</td>\n",
       "      <td>3</td>\n",
       "      <td>1</td>\n",
       "      <td>Sales Representative</td>\n",
       "      <td>3</td>\n",
       "      <td>Married</td>\n",
       "      <td>2305.6</td>\n",
       "      <td>1</td>\n",
       "      <td>Y</td>\n",
       "      <td>No</td>\n",
       "      <td>11</td>\n",
       "      <td>3</td>\n",
       "      <td>3</td>\n",
       "      <td>0</td>\n",
       "      <td>7</td>\n",
       "      <td>1</td>\n",
       "      <td>3</td>\n",
       "      <td>7</td>\n",
       "      <td>4</td>\n",
       "      <td>0</td>\n",
       "      <td>6</td>\n",
       "    </tr>\n",
       "    <tr>\n",
       "      <th>683</th>\n",
       "      <td>25</td>\n",
       "      <td>Yes</td>\n",
       "      <td>Travel_Rarely</td>\n",
       "      <td>Sales</td>\n",
       "      <td>19</td>\n",
       "      <td>Marketing</td>\n",
       "      <td>1</td>\n",
       "      <td>952</td>\n",
       "      <td>3</td>\n",
       "      <td>Male</td>\n",
       "      <td>2</td>\n",
       "      <td>1</td>\n",
       "      <td>Sales Representative</td>\n",
       "      <td>2</td>\n",
       "      <td>Married</td>\n",
       "      <td>2654.3</td>\n",
       "      <td>1</td>\n",
       "      <td>Y</td>\n",
       "      <td>Yes</td>\n",
       "      <td>18</td>\n",
       "      <td>3</td>\n",
       "      <td>3</td>\n",
       "      <td>3</td>\n",
       "      <td>1</td>\n",
       "      <td>2</td>\n",
       "      <td>3</td>\n",
       "      <td>1</td>\n",
       "      <td>0</td>\n",
       "      <td>0</td>\n",
       "      <td>0</td>\n",
       "    </tr>\n",
       "    <tr>\n",
       "      <th>911</th>\n",
       "      <td>25</td>\n",
       "      <td>Yes</td>\n",
       "      <td>Travel_Frequently</td>\n",
       "      <td>Sales</td>\n",
       "      <td>24</td>\n",
       "      <td>Life Sciences</td>\n",
       "      <td>1</td>\n",
       "      <td>1273</td>\n",
       "      <td>3</td>\n",
       "      <td>Male</td>\n",
       "      <td>1</td>\n",
       "      <td>1</td>\n",
       "      <td>Sales Representative</td>\n",
       "      <td>4</td>\n",
       "      <td>Single</td>\n",
       "      <td>1229.8</td>\n",
       "      <td>1</td>\n",
       "      <td>Y</td>\n",
       "      <td>Yes</td>\n",
       "      <td>14</td>\n",
       "      <td>3</td>\n",
       "      <td>4</td>\n",
       "      <td>0</td>\n",
       "      <td>1</td>\n",
       "      <td>4</td>\n",
       "      <td>3</td>\n",
       "      <td>1</td>\n",
       "      <td>0</td>\n",
       "      <td>1</td>\n",
       "      <td>0</td>\n",
       "    </tr>\n",
       "    <tr>\n",
       "      <th>1021</th>\n",
       "      <td>25</td>\n",
       "      <td>Yes</td>\n",
       "      <td>Travel_Rarely</td>\n",
       "      <td>Sales</td>\n",
       "      <td>9</td>\n",
       "      <td>Life Sciences</td>\n",
       "      <td>1</td>\n",
       "      <td>1439</td>\n",
       "      <td>1</td>\n",
       "      <td>Male</td>\n",
       "      <td>2</td>\n",
       "      <td>1</td>\n",
       "      <td>Sales Representative</td>\n",
       "      <td>1</td>\n",
       "      <td>Married</td>\n",
       "      <td>4840.0</td>\n",
       "      <td>3</td>\n",
       "      <td>Y</td>\n",
       "      <td>No</td>\n",
       "      <td>12</td>\n",
       "      <td>3</td>\n",
       "      <td>1</td>\n",
       "      <td>0</td>\n",
       "      <td>6</td>\n",
       "      <td>2</td>\n",
       "      <td>3</td>\n",
       "      <td>3</td>\n",
       "      <td>2</td>\n",
       "      <td>2</td>\n",
       "      <td>2</td>\n",
       "    </tr>\n",
       "  </tbody>\n",
       "</table>\n",
       "</div>"
      ],
      "text/plain": [
       "      Age Attrition     BusinessTravel Department  DistanceFromHome  \\\n",
       "478    25        No      Travel_Rarely      Sales                13   \n",
       "683    25       Yes      Travel_Rarely      Sales                19   \n",
       "911    25       Yes  Travel_Frequently      Sales                24   \n",
       "1021   25       Yes      Travel_Rarely      Sales                 9   \n",
       "\n",
       "     EducationField  EmployeeCount  EmployeeNumber  EnvironmentSatisfaction  \\\n",
       "478         Medical              1             645                        2   \n",
       "683       Marketing              1             952                        3   \n",
       "911   Life Sciences              1            1273                        3   \n",
       "1021  Life Sciences              1            1439                        1   \n",
       "\n",
       "     Gender  JobInvolvement  JobLevel               JobRole  JobSatisfaction  \\\n",
       "478    Male               3         1  Sales Representative                3   \n",
       "683    Male               2         1  Sales Representative                2   \n",
       "911    Male               1         1  Sales Representative                4   \n",
       "1021   Male               2         1  Sales Representative                1   \n",
       "\n",
       "     MaritalStatus  MonthlyIncome  NumCompaniesWorked Over18 OverTime  \\\n",
       "478        Married         2305.6                   1      Y       No   \n",
       "683        Married         2654.3                   1      Y      Yes   \n",
       "911         Single         1229.8                   1      Y      Yes   \n",
       "1021       Married         4840.0                   3      Y       No   \n",
       "\n",
       "      PercentSalaryHike  PerformanceRating  RelationshipSatisfaction  \\\n",
       "478                  11                  3                         3   \n",
       "683                  18                  3                         3   \n",
       "911                  14                  3                         4   \n",
       "1021                 12                  3                         1   \n",
       "\n",
       "      StockOptionLevel  TotalWorkingYears  TrainingTimesLastYear  \\\n",
       "478                  0                  7                      1   \n",
       "683                  3                  1                      2   \n",
       "911                  0                  1                      4   \n",
       "1021                 0                  6                      2   \n",
       "\n",
       "      WorkLifeBalance  YearsAtCompany  YearsInCurrentRole  \\\n",
       "478                 3               7                   4   \n",
       "683                 3               1                   0   \n",
       "911                 3               1                   0   \n",
       "1021                3               3                   2   \n",
       "\n",
       "      YearsSinceLastPromotion  YearsWithCurrManager  \n",
       "478                         0                     6  \n",
       "683                         0                     0  \n",
       "911                         1                     0  \n",
       "1021                        2                     2  "
      ]
     },
     "execution_count": 40,
     "metadata": {},
     "output_type": "execute_result"
    }
   ],
   "source": [
    "raw[(raw.Gender == \"Male\") & (raw.JobRole == \"Sales Representative\") & (raw.Age == 25)]"
   ]
  },
  {
   "cell_type": "markdown",
   "id": "e15fe34e",
   "metadata": {
    "papermill": {
     "duration": 0.028452,
     "end_time": "2023-01-12T15:02:17.627587",
     "exception": false,
     "start_time": "2023-01-12T15:02:17.599135",
     "status": "completed"
    },
    "tags": []
   },
   "source": [
    "#### Research Scientist - Male 31 - Rating 5/5\n",
    "#### Problem: Return-to-office policy (Have been in the Office the whole time so it didn't impact me)"
   ]
  },
  {
   "cell_type": "code",
   "execution_count": 41,
   "id": "8cb35ae6",
   "metadata": {
    "execution": {
     "iopub.execute_input": "2023-01-12T15:02:17.686169Z",
     "iopub.status.busy": "2023-01-12T15:02:17.685747Z",
     "iopub.status.idle": "2023-01-12T15:02:17.714731Z",
     "shell.execute_reply": "2023-01-12T15:02:17.713647Z"
    },
    "papermill": {
     "duration": 0.061816,
     "end_time": "2023-01-12T15:02:17.717505",
     "exception": false,
     "start_time": "2023-01-12T15:02:17.655689",
     "status": "completed"
    },
    "tags": []
   },
   "outputs": [
    {
     "data": {
      "text/html": [
       "<div>\n",
       "<style scoped>\n",
       "    .dataframe tbody tr th:only-of-type {\n",
       "        vertical-align: middle;\n",
       "    }\n",
       "\n",
       "    .dataframe tbody tr th {\n",
       "        vertical-align: top;\n",
       "    }\n",
       "\n",
       "    .dataframe thead th {\n",
       "        text-align: right;\n",
       "    }\n",
       "</style>\n",
       "<table border=\"1\" class=\"dataframe\">\n",
       "  <thead>\n",
       "    <tr style=\"text-align: right;\">\n",
       "      <th></th>\n",
       "      <th>Age</th>\n",
       "      <th>Attrition</th>\n",
       "      <th>BusinessTravel</th>\n",
       "      <th>Department</th>\n",
       "      <th>DistanceFromHome</th>\n",
       "      <th>EducationField</th>\n",
       "      <th>EmployeeCount</th>\n",
       "      <th>EmployeeNumber</th>\n",
       "      <th>EnvironmentSatisfaction</th>\n",
       "      <th>Gender</th>\n",
       "      <th>JobInvolvement</th>\n",
       "      <th>JobLevel</th>\n",
       "      <th>JobRole</th>\n",
       "      <th>JobSatisfaction</th>\n",
       "      <th>MaritalStatus</th>\n",
       "      <th>MonthlyIncome</th>\n",
       "      <th>NumCompaniesWorked</th>\n",
       "      <th>Over18</th>\n",
       "      <th>OverTime</th>\n",
       "      <th>PercentSalaryHike</th>\n",
       "      <th>PerformanceRating</th>\n",
       "      <th>RelationshipSatisfaction</th>\n",
       "      <th>StockOptionLevel</th>\n",
       "      <th>TotalWorkingYears</th>\n",
       "      <th>TrainingTimesLastYear</th>\n",
       "      <th>WorkLifeBalance</th>\n",
       "      <th>YearsAtCompany</th>\n",
       "      <th>YearsInCurrentRole</th>\n",
       "      <th>YearsSinceLastPromotion</th>\n",
       "      <th>YearsWithCurrManager</th>\n",
       "    </tr>\n",
       "  </thead>\n",
       "  <tbody>\n",
       "    <tr>\n",
       "      <th>12</th>\n",
       "      <td>31</td>\n",
       "      <td>No</td>\n",
       "      <td>Travel_Rarely</td>\n",
       "      <td>Research &amp; Development</td>\n",
       "      <td>26</td>\n",
       "      <td>Life Sciences</td>\n",
       "      <td>1</td>\n",
       "      <td>16</td>\n",
       "      <td>1</td>\n",
       "      <td>Male</td>\n",
       "      <td>3</td>\n",
       "      <td>1</td>\n",
       "      <td>Research Scientist</td>\n",
       "      <td>3</td>\n",
       "      <td>Divorced</td>\n",
       "      <td>3202.1</td>\n",
       "      <td>1</td>\n",
       "      <td>Y</td>\n",
       "      <td>No</td>\n",
       "      <td>17</td>\n",
       "      <td>3</td>\n",
       "      <td>4</td>\n",
       "      <td>1</td>\n",
       "      <td>5</td>\n",
       "      <td>1</td>\n",
       "      <td>2</td>\n",
       "      <td>5</td>\n",
       "      <td>2</td>\n",
       "      <td>4</td>\n",
       "      <td>3</td>\n",
       "    </tr>\n",
       "    <tr>\n",
       "      <th>72</th>\n",
       "      <td>31</td>\n",
       "      <td>No</td>\n",
       "      <td>Travel_Rarely</td>\n",
       "      <td>Research &amp; Development</td>\n",
       "      <td>1</td>\n",
       "      <td>Medical</td>\n",
       "      <td>1</td>\n",
       "      <td>95</td>\n",
       "      <td>3</td>\n",
       "      <td>Male</td>\n",
       "      <td>3</td>\n",
       "      <td>1</td>\n",
       "      <td>Research Scientist</td>\n",
       "      <td>2</td>\n",
       "      <td>Single</td>\n",
       "      <td>2751.1</td>\n",
       "      <td>1</td>\n",
       "      <td>Y</td>\n",
       "      <td>No</td>\n",
       "      <td>17</td>\n",
       "      <td>3</td>\n",
       "      <td>2</td>\n",
       "      <td>0</td>\n",
       "      <td>1</td>\n",
       "      <td>4</td>\n",
       "      <td>3</td>\n",
       "      <td>1</td>\n",
       "      <td>1</td>\n",
       "      <td>1</td>\n",
       "      <td>0</td>\n",
       "    </tr>\n",
       "    <tr>\n",
       "      <th>309</th>\n",
       "      <td>31</td>\n",
       "      <td>No</td>\n",
       "      <td>Travel_Rarely</td>\n",
       "      <td>Research &amp; Development</td>\n",
       "      <td>5</td>\n",
       "      <td>Technical Degree</td>\n",
       "      <td>1</td>\n",
       "      <td>423</td>\n",
       "      <td>3</td>\n",
       "      <td>Male</td>\n",
       "      <td>3</td>\n",
       "      <td>1</td>\n",
       "      <td>Research Scientist</td>\n",
       "      <td>4</td>\n",
       "      <td>Married</td>\n",
       "      <td>5303.1</td>\n",
       "      <td>0</td>\n",
       "      <td>Y</td>\n",
       "      <td>Yes</td>\n",
       "      <td>12</td>\n",
       "      <td>3</td>\n",
       "      <td>3</td>\n",
       "      <td>1</td>\n",
       "      <td>6</td>\n",
       "      <td>4</td>\n",
       "      <td>3</td>\n",
       "      <td>5</td>\n",
       "      <td>2</td>\n",
       "      <td>0</td>\n",
       "      <td>3</td>\n",
       "    </tr>\n",
       "    <tr>\n",
       "      <th>312</th>\n",
       "      <td>31</td>\n",
       "      <td>No</td>\n",
       "      <td>Travel_Rarely</td>\n",
       "      <td>Research &amp; Development</td>\n",
       "      <td>2</td>\n",
       "      <td>Life Sciences</td>\n",
       "      <td>1</td>\n",
       "      <td>426</td>\n",
       "      <td>3</td>\n",
       "      <td>Male</td>\n",
       "      <td>3</td>\n",
       "      <td>1</td>\n",
       "      <td>Research Scientist</td>\n",
       "      <td>4</td>\n",
       "      <td>Divorced</td>\n",
       "      <td>2964.5</td>\n",
       "      <td>0</td>\n",
       "      <td>Y</td>\n",
       "      <td>Yes</td>\n",
       "      <td>18</td>\n",
       "      <td>3</td>\n",
       "      <td>2</td>\n",
       "      <td>1</td>\n",
       "      <td>3</td>\n",
       "      <td>2</td>\n",
       "      <td>1</td>\n",
       "      <td>2</td>\n",
       "      <td>2</td>\n",
       "      <td>2</td>\n",
       "      <td>2</td>\n",
       "    </tr>\n",
       "    <tr>\n",
       "      <th>369</th>\n",
       "      <td>31</td>\n",
       "      <td>No</td>\n",
       "      <td>Travel_Rarely</td>\n",
       "      <td>Research &amp; Development</td>\n",
       "      <td>9</td>\n",
       "      <td>Life Sciences</td>\n",
       "      <td>1</td>\n",
       "      <td>493</td>\n",
       "      <td>3</td>\n",
       "      <td>Male</td>\n",
       "      <td>2</td>\n",
       "      <td>1</td>\n",
       "      <td>Research Scientist</td>\n",
       "      <td>2</td>\n",
       "      <td>Single</td>\n",
       "      <td>2922.7</td>\n",
       "      <td>0</td>\n",
       "      <td>Y</td>\n",
       "      <td>Yes</td>\n",
       "      <td>16</td>\n",
       "      <td>3</td>\n",
       "      <td>4</td>\n",
       "      <td>0</td>\n",
       "      <td>3</td>\n",
       "      <td>5</td>\n",
       "      <td>3</td>\n",
       "      <td>2</td>\n",
       "      <td>2</td>\n",
       "      <td>2</td>\n",
       "      <td>2</td>\n",
       "    </tr>\n",
       "    <tr>\n",
       "      <th>644</th>\n",
       "      <td>31</td>\n",
       "      <td>No</td>\n",
       "      <td>Travel_Rarely</td>\n",
       "      <td>Research &amp; Development</td>\n",
       "      <td>11</td>\n",
       "      <td>Life Sciences</td>\n",
       "      <td>1</td>\n",
       "      <td>895</td>\n",
       "      <td>4</td>\n",
       "      <td>Male</td>\n",
       "      <td>3</td>\n",
       "      <td>1</td>\n",
       "      <td>Research Scientist</td>\n",
       "      <td>4</td>\n",
       "      <td>Married</td>\n",
       "      <td>2591.6</td>\n",
       "      <td>3</td>\n",
       "      <td>Y</td>\n",
       "      <td>Yes</td>\n",
       "      <td>19</td>\n",
       "      <td>3</td>\n",
       "      <td>2</td>\n",
       "      <td>1</td>\n",
       "      <td>8</td>\n",
       "      <td>2</td>\n",
       "      <td>3</td>\n",
       "      <td>6</td>\n",
       "      <td>4</td>\n",
       "      <td>0</td>\n",
       "      <td>2</td>\n",
       "    </tr>\n",
       "    <tr>\n",
       "      <th>709</th>\n",
       "      <td>31</td>\n",
       "      <td>Yes</td>\n",
       "      <td>Non-Travel</td>\n",
       "      <td>Research &amp; Development</td>\n",
       "      <td>9</td>\n",
       "      <td>Medical</td>\n",
       "      <td>1</td>\n",
       "      <td>991</td>\n",
       "      <td>3</td>\n",
       "      <td>Male</td>\n",
       "      <td>2</td>\n",
       "      <td>1</td>\n",
       "      <td>Research Scientist</td>\n",
       "      <td>1</td>\n",
       "      <td>Single</td>\n",
       "      <td>2553.1</td>\n",
       "      <td>0</td>\n",
       "      <td>Y</td>\n",
       "      <td>Yes</td>\n",
       "      <td>22</td>\n",
       "      <td>4</td>\n",
       "      <td>1</td>\n",
       "      <td>0</td>\n",
       "      <td>4</td>\n",
       "      <td>0</td>\n",
       "      <td>3</td>\n",
       "      <td>3</td>\n",
       "      <td>2</td>\n",
       "      <td>1</td>\n",
       "      <td>2</td>\n",
       "    </tr>\n",
       "    <tr>\n",
       "      <th>1382</th>\n",
       "      <td>31</td>\n",
       "      <td>No</td>\n",
       "      <td>Non-Travel</td>\n",
       "      <td>Research &amp; Development</td>\n",
       "      <td>3</td>\n",
       "      <td>Medical</td>\n",
       "      <td>1</td>\n",
       "      <td>1948</td>\n",
       "      <td>3</td>\n",
       "      <td>Male</td>\n",
       "      <td>3</td>\n",
       "      <td>1</td>\n",
       "      <td>Research Scientist</td>\n",
       "      <td>1</td>\n",
       "      <td>Divorced</td>\n",
       "      <td>3371.5</td>\n",
       "      <td>1</td>\n",
       "      <td>Y</td>\n",
       "      <td>Yes</td>\n",
       "      <td>13</td>\n",
       "      <td>3</td>\n",
       "      <td>4</td>\n",
       "      <td>1</td>\n",
       "      <td>4</td>\n",
       "      <td>3</td>\n",
       "      <td>4</td>\n",
       "      <td>4</td>\n",
       "      <td>2</td>\n",
       "      <td>2</td>\n",
       "      <td>3</td>\n",
       "    </tr>\n",
       "    <tr>\n",
       "      <th>1389</th>\n",
       "      <td>31</td>\n",
       "      <td>No</td>\n",
       "      <td>Travel_Frequently</td>\n",
       "      <td>Research &amp; Development</td>\n",
       "      <td>1</td>\n",
       "      <td>Life Sciences</td>\n",
       "      <td>1</td>\n",
       "      <td>1956</td>\n",
       "      <td>4</td>\n",
       "      <td>Male</td>\n",
       "      <td>1</td>\n",
       "      <td>2</td>\n",
       "      <td>Research Scientist</td>\n",
       "      <td>1</td>\n",
       "      <td>Married</td>\n",
       "      <td>5503.3</td>\n",
       "      <td>1</td>\n",
       "      <td>Y</td>\n",
       "      <td>No</td>\n",
       "      <td>21</td>\n",
       "      <td>4</td>\n",
       "      <td>2</td>\n",
       "      <td>0</td>\n",
       "      <td>10</td>\n",
       "      <td>6</td>\n",
       "      <td>3</td>\n",
       "      <td>10</td>\n",
       "      <td>8</td>\n",
       "      <td>8</td>\n",
       "      <td>7</td>\n",
       "    </tr>\n",
       "  </tbody>\n",
       "</table>\n",
       "</div>"
      ],
      "text/plain": [
       "      Age Attrition     BusinessTravel              Department  \\\n",
       "12     31        No      Travel_Rarely  Research & Development   \n",
       "72     31        No      Travel_Rarely  Research & Development   \n",
       "309    31        No      Travel_Rarely  Research & Development   \n",
       "312    31        No      Travel_Rarely  Research & Development   \n",
       "369    31        No      Travel_Rarely  Research & Development   \n",
       "644    31        No      Travel_Rarely  Research & Development   \n",
       "709    31       Yes         Non-Travel  Research & Development   \n",
       "1382   31        No         Non-Travel  Research & Development   \n",
       "1389   31        No  Travel_Frequently  Research & Development   \n",
       "\n",
       "      DistanceFromHome    EducationField  EmployeeCount  EmployeeNumber  \\\n",
       "12                  26     Life Sciences              1              16   \n",
       "72                   1           Medical              1              95   \n",
       "309                  5  Technical Degree              1             423   \n",
       "312                  2     Life Sciences              1             426   \n",
       "369                  9     Life Sciences              1             493   \n",
       "644                 11     Life Sciences              1             895   \n",
       "709                  9           Medical              1             991   \n",
       "1382                 3           Medical              1            1948   \n",
       "1389                 1     Life Sciences              1            1956   \n",
       "\n",
       "      EnvironmentSatisfaction Gender  JobInvolvement  JobLevel  \\\n",
       "12                          1   Male               3         1   \n",
       "72                          3   Male               3         1   \n",
       "309                         3   Male               3         1   \n",
       "312                         3   Male               3         1   \n",
       "369                         3   Male               2         1   \n",
       "644                         4   Male               3         1   \n",
       "709                         3   Male               2         1   \n",
       "1382                        3   Male               3         1   \n",
       "1389                        4   Male               1         2   \n",
       "\n",
       "                 JobRole  JobSatisfaction MaritalStatus  MonthlyIncome  \\\n",
       "12    Research Scientist                3      Divorced         3202.1   \n",
       "72    Research Scientist                2        Single         2751.1   \n",
       "309   Research Scientist                4       Married         5303.1   \n",
       "312   Research Scientist                4      Divorced         2964.5   \n",
       "369   Research Scientist                2        Single         2922.7   \n",
       "644   Research Scientist                4       Married         2591.6   \n",
       "709   Research Scientist                1        Single         2553.1   \n",
       "1382  Research Scientist                1      Divorced         3371.5   \n",
       "1389  Research Scientist                1       Married         5503.3   \n",
       "\n",
       "      NumCompaniesWorked Over18 OverTime  PercentSalaryHike  \\\n",
       "12                     1      Y       No                 17   \n",
       "72                     1      Y       No                 17   \n",
       "309                    0      Y      Yes                 12   \n",
       "312                    0      Y      Yes                 18   \n",
       "369                    0      Y      Yes                 16   \n",
       "644                    3      Y      Yes                 19   \n",
       "709                    0      Y      Yes                 22   \n",
       "1382                   1      Y      Yes                 13   \n",
       "1389                   1      Y       No                 21   \n",
       "\n",
       "      PerformanceRating  RelationshipSatisfaction  StockOptionLevel  \\\n",
       "12                    3                         4                 1   \n",
       "72                    3                         2                 0   \n",
       "309                   3                         3                 1   \n",
       "312                   3                         2                 1   \n",
       "369                   3                         4                 0   \n",
       "644                   3                         2                 1   \n",
       "709                   4                         1                 0   \n",
       "1382                  3                         4                 1   \n",
       "1389                  4                         2                 0   \n",
       "\n",
       "      TotalWorkingYears  TrainingTimesLastYear  WorkLifeBalance  \\\n",
       "12                    5                      1                2   \n",
       "72                    1                      4                3   \n",
       "309                   6                      4                3   \n",
       "312                   3                      2                1   \n",
       "369                   3                      5                3   \n",
       "644                   8                      2                3   \n",
       "709                   4                      0                3   \n",
       "1382                  4                      3                4   \n",
       "1389                 10                      6                3   \n",
       "\n",
       "      YearsAtCompany  YearsInCurrentRole  YearsSinceLastPromotion  \\\n",
       "12                 5                   2                        4   \n",
       "72                 1                   1                        1   \n",
       "309                5                   2                        0   \n",
       "312                2                   2                        2   \n",
       "369                2                   2                        2   \n",
       "644                6                   4                        0   \n",
       "709                3                   2                        1   \n",
       "1382               4                   2                        2   \n",
       "1389              10                   8                        8   \n",
       "\n",
       "      YearsWithCurrManager  \n",
       "12                       3  \n",
       "72                       0  \n",
       "309                      3  \n",
       "312                      2  \n",
       "369                      2  \n",
       "644                      2  \n",
       "709                      2  \n",
       "1382                     3  \n",
       "1389                     7  "
      ]
     },
     "execution_count": 41,
     "metadata": {},
     "output_type": "execute_result"
    }
   ],
   "source": [
    "raw[(raw.Gender == \"Male\") & (raw.JobRole == \"Research Scientist\") & (raw.Age == 31)]"
   ]
  },
  {
   "cell_type": "markdown",
   "id": "1d6b34ff",
   "metadata": {
    "papermill": {
     "duration": 0.028988,
     "end_time": "2023-01-12T15:02:17.775184",
     "exception": false,
     "start_time": "2023-01-12T15:02:17.746196",
     "status": "completed"
    },
    "tags": []
   },
   "source": [
    "#### Sales Rep - Male 23 - Rating 2/5\n",
    "#### Problems: Felt under supported/ isolated in my role - Lack of training and emphasis on personal development"
   ]
  },
  {
   "cell_type": "code",
   "execution_count": 42,
   "id": "7d1f7503",
   "metadata": {
    "execution": {
     "iopub.execute_input": "2023-01-12T15:02:17.835018Z",
     "iopub.status.busy": "2023-01-12T15:02:17.834617Z",
     "iopub.status.idle": "2023-01-12T15:02:17.858343Z",
     "shell.execute_reply": "2023-01-12T15:02:17.857436Z"
    },
    "papermill": {
     "duration": 0.056323,
     "end_time": "2023-01-12T15:02:17.860521",
     "exception": false,
     "start_time": "2023-01-12T15:02:17.804198",
     "status": "completed"
    },
    "tags": []
   },
   "outputs": [
    {
     "data": {
      "text/html": [
       "<div>\n",
       "<style scoped>\n",
       "    .dataframe tbody tr th:only-of-type {\n",
       "        vertical-align: middle;\n",
       "    }\n",
       "\n",
       "    .dataframe tbody tr th {\n",
       "        vertical-align: top;\n",
       "    }\n",
       "\n",
       "    .dataframe thead th {\n",
       "        text-align: right;\n",
       "    }\n",
       "</style>\n",
       "<table border=\"1\" class=\"dataframe\">\n",
       "  <thead>\n",
       "    <tr style=\"text-align: right;\">\n",
       "      <th></th>\n",
       "      <th>Age</th>\n",
       "      <th>Attrition</th>\n",
       "      <th>BusinessTravel</th>\n",
       "      <th>Department</th>\n",
       "      <th>DistanceFromHome</th>\n",
       "      <th>EducationField</th>\n",
       "      <th>EmployeeCount</th>\n",
       "      <th>EmployeeNumber</th>\n",
       "      <th>EnvironmentSatisfaction</th>\n",
       "      <th>Gender</th>\n",
       "      <th>JobInvolvement</th>\n",
       "      <th>JobLevel</th>\n",
       "      <th>JobRole</th>\n",
       "      <th>JobSatisfaction</th>\n",
       "      <th>MaritalStatus</th>\n",
       "      <th>MonthlyIncome</th>\n",
       "      <th>NumCompaniesWorked</th>\n",
       "      <th>Over18</th>\n",
       "      <th>OverTime</th>\n",
       "      <th>PercentSalaryHike</th>\n",
       "      <th>PerformanceRating</th>\n",
       "      <th>RelationshipSatisfaction</th>\n",
       "      <th>StockOptionLevel</th>\n",
       "      <th>TotalWorkingYears</th>\n",
       "      <th>TrainingTimesLastYear</th>\n",
       "      <th>WorkLifeBalance</th>\n",
       "      <th>YearsAtCompany</th>\n",
       "      <th>YearsInCurrentRole</th>\n",
       "      <th>YearsSinceLastPromotion</th>\n",
       "      <th>YearsWithCurrManager</th>\n",
       "    </tr>\n",
       "  </thead>\n",
       "  <tbody>\n",
       "    <tr>\n",
       "      <th>86</th>\n",
       "      <td>23</td>\n",
       "      <td>No</td>\n",
       "      <td>Travel_Rarely</td>\n",
       "      <td>Sales</td>\n",
       "      <td>2</td>\n",
       "      <td>Technical Degree</td>\n",
       "      <td>1</td>\n",
       "      <td>113</td>\n",
       "      <td>3</td>\n",
       "      <td>Male</td>\n",
       "      <td>3</td>\n",
       "      <td>1</td>\n",
       "      <td>Sales Representative</td>\n",
       "      <td>1</td>\n",
       "      <td>Divorced</td>\n",
       "      <td>2554.2</td>\n",
       "      <td>3</td>\n",
       "      <td>Y</td>\n",
       "      <td>No</td>\n",
       "      <td>13</td>\n",
       "      <td>3</td>\n",
       "      <td>3</td>\n",
       "      <td>1</td>\n",
       "      <td>3</td>\n",
       "      <td>3</td>\n",
       "      <td>3</td>\n",
       "      <td>0</td>\n",
       "      <td>0</td>\n",
       "      <td>0</td>\n",
       "      <td>0</td>\n",
       "    </tr>\n",
       "    <tr>\n",
       "      <th>1213</th>\n",
       "      <td>23</td>\n",
       "      <td>Yes</td>\n",
       "      <td>Travel_Rarely</td>\n",
       "      <td>Sales</td>\n",
       "      <td>7</td>\n",
       "      <td>Life Sciences</td>\n",
       "      <td>1</td>\n",
       "      <td>1702</td>\n",
       "      <td>3</td>\n",
       "      <td>Male</td>\n",
       "      <td>3</td>\n",
       "      <td>1</td>\n",
       "      <td>Sales Representative</td>\n",
       "      <td>4</td>\n",
       "      <td>Divorced</td>\n",
       "      <td>2502.5</td>\n",
       "      <td>1</td>\n",
       "      <td>Y</td>\n",
       "      <td>Yes</td>\n",
       "      <td>21</td>\n",
       "      <td>4</td>\n",
       "      <td>2</td>\n",
       "      <td>1</td>\n",
       "      <td>3</td>\n",
       "      <td>2</td>\n",
       "      <td>3</td>\n",
       "      <td>3</td>\n",
       "      <td>2</td>\n",
       "      <td>0</td>\n",
       "      <td>2</td>\n",
       "    </tr>\n",
       "    <tr>\n",
       "      <th>1438</th>\n",
       "      <td>23</td>\n",
       "      <td>Yes</td>\n",
       "      <td>Travel_Frequently</td>\n",
       "      <td>Sales</td>\n",
       "      <td>9</td>\n",
       "      <td>Marketing</td>\n",
       "      <td>1</td>\n",
       "      <td>2023</td>\n",
       "      <td>4</td>\n",
       "      <td>Male</td>\n",
       "      <td>3</td>\n",
       "      <td>1</td>\n",
       "      <td>Sales Representative</td>\n",
       "      <td>1</td>\n",
       "      <td>Married</td>\n",
       "      <td>1969.0</td>\n",
       "      <td>1</td>\n",
       "      <td>Y</td>\n",
       "      <td>No</td>\n",
       "      <td>19</td>\n",
       "      <td>3</td>\n",
       "      <td>1</td>\n",
       "      <td>1</td>\n",
       "      <td>1</td>\n",
       "      <td>3</td>\n",
       "      <td>2</td>\n",
       "      <td>1</td>\n",
       "      <td>0</td>\n",
       "      <td>1</td>\n",
       "      <td>0</td>\n",
       "    </tr>\n",
       "  </tbody>\n",
       "</table>\n",
       "</div>"
      ],
      "text/plain": [
       "      Age Attrition     BusinessTravel Department  DistanceFromHome  \\\n",
       "86     23        No      Travel_Rarely      Sales                 2   \n",
       "1213   23       Yes      Travel_Rarely      Sales                 7   \n",
       "1438   23       Yes  Travel_Frequently      Sales                 9   \n",
       "\n",
       "        EducationField  EmployeeCount  EmployeeNumber  \\\n",
       "86    Technical Degree              1             113   \n",
       "1213     Life Sciences              1            1702   \n",
       "1438         Marketing              1            2023   \n",
       "\n",
       "      EnvironmentSatisfaction Gender  JobInvolvement  JobLevel  \\\n",
       "86                          3   Male               3         1   \n",
       "1213                        3   Male               3         1   \n",
       "1438                        4   Male               3         1   \n",
       "\n",
       "                   JobRole  JobSatisfaction MaritalStatus  MonthlyIncome  \\\n",
       "86    Sales Representative                1      Divorced         2554.2   \n",
       "1213  Sales Representative                4      Divorced         2502.5   \n",
       "1438  Sales Representative                1       Married         1969.0   \n",
       "\n",
       "      NumCompaniesWorked Over18 OverTime  PercentSalaryHike  \\\n",
       "86                     3      Y       No                 13   \n",
       "1213                   1      Y      Yes                 21   \n",
       "1438                   1      Y       No                 19   \n",
       "\n",
       "      PerformanceRating  RelationshipSatisfaction  StockOptionLevel  \\\n",
       "86                    3                         3                 1   \n",
       "1213                  4                         2                 1   \n",
       "1438                  3                         1                 1   \n",
       "\n",
       "      TotalWorkingYears  TrainingTimesLastYear  WorkLifeBalance  \\\n",
       "86                    3                      3                3   \n",
       "1213                  3                      2                3   \n",
       "1438                  1                      3                2   \n",
       "\n",
       "      YearsAtCompany  YearsInCurrentRole  YearsSinceLastPromotion  \\\n",
       "86                 0                   0                        0   \n",
       "1213               3                   2                        0   \n",
       "1438               1                   0                        1   \n",
       "\n",
       "      YearsWithCurrManager  \n",
       "86                       0  \n",
       "1213                     2  \n",
       "1438                     0  "
      ]
     },
     "execution_count": 42,
     "metadata": {},
     "output_type": "execute_result"
    }
   ],
   "source": [
    "raw[(raw.Gender == \"Male\") & (raw.JobRole == \"Sales Representative\") & (raw.Age == 23)]"
   ]
  },
  {
   "cell_type": "markdown",
   "id": "455821fc",
   "metadata": {
    "papermill": {
     "duration": 0.028948,
     "end_time": "2023-01-12T15:02:17.920595",
     "exception": false,
     "start_time": "2023-01-12T15:02:17.891647",
     "status": "completed"
    },
    "tags": []
   },
   "source": [
    "#### Conclusion:\n",
    "- Many of the reviewers can not be found in the dataset\n",
    "- There is a person who was not working here since 2019 and she was not listed in the dataset, which makes sense because this is the employee dataset for 2021 \n",
    "- However, there are many reviewers who were still doing the review in the beginning of 2021 but they can not be found. \n",
    "\n",
    "---> ***One assumption is the date they reviewed does not reflect whether they still working in Summit Biotech at that time.***\n",
    "----> If this is the case, ***those reviews cannot reflect exactly what was going on in the company at that present moment***. Maybe they left the company in Sep 2020 but they were asked for reviewing in Jan 2021 and ***maybe the company made some major changes in ```compensation```, ```relationship with managers``` and so on*** \n",
    "\n",
    "---> Can we trust what we found here? What if those reviewers are not in our dataset but we found someone with the same demographics?\n",
    "---> The way to make those survey have much more sense is to assumme that they were not changing much between the time when the interviee left and when they were asked for a review. \n",
    "---> It is unconfident to tell wether those interviewees are listed in the dataset. It is safe when we do not do any analysis to compare the interview with the status of the seeeingly true employees we found\n",
    "\n",
    "***---> Based on the reviews, with assumption that nothing changed much since they left reviewers left the company, we can still draw some insights from the dataset***"
   ]
  },
  {
   "cell_type": "markdown",
   "id": "7afb1321",
   "metadata": {
    "papermill": {
     "duration": 0.029071,
     "end_time": "2023-01-12T15:02:17.978531",
     "exception": false,
     "start_time": "2023-01-12T15:02:17.949460",
     "status": "completed"
    },
    "tags": []
   },
   "source": [
    "### Training Last Year"
   ]
  },
  {
   "cell_type": "code",
   "execution_count": 43,
   "id": "c62a890d",
   "metadata": {
    "execution": {
     "iopub.execute_input": "2023-01-12T15:02:18.041344Z",
     "iopub.status.busy": "2023-01-12T15:02:18.040618Z",
     "iopub.status.idle": "2023-01-12T15:02:18.122678Z",
     "shell.execute_reply": "2023-01-12T15:02:18.121171Z"
    },
    "jupyter": {
     "source_hidden": true
    },
    "papermill": {
     "duration": 0.117248,
     "end_time": "2023-01-12T15:02:18.125707",
     "exception": false,
     "start_time": "2023-01-12T15:02:18.008459",
     "status": "completed"
    },
    "tags": []
   },
   "outputs": [
    {
     "data": {
      "text/html": [
       "<div>\n",
       "<style scoped>\n",
       "    .dataframe tbody tr th:only-of-type {\n",
       "        vertical-align: middle;\n",
       "    }\n",
       "\n",
       "    .dataframe tbody tr th {\n",
       "        vertical-align: top;\n",
       "    }\n",
       "\n",
       "    .dataframe thead th {\n",
       "        text-align: right;\n",
       "    }\n",
       "</style>\n",
       "<table border=\"1\" class=\"dataframe\">\n",
       "  <thead>\n",
       "    <tr style=\"text-align: right;\">\n",
       "      <th></th>\n",
       "      <th></th>\n",
       "      <th>count</th>\n",
       "      <th>mean</th>\n",
       "      <th>std</th>\n",
       "      <th>min</th>\n",
       "      <th>25%</th>\n",
       "      <th>50%</th>\n",
       "      <th>75%</th>\n",
       "      <th>max</th>\n",
       "    </tr>\n",
       "    <tr>\n",
       "      <th>JobRole</th>\n",
       "      <th>Attrition</th>\n",
       "      <th></th>\n",
       "      <th></th>\n",
       "      <th></th>\n",
       "      <th></th>\n",
       "      <th></th>\n",
       "      <th></th>\n",
       "      <th></th>\n",
       "      <th></th>\n",
       "    </tr>\n",
       "  </thead>\n",
       "  <tbody>\n",
       "    <tr>\n",
       "      <th rowspan=\"2\" valign=\"top\">Healthcare Representative</th>\n",
       "      <th>No</th>\n",
       "      <td>122.0</td>\n",
       "      <td>2.786885</td>\n",
       "      <td>1.392005</td>\n",
       "      <td>0.0</td>\n",
       "      <td>2.00</td>\n",
       "      <td>3.0</td>\n",
       "      <td>3.00</td>\n",
       "      <td>6.0</td>\n",
       "    </tr>\n",
       "    <tr>\n",
       "      <th>Yes</th>\n",
       "      <td>9.0</td>\n",
       "      <td>2.222222</td>\n",
       "      <td>0.833333</td>\n",
       "      <td>1.0</td>\n",
       "      <td>2.00</td>\n",
       "      <td>2.0</td>\n",
       "      <td>2.00</td>\n",
       "      <td>4.0</td>\n",
       "    </tr>\n",
       "    <tr>\n",
       "      <th rowspan=\"2\" valign=\"top\">Human Resources</th>\n",
       "      <th>No</th>\n",
       "      <td>40.0</td>\n",
       "      <td>2.700000</td>\n",
       "      <td>1.159133</td>\n",
       "      <td>1.0</td>\n",
       "      <td>2.00</td>\n",
       "      <td>2.5</td>\n",
       "      <td>3.00</td>\n",
       "      <td>6.0</td>\n",
       "    </tr>\n",
       "    <tr>\n",
       "      <th>Yes</th>\n",
       "      <td>12.0</td>\n",
       "      <td>2.083333</td>\n",
       "      <td>1.240112</td>\n",
       "      <td>0.0</td>\n",
       "      <td>1.75</td>\n",
       "      <td>2.0</td>\n",
       "      <td>3.00</td>\n",
       "      <td>4.0</td>\n",
       "    </tr>\n",
       "    <tr>\n",
       "      <th rowspan=\"2\" valign=\"top\">Laboratory Technician</th>\n",
       "      <th>No</th>\n",
       "      <td>197.0</td>\n",
       "      <td>3.040609</td>\n",
       "      <td>1.300854</td>\n",
       "      <td>0.0</td>\n",
       "      <td>2.00</td>\n",
       "      <td>3.0</td>\n",
       "      <td>4.00</td>\n",
       "      <td>6.0</td>\n",
       "    </tr>\n",
       "    <tr>\n",
       "      <th>Yes</th>\n",
       "      <td>62.0</td>\n",
       "      <td>2.661290</td>\n",
       "      <td>1.266770</td>\n",
       "      <td>0.0</td>\n",
       "      <td>2.00</td>\n",
       "      <td>2.0</td>\n",
       "      <td>3.00</td>\n",
       "      <td>6.0</td>\n",
       "    </tr>\n",
       "    <tr>\n",
       "      <th rowspan=\"2\" valign=\"top\">Manager</th>\n",
       "      <th>No</th>\n",
       "      <td>97.0</td>\n",
       "      <td>2.845361</td>\n",
       "      <td>1.219120</td>\n",
       "      <td>0.0</td>\n",
       "      <td>2.00</td>\n",
       "      <td>3.0</td>\n",
       "      <td>3.00</td>\n",
       "      <td>6.0</td>\n",
       "    </tr>\n",
       "    <tr>\n",
       "      <th>Yes</th>\n",
       "      <td>5.0</td>\n",
       "      <td>2.200000</td>\n",
       "      <td>0.447214</td>\n",
       "      <td>2.0</td>\n",
       "      <td>2.00</td>\n",
       "      <td>2.0</td>\n",
       "      <td>2.00</td>\n",
       "      <td>3.0</td>\n",
       "    </tr>\n",
       "    <tr>\n",
       "      <th rowspan=\"2\" valign=\"top\">Manufacturing Director</th>\n",
       "      <th>No</th>\n",
       "      <td>135.0</td>\n",
       "      <td>2.755556</td>\n",
       "      <td>1.390086</td>\n",
       "      <td>0.0</td>\n",
       "      <td>2.00</td>\n",
       "      <td>2.0</td>\n",
       "      <td>3.00</td>\n",
       "      <td>6.0</td>\n",
       "    </tr>\n",
       "    <tr>\n",
       "      <th>Yes</th>\n",
       "      <td>10.0</td>\n",
       "      <td>2.600000</td>\n",
       "      <td>1.505545</td>\n",
       "      <td>0.0</td>\n",
       "      <td>2.00</td>\n",
       "      <td>2.5</td>\n",
       "      <td>3.75</td>\n",
       "      <td>5.0</td>\n",
       "    </tr>\n",
       "    <tr>\n",
       "      <th rowspan=\"2\" valign=\"top\">Research Director</th>\n",
       "      <th>No</th>\n",
       "      <td>78.0</td>\n",
       "      <td>2.820513</td>\n",
       "      <td>1.214026</td>\n",
       "      <td>0.0</td>\n",
       "      <td>2.00</td>\n",
       "      <td>3.0</td>\n",
       "      <td>3.00</td>\n",
       "      <td>6.0</td>\n",
       "    </tr>\n",
       "    <tr>\n",
       "      <th>Yes</th>\n",
       "      <td>2.0</td>\n",
       "      <td>1.000000</td>\n",
       "      <td>1.414214</td>\n",
       "      <td>0.0</td>\n",
       "      <td>0.50</td>\n",
       "      <td>1.0</td>\n",
       "      <td>1.50</td>\n",
       "      <td>2.0</td>\n",
       "    </tr>\n",
       "    <tr>\n",
       "      <th rowspan=\"2\" valign=\"top\">Research Scientist</th>\n",
       "      <th>No</th>\n",
       "      <td>245.0</td>\n",
       "      <td>2.665306</td>\n",
       "      <td>1.281257</td>\n",
       "      <td>0.0</td>\n",
       "      <td>2.00</td>\n",
       "      <td>3.0</td>\n",
       "      <td>3.00</td>\n",
       "      <td>6.0</td>\n",
       "    </tr>\n",
       "    <tr>\n",
       "      <th>Yes</th>\n",
       "      <td>47.0</td>\n",
       "      <td>2.659574</td>\n",
       "      <td>1.273076</td>\n",
       "      <td>0.0</td>\n",
       "      <td>2.00</td>\n",
       "      <td>2.0</td>\n",
       "      <td>3.50</td>\n",
       "      <td>5.0</td>\n",
       "    </tr>\n",
       "    <tr>\n",
       "      <th rowspan=\"2\" valign=\"top\">Sales Executive</th>\n",
       "      <th>No</th>\n",
       "      <td>269.0</td>\n",
       "      <td>2.869888</td>\n",
       "      <td>1.276139</td>\n",
       "      <td>0.0</td>\n",
       "      <td>2.00</td>\n",
       "      <td>3.0</td>\n",
       "      <td>3.00</td>\n",
       "      <td>6.0</td>\n",
       "    </tr>\n",
       "    <tr>\n",
       "      <th>Yes</th>\n",
       "      <td>57.0</td>\n",
       "      <td>2.649123</td>\n",
       "      <td>1.342854</td>\n",
       "      <td>0.0</td>\n",
       "      <td>2.00</td>\n",
       "      <td>2.0</td>\n",
       "      <td>3.00</td>\n",
       "      <td>6.0</td>\n",
       "    </tr>\n",
       "    <tr>\n",
       "      <th rowspan=\"2\" valign=\"top\">Sales Representative</th>\n",
       "      <th>No</th>\n",
       "      <td>50.0</td>\n",
       "      <td>3.060000</td>\n",
       "      <td>1.202209</td>\n",
       "      <td>1.0</td>\n",
       "      <td>2.00</td>\n",
       "      <td>3.0</td>\n",
       "      <td>3.00</td>\n",
       "      <td>6.0</td>\n",
       "    </tr>\n",
       "    <tr>\n",
       "      <th>Yes</th>\n",
       "      <td>33.0</td>\n",
       "      <td>2.939394</td>\n",
       "      <td>1.087985</td>\n",
       "      <td>0.0</td>\n",
       "      <td>2.00</td>\n",
       "      <td>3.0</td>\n",
       "      <td>3.00</td>\n",
       "      <td>6.0</td>\n",
       "    </tr>\n",
       "  </tbody>\n",
       "</table>\n",
       "</div>"
      ],
      "text/plain": [
       "                                     count      mean       std  min   25%  \\\n",
       "JobRole                   Attrition                                         \n",
       "Healthcare Representative No         122.0  2.786885  1.392005  0.0  2.00   \n",
       "                          Yes          9.0  2.222222  0.833333  1.0  2.00   \n",
       "Human Resources           No          40.0  2.700000  1.159133  1.0  2.00   \n",
       "                          Yes         12.0  2.083333  1.240112  0.0  1.75   \n",
       "Laboratory Technician     No         197.0  3.040609  1.300854  0.0  2.00   \n",
       "                          Yes         62.0  2.661290  1.266770  0.0  2.00   \n",
       "Manager                   No          97.0  2.845361  1.219120  0.0  2.00   \n",
       "                          Yes          5.0  2.200000  0.447214  2.0  2.00   \n",
       "Manufacturing Director    No         135.0  2.755556  1.390086  0.0  2.00   \n",
       "                          Yes         10.0  2.600000  1.505545  0.0  2.00   \n",
       "Research Director         No          78.0  2.820513  1.214026  0.0  2.00   \n",
       "                          Yes          2.0  1.000000  1.414214  0.0  0.50   \n",
       "Research Scientist        No         245.0  2.665306  1.281257  0.0  2.00   \n",
       "                          Yes         47.0  2.659574  1.273076  0.0  2.00   \n",
       "Sales Executive           No         269.0  2.869888  1.276139  0.0  2.00   \n",
       "                          Yes         57.0  2.649123  1.342854  0.0  2.00   \n",
       "Sales Representative      No          50.0  3.060000  1.202209  1.0  2.00   \n",
       "                          Yes         33.0  2.939394  1.087985  0.0  2.00   \n",
       "\n",
       "                                     50%   75%  max  \n",
       "JobRole                   Attrition                  \n",
       "Healthcare Representative No         3.0  3.00  6.0  \n",
       "                          Yes        2.0  2.00  4.0  \n",
       "Human Resources           No         2.5  3.00  6.0  \n",
       "                          Yes        2.0  3.00  4.0  \n",
       "Laboratory Technician     No         3.0  4.00  6.0  \n",
       "                          Yes        2.0  3.00  6.0  \n",
       "Manager                   No         3.0  3.00  6.0  \n",
       "                          Yes        2.0  2.00  3.0  \n",
       "Manufacturing Director    No         2.0  3.00  6.0  \n",
       "                          Yes        2.5  3.75  5.0  \n",
       "Research Director         No         3.0  3.00  6.0  \n",
       "                          Yes        1.0  1.50  2.0  \n",
       "Research Scientist        No         3.0  3.00  6.0  \n",
       "                          Yes        2.0  3.50  5.0  \n",
       "Sales Executive           No         3.0  3.00  6.0  \n",
       "                          Yes        2.0  3.00  6.0  \n",
       "Sales Representative      No         3.0  3.00  6.0  \n",
       "                          Yes        3.0  3.00  6.0  "
      ]
     },
     "execution_count": 43,
     "metadata": {},
     "output_type": "execute_result"
    }
   ],
   "source": [
    "raw.groupby([\"JobRole\", \"Attrition\"]).TrainingTimesLastYear.describe()"
   ]
  },
  {
   "cell_type": "markdown",
   "id": "dd04189b",
   "metadata": {
    "papermill": {
     "duration": 0.028937,
     "end_time": "2023-01-12T15:02:18.185965",
     "exception": false,
     "start_time": "2023-01-12T15:02:18.157028",
     "status": "completed"
    },
    "tags": []
   },
   "source": [
    "#### Notes:\n",
    "- Training Times Last Year in every role seems similar, with the mean around 2.5-3.0\n",
    "- Sale has the highest average of training time\n",
    "\n",
    "***---> The number of training may not be the biggest concern here. What matters is the quality and efficiency of each training section***"
   ]
  },
  {
   "cell_type": "markdown",
   "id": "56ab96e3",
   "metadata": {
    "papermill": {
     "duration": 0.030082,
     "end_time": "2023-01-12T15:02:18.245893",
     "exception": false,
     "start_time": "2023-01-12T15:02:18.215811",
     "status": "completed"
    },
    "tags": []
   },
   "source": [
    "### Percent Salary Hike"
   ]
  },
  {
   "cell_type": "code",
   "execution_count": 44,
   "id": "4a4728c1",
   "metadata": {
    "execution": {
     "iopub.execute_input": "2023-01-12T15:02:18.311598Z",
     "iopub.status.busy": "2023-01-12T15:02:18.310858Z",
     "iopub.status.idle": "2023-01-12T15:02:18.320946Z",
     "shell.execute_reply": "2023-01-12T15:02:18.320119Z"
    },
    "jupyter": {
     "source_hidden": true
    },
    "papermill": {
     "duration": 0.044961,
     "end_time": "2023-01-12T15:02:18.323193",
     "exception": false,
     "start_time": "2023-01-12T15:02:18.278232",
     "status": "completed"
    },
    "tags": []
   },
   "outputs": [
    {
     "data": {
      "text/plain": [
       "count    1470.000000\n",
       "mean       15.209524\n",
       "std         3.659938\n",
       "min        11.000000\n",
       "25%        12.000000\n",
       "50%        14.000000\n",
       "75%        18.000000\n",
       "max        25.000000\n",
       "Name: PercentSalaryHike, dtype: float64"
      ]
     },
     "execution_count": 44,
     "metadata": {},
     "output_type": "execute_result"
    }
   ],
   "source": [
    "raw.PercentSalaryHike.describe()"
   ]
  },
  {
   "cell_type": "code",
   "execution_count": 45,
   "id": "a505ded8",
   "metadata": {
    "execution": {
     "iopub.execute_input": "2023-01-12T15:02:18.385161Z",
     "iopub.status.busy": "2023-01-12T15:02:18.384002Z",
     "iopub.status.idle": "2023-01-12T15:02:18.406824Z",
     "shell.execute_reply": "2023-01-12T15:02:18.404888Z"
    },
    "jupyter": {
     "source_hidden": true
    },
    "papermill": {
     "duration": 0.057079,
     "end_time": "2023-01-12T15:02:18.409861",
     "exception": false,
     "start_time": "2023-01-12T15:02:18.352782",
     "status": "completed"
    },
    "tags": []
   },
   "outputs": [
    {
     "data": {
      "text/html": [
       "<div>\n",
       "<style scoped>\n",
       "    .dataframe tbody tr th:only-of-type {\n",
       "        vertical-align: middle;\n",
       "    }\n",
       "\n",
       "    .dataframe tbody tr th {\n",
       "        vertical-align: top;\n",
       "    }\n",
       "\n",
       "    .dataframe thead th {\n",
       "        text-align: right;\n",
       "    }\n",
       "</style>\n",
       "<table border=\"1\" class=\"dataframe\">\n",
       "  <thead>\n",
       "    <tr style=\"text-align: right;\">\n",
       "      <th></th>\n",
       "      <th>count</th>\n",
       "      <th>mean</th>\n",
       "      <th>std</th>\n",
       "      <th>min</th>\n",
       "      <th>25%</th>\n",
       "      <th>50%</th>\n",
       "      <th>75%</th>\n",
       "      <th>max</th>\n",
       "    </tr>\n",
       "    <tr>\n",
       "      <th>Attrition</th>\n",
       "      <th></th>\n",
       "      <th></th>\n",
       "      <th></th>\n",
       "      <th></th>\n",
       "      <th></th>\n",
       "      <th></th>\n",
       "      <th></th>\n",
       "      <th></th>\n",
       "    </tr>\n",
       "  </thead>\n",
       "  <tbody>\n",
       "    <tr>\n",
       "      <th>No</th>\n",
       "      <td>1233.0</td>\n",
       "      <td>15.231144</td>\n",
       "      <td>3.639511</td>\n",
       "      <td>11.0</td>\n",
       "      <td>12.0</td>\n",
       "      <td>14.0</td>\n",
       "      <td>18.0</td>\n",
       "      <td>25.0</td>\n",
       "    </tr>\n",
       "    <tr>\n",
       "      <th>Yes</th>\n",
       "      <td>237.0</td>\n",
       "      <td>15.097046</td>\n",
       "      <td>3.770294</td>\n",
       "      <td>11.0</td>\n",
       "      <td>12.0</td>\n",
       "      <td>14.0</td>\n",
       "      <td>17.0</td>\n",
       "      <td>25.0</td>\n",
       "    </tr>\n",
       "  </tbody>\n",
       "</table>\n",
       "</div>"
      ],
      "text/plain": [
       "            count       mean       std   min   25%   50%   75%   max\n",
       "Attrition                                                           \n",
       "No         1233.0  15.231144  3.639511  11.0  12.0  14.0  18.0  25.0\n",
       "Yes         237.0  15.097046  3.770294  11.0  12.0  14.0  17.0  25.0"
      ]
     },
     "execution_count": 45,
     "metadata": {},
     "output_type": "execute_result"
    }
   ],
   "source": [
    "raw.groupby(\"Attrition\").PercentSalaryHike.describe()"
   ]
  },
  {
   "cell_type": "markdown",
   "id": "700182b4",
   "metadata": {
    "papermill": {
     "duration": 0.029133,
     "end_time": "2023-01-12T15:02:18.469694",
     "exception": false,
     "start_time": "2023-01-12T15:02:18.440561",
     "status": "completed"
    },
    "tags": []
   },
   "source": [
    "#### Notes:\n",
    "- It seems ```PercentSalaryHike``` has no effect on ```Attrition```"
   ]
  },
  {
   "cell_type": "markdown",
   "id": "6f62144b",
   "metadata": {
    "papermill": {
     "duration": 0.031301,
     "end_time": "2023-01-12T15:02:18.530768",
     "exception": false,
     "start_time": "2023-01-12T15:02:18.499467",
     "status": "completed"
    },
    "tags": []
   },
   "source": [
    "### Monthly Inncome"
   ]
  },
  {
   "cell_type": "code",
   "execution_count": 46,
   "id": "0e2e28da",
   "metadata": {
    "execution": {
     "iopub.execute_input": "2023-01-12T15:02:18.592777Z",
     "iopub.status.busy": "2023-01-12T15:02:18.592080Z",
     "iopub.status.idle": "2023-01-12T15:02:18.616229Z",
     "shell.execute_reply": "2023-01-12T15:02:18.614995Z"
    },
    "papermill": {
     "duration": 0.058669,
     "end_time": "2023-01-12T15:02:18.619478",
     "exception": false,
     "start_time": "2023-01-12T15:02:18.560809",
     "status": "completed"
    },
    "tags": []
   },
   "outputs": [
    {
     "data": {
      "text/html": [
       "<div>\n",
       "<style scoped>\n",
       "    .dataframe tbody tr th:only-of-type {\n",
       "        vertical-align: middle;\n",
       "    }\n",
       "\n",
       "    .dataframe tbody tr th {\n",
       "        vertical-align: top;\n",
       "    }\n",
       "\n",
       "    .dataframe thead th {\n",
       "        text-align: right;\n",
       "    }\n",
       "</style>\n",
       "<table border=\"1\" class=\"dataframe\">\n",
       "  <thead>\n",
       "    <tr style=\"text-align: right;\">\n",
       "      <th></th>\n",
       "      <th>count</th>\n",
       "      <th>mean</th>\n",
       "      <th>std</th>\n",
       "      <th>min</th>\n",
       "      <th>25%</th>\n",
       "      <th>50%</th>\n",
       "      <th>75%</th>\n",
       "      <th>max</th>\n",
       "    </tr>\n",
       "    <tr>\n",
       "      <th>Attrition</th>\n",
       "      <th></th>\n",
       "      <th></th>\n",
       "      <th></th>\n",
       "      <th></th>\n",
       "      <th></th>\n",
       "      <th></th>\n",
       "      <th></th>\n",
       "      <th></th>\n",
       "    </tr>\n",
       "  </thead>\n",
       "  <tbody>\n",
       "    <tr>\n",
       "      <th>No</th>\n",
       "      <td>1233.0</td>\n",
       "      <td>7516.013625</td>\n",
       "      <td>5300.028801</td>\n",
       "      <td>1156.1</td>\n",
       "      <td>3532.1</td>\n",
       "      <td>5724.4</td>\n",
       "      <td>9717.4</td>\n",
       "      <td>21998.9</td>\n",
       "    </tr>\n",
       "    <tr>\n",
       "      <th>Yes</th>\n",
       "      <td>237.0</td>\n",
       "      <td>5265.802110</td>\n",
       "      <td>4004.231404</td>\n",
       "      <td>1109.9</td>\n",
       "      <td>2610.3</td>\n",
       "      <td>3522.2</td>\n",
       "      <td>6507.6</td>\n",
       "      <td>21844.9</td>\n",
       "    </tr>\n",
       "  </tbody>\n",
       "</table>\n",
       "</div>"
      ],
      "text/plain": [
       "            count         mean          std     min     25%     50%     75%  \\\n",
       "Attrition                                                                     \n",
       "No         1233.0  7516.013625  5300.028801  1156.1  3532.1  5724.4  9717.4   \n",
       "Yes         237.0  5265.802110  4004.231404  1109.9  2610.3  3522.2  6507.6   \n",
       "\n",
       "               max  \n",
       "Attrition           \n",
       "No         21998.9  \n",
       "Yes        21844.9  "
      ]
     },
     "execution_count": 46,
     "metadata": {},
     "output_type": "execute_result"
    }
   ],
   "source": [
    "raw.groupby(\"Attrition\").MonthlyIncome.describe()"
   ]
  },
  {
   "cell_type": "markdown",
   "id": "6b191c18",
   "metadata": {
    "papermill": {
     "duration": 0.029535,
     "end_time": "2023-01-12T15:02:18.680611",
     "exception": false,
     "start_time": "2023-01-12T15:02:18.651076",
     "status": "completed"
    },
    "tags": []
   },
   "source": [
    "### Stock Options"
   ]
  },
  {
   "cell_type": "code",
   "execution_count": 47,
   "id": "0bd30dde",
   "metadata": {
    "execution": {
     "iopub.execute_input": "2023-01-12T15:02:18.743859Z",
     "iopub.status.busy": "2023-01-12T15:02:18.743412Z",
     "iopub.status.idle": "2023-01-12T15:02:18.753817Z",
     "shell.execute_reply": "2023-01-12T15:02:18.752636Z"
    },
    "jupyter": {
     "source_hidden": true
    },
    "papermill": {
     "duration": 0.044853,
     "end_time": "2023-01-12T15:02:18.756468",
     "exception": false,
     "start_time": "2023-01-12T15:02:18.711615",
     "status": "completed"
    },
    "tags": []
   },
   "outputs": [],
   "source": [
    "stock = raw.groupby([\"StockOptionLevel\", \"Attrition\"]).agg({\"EmployeeCount\": np.sum})"
   ]
  },
  {
   "cell_type": "code",
   "execution_count": 48,
   "id": "d0a1807e",
   "metadata": {
    "execution": {
     "iopub.execute_input": "2023-01-12T15:02:18.822703Z",
     "iopub.status.busy": "2023-01-12T15:02:18.822272Z",
     "iopub.status.idle": "2023-01-12T15:02:18.833247Z",
     "shell.execute_reply": "2023-01-12T15:02:18.832000Z"
    },
    "jupyter": {
     "source_hidden": true
    },
    "papermill": {
     "duration": 0.047329,
     "end_time": "2023-01-12T15:02:18.835680",
     "exception": false,
     "start_time": "2023-01-12T15:02:18.788351",
     "status": "completed"
    },
    "tags": []
   },
   "outputs": [
    {
     "data": {
      "text/html": [
       "<div>\n",
       "<style scoped>\n",
       "    .dataframe tbody tr th:only-of-type {\n",
       "        vertical-align: middle;\n",
       "    }\n",
       "\n",
       "    .dataframe tbody tr th {\n",
       "        vertical-align: top;\n",
       "    }\n",
       "\n",
       "    .dataframe thead th {\n",
       "        text-align: right;\n",
       "    }\n",
       "</style>\n",
       "<table border=\"1\" class=\"dataframe\">\n",
       "  <thead>\n",
       "    <tr style=\"text-align: right;\">\n",
       "      <th></th>\n",
       "      <th></th>\n",
       "      <th>EmployeeCount</th>\n",
       "    </tr>\n",
       "    <tr>\n",
       "      <th>StockOptionLevel</th>\n",
       "      <th>Attrition</th>\n",
       "      <th></th>\n",
       "    </tr>\n",
       "  </thead>\n",
       "  <tbody>\n",
       "    <tr>\n",
       "      <th rowspan=\"2\" valign=\"top\">0</th>\n",
       "      <th>No</th>\n",
       "      <td>477</td>\n",
       "    </tr>\n",
       "    <tr>\n",
       "      <th>Yes</th>\n",
       "      <td>154</td>\n",
       "    </tr>\n",
       "    <tr>\n",
       "      <th rowspan=\"2\" valign=\"top\">1</th>\n",
       "      <th>No</th>\n",
       "      <td>540</td>\n",
       "    </tr>\n",
       "    <tr>\n",
       "      <th>Yes</th>\n",
       "      <td>56</td>\n",
       "    </tr>\n",
       "    <tr>\n",
       "      <th rowspan=\"2\" valign=\"top\">2</th>\n",
       "      <th>No</th>\n",
       "      <td>146</td>\n",
       "    </tr>\n",
       "    <tr>\n",
       "      <th>Yes</th>\n",
       "      <td>12</td>\n",
       "    </tr>\n",
       "    <tr>\n",
       "      <th rowspan=\"2\" valign=\"top\">3</th>\n",
       "      <th>No</th>\n",
       "      <td>70</td>\n",
       "    </tr>\n",
       "    <tr>\n",
       "      <th>Yes</th>\n",
       "      <td>15</td>\n",
       "    </tr>\n",
       "  </tbody>\n",
       "</table>\n",
       "</div>"
      ],
      "text/plain": [
       "                            EmployeeCount\n",
       "StockOptionLevel Attrition               \n",
       "0                No                   477\n",
       "                 Yes                  154\n",
       "1                No                   540\n",
       "                 Yes                   56\n",
       "2                No                   146\n",
       "                 Yes                   12\n",
       "3                No                    70\n",
       "                 Yes                   15"
      ]
     },
     "execution_count": 48,
     "metadata": {},
     "output_type": "execute_result"
    }
   ],
   "source": [
    "stock"
   ]
  },
  {
   "cell_type": "code",
   "execution_count": 49,
   "id": "913dfb39",
   "metadata": {
    "execution": {
     "iopub.execute_input": "2023-01-12T15:02:18.899270Z",
     "iopub.status.busy": "2023-01-12T15:02:18.898830Z",
     "iopub.status.idle": "2023-01-12T15:02:18.908334Z",
     "shell.execute_reply": "2023-01-12T15:02:18.906981Z"
    },
    "jupyter": {
     "source_hidden": true
    },
    "papermill": {
     "duration": 0.044946,
     "end_time": "2023-01-12T15:02:18.911354",
     "exception": false,
     "start_time": "2023-01-12T15:02:18.866408",
     "status": "completed"
    },
    "tags": []
   },
   "outputs": [],
   "source": [
    "j = 1\n",
    "perc_list = []\n",
    "for i in range(7):\n",
    "    if stock.index[i][0] == stock.index[j][0]:\n",
    "        no_perc = stock.iloc[i].values/(stock.iloc[i].values + stock.iloc[j].values)*100\n",
    "        perc_list.append(no_perc)\n",
    "        yes_perc = 100 - no_perc\n",
    "        perc_list.append(yes_perc)\n",
    "    if j != 7:\n",
    "        j +=1 \n",
    "    "
   ]
  },
  {
   "cell_type": "code",
   "execution_count": 50,
   "id": "46f93e49",
   "metadata": {
    "execution": {
     "iopub.execute_input": "2023-01-12T15:02:18.975367Z",
     "iopub.status.busy": "2023-01-12T15:02:18.974953Z",
     "iopub.status.idle": "2023-01-12T15:02:18.981247Z",
     "shell.execute_reply": "2023-01-12T15:02:18.980085Z"
    },
    "jupyter": {
     "source_hidden": true
    },
    "papermill": {
     "duration": 0.040475,
     "end_time": "2023-01-12T15:02:18.983625",
     "exception": false,
     "start_time": "2023-01-12T15:02:18.943150",
     "status": "completed"
    },
    "tags": []
   },
   "outputs": [],
   "source": [
    "stock[\"EmployeePerc\"] = [perc_list[i][0] for i in range(len(perc_list))]"
   ]
  },
  {
   "cell_type": "code",
   "execution_count": 51,
   "id": "2156813c",
   "metadata": {
    "execution": {
     "iopub.execute_input": "2023-01-12T15:02:19.048436Z",
     "iopub.status.busy": "2023-01-12T15:02:19.048010Z",
     "iopub.status.idle": "2023-01-12T15:02:19.063435Z",
     "shell.execute_reply": "2023-01-12T15:02:19.061897Z"
    },
    "papermill": {
     "duration": 0.050889,
     "end_time": "2023-01-12T15:02:19.066044",
     "exception": false,
     "start_time": "2023-01-12T15:02:19.015155",
     "status": "completed"
    },
    "tags": []
   },
   "outputs": [
    {
     "data": {
      "text/html": [
       "<div>\n",
       "<style scoped>\n",
       "    .dataframe tbody tr th:only-of-type {\n",
       "        vertical-align: middle;\n",
       "    }\n",
       "\n",
       "    .dataframe tbody tr th {\n",
       "        vertical-align: top;\n",
       "    }\n",
       "\n",
       "    .dataframe thead th {\n",
       "        text-align: right;\n",
       "    }\n",
       "</style>\n",
       "<table border=\"1\" class=\"dataframe\">\n",
       "  <thead>\n",
       "    <tr style=\"text-align: right;\">\n",
       "      <th></th>\n",
       "      <th></th>\n",
       "      <th>EmployeeCount</th>\n",
       "      <th>EmployeePerc</th>\n",
       "    </tr>\n",
       "    <tr>\n",
       "      <th>StockOptionLevel</th>\n",
       "      <th>Attrition</th>\n",
       "      <th></th>\n",
       "      <th></th>\n",
       "    </tr>\n",
       "  </thead>\n",
       "  <tbody>\n",
       "    <tr>\n",
       "      <th>2</th>\n",
       "      <th>No</th>\n",
       "      <td>146</td>\n",
       "      <td>92.405063</td>\n",
       "    </tr>\n",
       "    <tr>\n",
       "      <th>1</th>\n",
       "      <th>No</th>\n",
       "      <td>540</td>\n",
       "      <td>90.604027</td>\n",
       "    </tr>\n",
       "    <tr>\n",
       "      <th>3</th>\n",
       "      <th>No</th>\n",
       "      <td>70</td>\n",
       "      <td>82.352941</td>\n",
       "    </tr>\n",
       "    <tr>\n",
       "      <th rowspan=\"2\" valign=\"top\">0</th>\n",
       "      <th>No</th>\n",
       "      <td>477</td>\n",
       "      <td>75.594295</td>\n",
       "    </tr>\n",
       "    <tr>\n",
       "      <th>Yes</th>\n",
       "      <td>154</td>\n",
       "      <td>24.405705</td>\n",
       "    </tr>\n",
       "    <tr>\n",
       "      <th>3</th>\n",
       "      <th>Yes</th>\n",
       "      <td>15</td>\n",
       "      <td>17.647059</td>\n",
       "    </tr>\n",
       "    <tr>\n",
       "      <th>1</th>\n",
       "      <th>Yes</th>\n",
       "      <td>56</td>\n",
       "      <td>9.395973</td>\n",
       "    </tr>\n",
       "    <tr>\n",
       "      <th>2</th>\n",
       "      <th>Yes</th>\n",
       "      <td>12</td>\n",
       "      <td>7.594937</td>\n",
       "    </tr>\n",
       "  </tbody>\n",
       "</table>\n",
       "</div>"
      ],
      "text/plain": [
       "                            EmployeeCount  EmployeePerc\n",
       "StockOptionLevel Attrition                             \n",
       "2                No                   146     92.405063\n",
       "1                No                   540     90.604027\n",
       "3                No                    70     82.352941\n",
       "0                No                   477     75.594295\n",
       "                 Yes                  154     24.405705\n",
       "3                Yes                   15     17.647059\n",
       "1                Yes                   56      9.395973\n",
       "2                Yes                   12      7.594937"
      ]
     },
     "execution_count": 51,
     "metadata": {},
     "output_type": "execute_result"
    }
   ],
   "source": [
    "stock.sort_values(by=[\"EmployeePerc\", \"StockOptionLevel\"], ascending = False)"
   ]
  },
  {
   "cell_type": "code",
   "execution_count": 52,
   "id": "ee5b3e57",
   "metadata": {
    "execution": {
     "iopub.execute_input": "2023-01-12T15:02:19.130994Z",
     "iopub.status.busy": "2023-01-12T15:02:19.130580Z",
     "iopub.status.idle": "2023-01-12T15:02:19.139234Z",
     "shell.execute_reply": "2023-01-12T15:02:19.137986Z"
    },
    "jupyter": {
     "source_hidden": true
    },
    "papermill": {
     "duration": 0.043295,
     "end_time": "2023-01-12T15:02:19.141687",
     "exception": false,
     "start_time": "2023-01-12T15:02:19.098392",
     "status": "completed"
    },
    "tags": []
   },
   "outputs": [],
   "source": [
    "j = 1\n",
    "total_list = []\n",
    "for i in range(7):\n",
    "    if stock.index[i][0] == stock.index[j][0]:\n",
    "        total = stock.iloc[i].values + stock.iloc[j].values\n",
    "        total_list.append(total)\n",
    "        total_list.append(total.copy())\n",
    "    if j != 7:\n",
    "        j +=1 \n",
    "    "
   ]
  },
  {
   "cell_type": "code",
   "execution_count": 53,
   "id": "8177bec7",
   "metadata": {
    "execution": {
     "iopub.execute_input": "2023-01-12T15:02:19.206921Z",
     "iopub.status.busy": "2023-01-12T15:02:19.206491Z",
     "iopub.status.idle": "2023-01-12T15:02:19.212886Z",
     "shell.execute_reply": "2023-01-12T15:02:19.211709Z"
    },
    "jupyter": {
     "source_hidden": true
    },
    "papermill": {
     "duration": 0.042412,
     "end_time": "2023-01-12T15:02:19.215652",
     "exception": false,
     "start_time": "2023-01-12T15:02:19.173240",
     "status": "completed"
    },
    "tags": []
   },
   "outputs": [],
   "source": [
    "stock[\"Total\"] = [total_list[i][0] for i in range(len(total_list))]"
   ]
  },
  {
   "cell_type": "code",
   "execution_count": 54,
   "id": "70dc9a45",
   "metadata": {
    "execution": {
     "iopub.execute_input": "2023-01-12T15:02:19.280311Z",
     "iopub.status.busy": "2023-01-12T15:02:19.279889Z",
     "iopub.status.idle": "2023-01-12T15:02:19.293997Z",
     "shell.execute_reply": "2023-01-12T15:02:19.292820Z"
    },
    "jupyter": {
     "source_hidden": true
    },
    "papermill": {
     "duration": 0.048757,
     "end_time": "2023-01-12T15:02:19.296360",
     "exception": false,
     "start_time": "2023-01-12T15:02:19.247603",
     "status": "completed"
    },
    "tags": []
   },
   "outputs": [
    {
     "data": {
      "text/html": [
       "<div>\n",
       "<style scoped>\n",
       "    .dataframe tbody tr th:only-of-type {\n",
       "        vertical-align: middle;\n",
       "    }\n",
       "\n",
       "    .dataframe tbody tr th {\n",
       "        vertical-align: top;\n",
       "    }\n",
       "\n",
       "    .dataframe thead th {\n",
       "        text-align: right;\n",
       "    }\n",
       "</style>\n",
       "<table border=\"1\" class=\"dataframe\">\n",
       "  <thead>\n",
       "    <tr style=\"text-align: right;\">\n",
       "      <th></th>\n",
       "      <th></th>\n",
       "      <th>EmployeeCount</th>\n",
       "      <th>EmployeePerc</th>\n",
       "      <th>Total</th>\n",
       "    </tr>\n",
       "    <tr>\n",
       "      <th>StockOptionLevel</th>\n",
       "      <th>Attrition</th>\n",
       "      <th></th>\n",
       "      <th></th>\n",
       "      <th></th>\n",
       "    </tr>\n",
       "  </thead>\n",
       "  <tbody>\n",
       "    <tr>\n",
       "      <th rowspan=\"2\" valign=\"top\">0</th>\n",
       "      <th>No</th>\n",
       "      <td>477</td>\n",
       "      <td>75.594295</td>\n",
       "      <td>631.0</td>\n",
       "    </tr>\n",
       "    <tr>\n",
       "      <th>Yes</th>\n",
       "      <td>154</td>\n",
       "      <td>24.405705</td>\n",
       "      <td>631.0</td>\n",
       "    </tr>\n",
       "    <tr>\n",
       "      <th rowspan=\"2\" valign=\"top\">1</th>\n",
       "      <th>No</th>\n",
       "      <td>540</td>\n",
       "      <td>90.604027</td>\n",
       "      <td>596.0</td>\n",
       "    </tr>\n",
       "    <tr>\n",
       "      <th>Yes</th>\n",
       "      <td>56</td>\n",
       "      <td>9.395973</td>\n",
       "      <td>596.0</td>\n",
       "    </tr>\n",
       "    <tr>\n",
       "      <th rowspan=\"2\" valign=\"top\">2</th>\n",
       "      <th>No</th>\n",
       "      <td>146</td>\n",
       "      <td>92.405063</td>\n",
       "      <td>158.0</td>\n",
       "    </tr>\n",
       "    <tr>\n",
       "      <th>Yes</th>\n",
       "      <td>12</td>\n",
       "      <td>7.594937</td>\n",
       "      <td>158.0</td>\n",
       "    </tr>\n",
       "    <tr>\n",
       "      <th rowspan=\"2\" valign=\"top\">3</th>\n",
       "      <th>No</th>\n",
       "      <td>70</td>\n",
       "      <td>82.352941</td>\n",
       "      <td>85.0</td>\n",
       "    </tr>\n",
       "    <tr>\n",
       "      <th>Yes</th>\n",
       "      <td>15</td>\n",
       "      <td>17.647059</td>\n",
       "      <td>85.0</td>\n",
       "    </tr>\n",
       "  </tbody>\n",
       "</table>\n",
       "</div>"
      ],
      "text/plain": [
       "                            EmployeeCount  EmployeePerc  Total\n",
       "StockOptionLevel Attrition                                    \n",
       "0                No                   477     75.594295  631.0\n",
       "                 Yes                  154     24.405705  631.0\n",
       "1                No                   540     90.604027  596.0\n",
       "                 Yes                   56      9.395973  596.0\n",
       "2                No                   146     92.405063  158.0\n",
       "                 Yes                   12      7.594937  158.0\n",
       "3                No                    70     82.352941   85.0\n",
       "                 Yes                   15     17.647059   85.0"
      ]
     },
     "execution_count": 54,
     "metadata": {},
     "output_type": "execute_result"
    }
   ],
   "source": [
    "stock"
   ]
  },
  {
   "cell_type": "markdown",
   "id": "2a77d51f",
   "metadata": {
    "papermill": {
     "duration": 0.033136,
     "end_time": "2023-01-12T15:02:19.360479",
     "exception": false,
     "start_time": "2023-01-12T15:02:19.327343",
     "status": "completed"
    },
    "tags": []
   },
   "source": [
    "### Job Level"
   ]
  },
  {
   "cell_type": "code",
   "execution_count": 55,
   "id": "df790593",
   "metadata": {
    "execution": {
     "iopub.execute_input": "2023-01-12T15:02:19.427579Z",
     "iopub.status.busy": "2023-01-12T15:02:19.427165Z",
     "iopub.status.idle": "2023-01-12T15:02:19.438446Z",
     "shell.execute_reply": "2023-01-12T15:02:19.436839Z"
    },
    "jupyter": {
     "source_hidden": true
    },
    "papermill": {
     "duration": 0.047602,
     "end_time": "2023-01-12T15:02:19.441171",
     "exception": false,
     "start_time": "2023-01-12T15:02:19.393569",
     "status": "completed"
    },
    "tags": []
   },
   "outputs": [],
   "source": [
    "joblevel_att = raw.groupby([\"JobLevel\", \"Attrition\"]).agg({'EmployeeCount':sum})"
   ]
  },
  {
   "cell_type": "code",
   "execution_count": 56,
   "id": "32196234",
   "metadata": {
    "execution": {
     "iopub.execute_input": "2023-01-12T15:02:19.505819Z",
     "iopub.status.busy": "2023-01-12T15:02:19.505421Z",
     "iopub.status.idle": "2023-01-12T15:02:19.517691Z",
     "shell.execute_reply": "2023-01-12T15:02:19.515974Z"
    },
    "jupyter": {
     "source_hidden": true
    },
    "papermill": {
     "duration": 0.047165,
     "end_time": "2023-01-12T15:02:19.520421",
     "exception": false,
     "start_time": "2023-01-12T15:02:19.473256",
     "status": "completed"
    },
    "tags": []
   },
   "outputs": [
    {
     "data": {
      "text/html": [
       "<div>\n",
       "<style scoped>\n",
       "    .dataframe tbody tr th:only-of-type {\n",
       "        vertical-align: middle;\n",
       "    }\n",
       "\n",
       "    .dataframe tbody tr th {\n",
       "        vertical-align: top;\n",
       "    }\n",
       "\n",
       "    .dataframe thead th {\n",
       "        text-align: right;\n",
       "    }\n",
       "</style>\n",
       "<table border=\"1\" class=\"dataframe\">\n",
       "  <thead>\n",
       "    <tr style=\"text-align: right;\">\n",
       "      <th></th>\n",
       "      <th></th>\n",
       "      <th>EmployeeCount</th>\n",
       "    </tr>\n",
       "    <tr>\n",
       "      <th>JobLevel</th>\n",
       "      <th>Attrition</th>\n",
       "      <th></th>\n",
       "    </tr>\n",
       "  </thead>\n",
       "  <tbody>\n",
       "    <tr>\n",
       "      <th rowspan=\"2\" valign=\"top\">1</th>\n",
       "      <th>No</th>\n",
       "      <td>400</td>\n",
       "    </tr>\n",
       "    <tr>\n",
       "      <th>Yes</th>\n",
       "      <td>143</td>\n",
       "    </tr>\n",
       "    <tr>\n",
       "      <th rowspan=\"2\" valign=\"top\">2</th>\n",
       "      <th>No</th>\n",
       "      <td>482</td>\n",
       "    </tr>\n",
       "    <tr>\n",
       "      <th>Yes</th>\n",
       "      <td>52</td>\n",
       "    </tr>\n",
       "    <tr>\n",
       "      <th rowspan=\"2\" valign=\"top\">3</th>\n",
       "      <th>No</th>\n",
       "      <td>186</td>\n",
       "    </tr>\n",
       "    <tr>\n",
       "      <th>Yes</th>\n",
       "      <td>32</td>\n",
       "    </tr>\n",
       "    <tr>\n",
       "      <th rowspan=\"2\" valign=\"top\">4</th>\n",
       "      <th>No</th>\n",
       "      <td>101</td>\n",
       "    </tr>\n",
       "    <tr>\n",
       "      <th>Yes</th>\n",
       "      <td>5</td>\n",
       "    </tr>\n",
       "    <tr>\n",
       "      <th rowspan=\"2\" valign=\"top\">5</th>\n",
       "      <th>No</th>\n",
       "      <td>64</td>\n",
       "    </tr>\n",
       "    <tr>\n",
       "      <th>Yes</th>\n",
       "      <td>5</td>\n",
       "    </tr>\n",
       "  </tbody>\n",
       "</table>\n",
       "</div>"
      ],
      "text/plain": [
       "                    EmployeeCount\n",
       "JobLevel Attrition               \n",
       "1        No                   400\n",
       "         Yes                  143\n",
       "2        No                   482\n",
       "         Yes                   52\n",
       "3        No                   186\n",
       "         Yes                   32\n",
       "4        No                   101\n",
       "         Yes                    5\n",
       "5        No                    64\n",
       "         Yes                    5"
      ]
     },
     "execution_count": 56,
     "metadata": {},
     "output_type": "execute_result"
    }
   ],
   "source": [
    "joblevel_att"
   ]
  },
  {
   "cell_type": "code",
   "execution_count": 57,
   "id": "7b75f37f",
   "metadata": {
    "execution": {
     "iopub.execute_input": "2023-01-12T15:02:19.586010Z",
     "iopub.status.busy": "2023-01-12T15:02:19.585558Z",
     "iopub.status.idle": "2023-01-12T15:02:19.595364Z",
     "shell.execute_reply": "2023-01-12T15:02:19.594103Z"
    },
    "jupyter": {
     "source_hidden": true
    },
    "papermill": {
     "duration": 0.045236,
     "end_time": "2023-01-12T15:02:19.597791",
     "exception": false,
     "start_time": "2023-01-12T15:02:19.552555",
     "status": "completed"
    },
    "tags": []
   },
   "outputs": [],
   "source": [
    "j = 1\n",
    "perc_list = []\n",
    "for i in range(9):\n",
    "    if joblevel_att.index[i][0] == joblevel_att.index[j][0]:\n",
    "        no_perc = joblevel_att.iloc[i].values/(joblevel_att.iloc[i].values + joblevel_att.iloc[j].values)*100\n",
    "        perc_list.append(no_perc)\n",
    "        yes_perc = 100 - no_perc\n",
    "        perc_list.append(yes_perc)\n",
    "    if j != 0:\n",
    "        j +=1 \n",
    "    "
   ]
  },
  {
   "cell_type": "code",
   "execution_count": 58,
   "id": "9bbdfdd0",
   "metadata": {
    "execution": {
     "iopub.execute_input": "2023-01-12T15:02:19.662974Z",
     "iopub.status.busy": "2023-01-12T15:02:19.662559Z",
     "iopub.status.idle": "2023-01-12T15:02:19.669287Z",
     "shell.execute_reply": "2023-01-12T15:02:19.668002Z"
    },
    "jupyter": {
     "source_hidden": true
    },
    "papermill": {
     "duration": 0.042039,
     "end_time": "2023-01-12T15:02:19.671842",
     "exception": false,
     "start_time": "2023-01-12T15:02:19.629803",
     "status": "completed"
    },
    "tags": []
   },
   "outputs": [],
   "source": [
    "joblevel_att[\"Employee Perc\"] = [perc_list[i][0] for i in range(len(perc_list))]"
   ]
  },
  {
   "cell_type": "code",
   "execution_count": 59,
   "id": "4a3d48ef",
   "metadata": {
    "execution": {
     "iopub.execute_input": "2023-01-12T15:02:19.737364Z",
     "iopub.status.busy": "2023-01-12T15:02:19.736969Z",
     "iopub.status.idle": "2023-01-12T15:02:19.749827Z",
     "shell.execute_reply": "2023-01-12T15:02:19.748708Z"
    },
    "jupyter": {
     "source_hidden": true
    },
    "papermill": {
     "duration": 0.048956,
     "end_time": "2023-01-12T15:02:19.752103",
     "exception": false,
     "start_time": "2023-01-12T15:02:19.703147",
     "status": "completed"
    },
    "tags": []
   },
   "outputs": [
    {
     "data": {
      "text/html": [
       "<div>\n",
       "<style scoped>\n",
       "    .dataframe tbody tr th:only-of-type {\n",
       "        vertical-align: middle;\n",
       "    }\n",
       "\n",
       "    .dataframe tbody tr th {\n",
       "        vertical-align: top;\n",
       "    }\n",
       "\n",
       "    .dataframe thead th {\n",
       "        text-align: right;\n",
       "    }\n",
       "</style>\n",
       "<table border=\"1\" class=\"dataframe\">\n",
       "  <thead>\n",
       "    <tr style=\"text-align: right;\">\n",
       "      <th></th>\n",
       "      <th></th>\n",
       "      <th>EmployeeCount</th>\n",
       "      <th>Employee Perc</th>\n",
       "    </tr>\n",
       "    <tr>\n",
       "      <th>JobLevel</th>\n",
       "      <th>Attrition</th>\n",
       "      <th></th>\n",
       "      <th></th>\n",
       "    </tr>\n",
       "  </thead>\n",
       "  <tbody>\n",
       "    <tr>\n",
       "      <th rowspan=\"2\" valign=\"top\">1</th>\n",
       "      <th>No</th>\n",
       "      <td>400</td>\n",
       "      <td>73.664825</td>\n",
       "    </tr>\n",
       "    <tr>\n",
       "      <th>Yes</th>\n",
       "      <td>143</td>\n",
       "      <td>26.335175</td>\n",
       "    </tr>\n",
       "    <tr>\n",
       "      <th rowspan=\"2\" valign=\"top\">2</th>\n",
       "      <th>No</th>\n",
       "      <td>482</td>\n",
       "      <td>90.262172</td>\n",
       "    </tr>\n",
       "    <tr>\n",
       "      <th>Yes</th>\n",
       "      <td>52</td>\n",
       "      <td>9.737828</td>\n",
       "    </tr>\n",
       "    <tr>\n",
       "      <th rowspan=\"2\" valign=\"top\">3</th>\n",
       "      <th>No</th>\n",
       "      <td>186</td>\n",
       "      <td>85.321101</td>\n",
       "    </tr>\n",
       "    <tr>\n",
       "      <th>Yes</th>\n",
       "      <td>32</td>\n",
       "      <td>14.678899</td>\n",
       "    </tr>\n",
       "    <tr>\n",
       "      <th rowspan=\"2\" valign=\"top\">4</th>\n",
       "      <th>No</th>\n",
       "      <td>101</td>\n",
       "      <td>95.283019</td>\n",
       "    </tr>\n",
       "    <tr>\n",
       "      <th>Yes</th>\n",
       "      <td>5</td>\n",
       "      <td>4.716981</td>\n",
       "    </tr>\n",
       "    <tr>\n",
       "      <th rowspan=\"2\" valign=\"top\">5</th>\n",
       "      <th>No</th>\n",
       "      <td>64</td>\n",
       "      <td>92.753623</td>\n",
       "    </tr>\n",
       "    <tr>\n",
       "      <th>Yes</th>\n",
       "      <td>5</td>\n",
       "      <td>7.246377</td>\n",
       "    </tr>\n",
       "  </tbody>\n",
       "</table>\n",
       "</div>"
      ],
      "text/plain": [
       "                    EmployeeCount  Employee Perc\n",
       "JobLevel Attrition                              \n",
       "1        No                   400      73.664825\n",
       "         Yes                  143      26.335175\n",
       "2        No                   482      90.262172\n",
       "         Yes                   52       9.737828\n",
       "3        No                   186      85.321101\n",
       "         Yes                   32      14.678899\n",
       "4        No                   101      95.283019\n",
       "         Yes                    5       4.716981\n",
       "5        No                    64      92.753623\n",
       "         Yes                    5       7.246377"
      ]
     },
     "execution_count": 59,
     "metadata": {},
     "output_type": "execute_result"
    }
   ],
   "source": [
    "joblevel_att"
   ]
  },
  {
   "cell_type": "markdown",
   "id": "1417dd4b",
   "metadata": {
    "papermill": {
     "duration": 0.030376,
     "end_time": "2023-01-12T15:02:19.813340",
     "exception": false,
     "start_time": "2023-01-12T15:02:19.782964",
     "status": "completed"
    },
    "tags": []
   },
   "source": [
    "### Business Travel"
   ]
  },
  {
   "cell_type": "code",
   "execution_count": 60,
   "id": "0210e705",
   "metadata": {
    "execution": {
     "iopub.execute_input": "2023-01-12T15:02:19.878266Z",
     "iopub.status.busy": "2023-01-12T15:02:19.877827Z",
     "iopub.status.idle": "2023-01-12T15:02:19.885191Z",
     "shell.execute_reply": "2023-01-12T15:02:19.883998Z"
    },
    "jupyter": {
     "source_hidden": true
    },
    "papermill": {
     "duration": 0.043,
     "end_time": "2023-01-12T15:02:19.887637",
     "exception": false,
     "start_time": "2023-01-12T15:02:19.844637",
     "status": "completed"
    },
    "tags": []
   },
   "outputs": [],
   "source": [
    "travel_attrition = raw.groupby(\"BusinessTravel\").Attrition.value_counts()"
   ]
  },
  {
   "cell_type": "code",
   "execution_count": 61,
   "id": "8ec94e54",
   "metadata": {
    "execution": {
     "iopub.execute_input": "2023-01-12T15:02:19.952006Z",
     "iopub.status.busy": "2023-01-12T15:02:19.951567Z",
     "iopub.status.idle": "2023-01-12T15:02:19.956680Z",
     "shell.execute_reply": "2023-01-12T15:02:19.955547Z"
    },
    "jupyter": {
     "source_hidden": true
    },
    "papermill": {
     "duration": 0.040457,
     "end_time": "2023-01-12T15:02:19.959467",
     "exception": false,
     "start_time": "2023-01-12T15:02:19.919010",
     "status": "completed"
    },
    "tags": []
   },
   "outputs": [],
   "source": [
    "travel_attrition = travel_attrition.to_frame()"
   ]
  },
  {
   "cell_type": "code",
   "execution_count": 62,
   "id": "40873dc4",
   "metadata": {
    "execution": {
     "iopub.execute_input": "2023-01-12T15:02:20.023970Z",
     "iopub.status.busy": "2023-01-12T15:02:20.023553Z",
     "iopub.status.idle": "2023-01-12T15:02:20.034932Z",
     "shell.execute_reply": "2023-01-12T15:02:20.033668Z"
    },
    "jupyter": {
     "source_hidden": true
    },
    "papermill": {
     "duration": 0.04605,
     "end_time": "2023-01-12T15:02:20.037329",
     "exception": false,
     "start_time": "2023-01-12T15:02:19.991279",
     "status": "completed"
    },
    "tags": []
   },
   "outputs": [
    {
     "data": {
      "text/html": [
       "<div>\n",
       "<style scoped>\n",
       "    .dataframe tbody tr th:only-of-type {\n",
       "        vertical-align: middle;\n",
       "    }\n",
       "\n",
       "    .dataframe tbody tr th {\n",
       "        vertical-align: top;\n",
       "    }\n",
       "\n",
       "    .dataframe thead th {\n",
       "        text-align: right;\n",
       "    }\n",
       "</style>\n",
       "<table border=\"1\" class=\"dataframe\">\n",
       "  <thead>\n",
       "    <tr style=\"text-align: right;\">\n",
       "      <th></th>\n",
       "      <th></th>\n",
       "      <th>Attrition</th>\n",
       "    </tr>\n",
       "    <tr>\n",
       "      <th>BusinessTravel</th>\n",
       "      <th>Attrition</th>\n",
       "      <th></th>\n",
       "    </tr>\n",
       "  </thead>\n",
       "  <tbody>\n",
       "    <tr>\n",
       "      <th rowspan=\"2\" valign=\"top\">Non-Travel</th>\n",
       "      <th>No</th>\n",
       "      <td>138</td>\n",
       "    </tr>\n",
       "    <tr>\n",
       "      <th>Yes</th>\n",
       "      <td>12</td>\n",
       "    </tr>\n",
       "    <tr>\n",
       "      <th rowspan=\"2\" valign=\"top\">Travel_Frequently</th>\n",
       "      <th>No</th>\n",
       "      <td>208</td>\n",
       "    </tr>\n",
       "    <tr>\n",
       "      <th>Yes</th>\n",
       "      <td>69</td>\n",
       "    </tr>\n",
       "    <tr>\n",
       "      <th rowspan=\"2\" valign=\"top\">Travel_Rarely</th>\n",
       "      <th>No</th>\n",
       "      <td>887</td>\n",
       "    </tr>\n",
       "    <tr>\n",
       "      <th>Yes</th>\n",
       "      <td>156</td>\n",
       "    </tr>\n",
       "  </tbody>\n",
       "</table>\n",
       "</div>"
      ],
      "text/plain": [
       "                             Attrition\n",
       "BusinessTravel    Attrition           \n",
       "Non-Travel        No               138\n",
       "                  Yes               12\n",
       "Travel_Frequently No               208\n",
       "                  Yes               69\n",
       "Travel_Rarely     No               887\n",
       "                  Yes              156"
      ]
     },
     "execution_count": 62,
     "metadata": {},
     "output_type": "execute_result"
    }
   ],
   "source": [
    "travel_attrition"
   ]
  },
  {
   "cell_type": "code",
   "execution_count": 63,
   "id": "e972215a",
   "metadata": {
    "execution": {
     "iopub.execute_input": "2023-01-12T15:02:20.120554Z",
     "iopub.status.busy": "2023-01-12T15:02:20.119901Z",
     "iopub.status.idle": "2023-01-12T15:02:20.137128Z",
     "shell.execute_reply": "2023-01-12T15:02:20.136260Z"
    },
    "jupyter": {
     "source_hidden": true
    },
    "papermill": {
     "duration": 0.067294,
     "end_time": "2023-01-12T15:02:20.139609",
     "exception": false,
     "start_time": "2023-01-12T15:02:20.072315",
     "status": "completed"
    },
    "tags": []
   },
   "outputs": [
    {
     "data": {
      "text/plain": [
       "[[0.92],\n",
       " [0.08],\n",
       " [0.7509025270758123],\n",
       " [0.2490974729241877],\n",
       " [0.850431447746884],\n",
       " [0.14956855225311602]]"
      ]
     },
     "execution_count": 63,
     "metadata": {},
     "output_type": "execute_result"
    }
   ],
   "source": [
    "percent_list = []\n",
    "i = 0\n",
    "for j in range(1, len(travel_attrition.index)):\n",
    "    if travel_attrition.index[i][0] == travel_attrition.index[j][0]:\n",
    "        percent_no = travel_attrition.iloc[i].values/ (travel_attrition.iloc[i].values + travel_attrition.iloc[j].values)\n",
    "        percent_list.append(list(percent_no))\n",
    "        percent_yes = travel_attrition.iloc[j].values/ (travel_attrition.iloc[i].values + travel_attrition.iloc[j].values)\n",
    "        percent_list.append(list(percent_yes))\n",
    "\n",
    "    i += 1\n",
    "\n",
    "percent_list"
   ]
  },
  {
   "cell_type": "code",
   "execution_count": 64,
   "id": "84c12cf7",
   "metadata": {
    "execution": {
     "iopub.execute_input": "2023-01-12T15:02:20.210597Z",
     "iopub.status.busy": "2023-01-12T15:02:20.210185Z",
     "iopub.status.idle": "2023-01-12T15:02:20.216425Z",
     "shell.execute_reply": "2023-01-12T15:02:20.215252Z"
    },
    "jupyter": {
     "source_hidden": true
    },
    "papermill": {
     "duration": 0.042636,
     "end_time": "2023-01-12T15:02:20.218984",
     "exception": false,
     "start_time": "2023-01-12T15:02:20.176348",
     "status": "completed"
    },
    "tags": []
   },
   "outputs": [],
   "source": [
    "travel_attrition[\"PercentEmployeeCount\"] = ['{:.2f}%'.format(percent_list[i][0]*100) for i in range(6)]"
   ]
  },
  {
   "cell_type": "code",
   "execution_count": 65,
   "id": "8f8b0eca",
   "metadata": {
    "execution": {
     "iopub.execute_input": "2023-01-12T15:02:20.285757Z",
     "iopub.status.busy": "2023-01-12T15:02:20.285355Z",
     "iopub.status.idle": "2023-01-12T15:02:20.297022Z",
     "shell.execute_reply": "2023-01-12T15:02:20.295789Z"
    },
    "jupyter": {
     "source_hidden": true
    },
    "papermill": {
     "duration": 0.048722,
     "end_time": "2023-01-12T15:02:20.299365",
     "exception": false,
     "start_time": "2023-01-12T15:02:20.250643",
     "status": "completed"
    },
    "tags": []
   },
   "outputs": [
    {
     "data": {
      "text/html": [
       "<div>\n",
       "<style scoped>\n",
       "    .dataframe tbody tr th:only-of-type {\n",
       "        vertical-align: middle;\n",
       "    }\n",
       "\n",
       "    .dataframe tbody tr th {\n",
       "        vertical-align: top;\n",
       "    }\n",
       "\n",
       "    .dataframe thead th {\n",
       "        text-align: right;\n",
       "    }\n",
       "</style>\n",
       "<table border=\"1\" class=\"dataframe\">\n",
       "  <thead>\n",
       "    <tr style=\"text-align: right;\">\n",
       "      <th></th>\n",
       "      <th></th>\n",
       "      <th>Attrition</th>\n",
       "      <th>PercentEmployeeCount</th>\n",
       "    </tr>\n",
       "    <tr>\n",
       "      <th>BusinessTravel</th>\n",
       "      <th>Attrition</th>\n",
       "      <th></th>\n",
       "      <th></th>\n",
       "    </tr>\n",
       "  </thead>\n",
       "  <tbody>\n",
       "    <tr>\n",
       "      <th rowspan=\"2\" valign=\"top\">Non-Travel</th>\n",
       "      <th>No</th>\n",
       "      <td>138</td>\n",
       "      <td>92.00%</td>\n",
       "    </tr>\n",
       "    <tr>\n",
       "      <th>Yes</th>\n",
       "      <td>12</td>\n",
       "      <td>8.00%</td>\n",
       "    </tr>\n",
       "    <tr>\n",
       "      <th rowspan=\"2\" valign=\"top\">Travel_Frequently</th>\n",
       "      <th>No</th>\n",
       "      <td>208</td>\n",
       "      <td>75.09%</td>\n",
       "    </tr>\n",
       "    <tr>\n",
       "      <th>Yes</th>\n",
       "      <td>69</td>\n",
       "      <td>24.91%</td>\n",
       "    </tr>\n",
       "    <tr>\n",
       "      <th rowspan=\"2\" valign=\"top\">Travel_Rarely</th>\n",
       "      <th>No</th>\n",
       "      <td>887</td>\n",
       "      <td>85.04%</td>\n",
       "    </tr>\n",
       "    <tr>\n",
       "      <th>Yes</th>\n",
       "      <td>156</td>\n",
       "      <td>14.96%</td>\n",
       "    </tr>\n",
       "  </tbody>\n",
       "</table>\n",
       "</div>"
      ],
      "text/plain": [
       "                             Attrition PercentEmployeeCount\n",
       "BusinessTravel    Attrition                                \n",
       "Non-Travel        No               138               92.00%\n",
       "                  Yes               12                8.00%\n",
       "Travel_Frequently No               208               75.09%\n",
       "                  Yes               69               24.91%\n",
       "Travel_Rarely     No               887               85.04%\n",
       "                  Yes              156               14.96%"
      ]
     },
     "execution_count": 65,
     "metadata": {},
     "output_type": "execute_result"
    }
   ],
   "source": [
    "travel_attrition"
   ]
  },
  {
   "cell_type": "markdown",
   "id": "7f07a3c3",
   "metadata": {
    "papermill": {
     "duration": 0.032107,
     "end_time": "2023-01-12T15:02:20.363945",
     "exception": false,
     "start_time": "2023-01-12T15:02:20.331838",
     "status": "completed"
    },
    "tags": []
   },
   "source": [
    "### Gender+Age - Attrition"
   ]
  },
  {
   "cell_type": "code",
   "execution_count": 66,
   "id": "272b03c0",
   "metadata": {
    "execution": {
     "iopub.execute_input": "2023-01-12T15:02:20.430598Z",
     "iopub.status.busy": "2023-01-12T15:02:20.430142Z",
     "iopub.status.idle": "2023-01-12T15:02:20.442029Z",
     "shell.execute_reply": "2023-01-12T15:02:20.440856Z"
    },
    "jupyter": {
     "source_hidden": true
    },
    "papermill": {
     "duration": 0.048648,
     "end_time": "2023-01-12T15:02:20.444815",
     "exception": false,
     "start_time": "2023-01-12T15:02:20.396167",
     "status": "completed"
    },
    "tags": []
   },
   "outputs": [],
   "source": [
    "gender_attrition = raw.groupby([\"Gender\",\"Attrition\"]).agg({\"EmployeeCount\":sum, \"Age\": np.mean})"
   ]
  },
  {
   "cell_type": "code",
   "execution_count": 67,
   "id": "ed9596bc",
   "metadata": {
    "execution": {
     "iopub.execute_input": "2023-01-12T15:02:20.511414Z",
     "iopub.status.busy": "2023-01-12T15:02:20.509997Z",
     "iopub.status.idle": "2023-01-12T15:02:20.524011Z",
     "shell.execute_reply": "2023-01-12T15:02:20.522702Z"
    },
    "jupyter": {
     "source_hidden": true
    },
    "papermill": {
     "duration": 0.050304,
     "end_time": "2023-01-12T15:02:20.527012",
     "exception": false,
     "start_time": "2023-01-12T15:02:20.476708",
     "status": "completed"
    },
    "tags": []
   },
   "outputs": [
    {
     "data": {
      "text/html": [
       "<div>\n",
       "<style scoped>\n",
       "    .dataframe tbody tr th:only-of-type {\n",
       "        vertical-align: middle;\n",
       "    }\n",
       "\n",
       "    .dataframe tbody tr th {\n",
       "        vertical-align: top;\n",
       "    }\n",
       "\n",
       "    .dataframe thead th {\n",
       "        text-align: right;\n",
       "    }\n",
       "</style>\n",
       "<table border=\"1\" class=\"dataframe\">\n",
       "  <thead>\n",
       "    <tr style=\"text-align: right;\">\n",
       "      <th></th>\n",
       "      <th></th>\n",
       "      <th>EmployeeCount</th>\n",
       "      <th>Age</th>\n",
       "    </tr>\n",
       "    <tr>\n",
       "      <th>Gender</th>\n",
       "      <th>Attrition</th>\n",
       "      <th></th>\n",
       "      <th></th>\n",
       "    </tr>\n",
       "  </thead>\n",
       "  <tbody>\n",
       "    <tr>\n",
       "      <th rowspan=\"2\" valign=\"top\">Female</th>\n",
       "      <th>No</th>\n",
       "      <td>490</td>\n",
       "      <td>38.142857</td>\n",
       "    </tr>\n",
       "    <tr>\n",
       "      <th>Yes</th>\n",
       "      <td>84</td>\n",
       "      <td>32.511905</td>\n",
       "    </tr>\n",
       "    <tr>\n",
       "      <th rowspan=\"2\" valign=\"top\">Male</th>\n",
       "      <th>No</th>\n",
       "      <td>717</td>\n",
       "      <td>37.119944</td>\n",
       "    </tr>\n",
       "    <tr>\n",
       "      <th>Yes</th>\n",
       "      <td>144</td>\n",
       "      <td>34.340278</td>\n",
       "    </tr>\n",
       "    <tr>\n",
       "      <th rowspan=\"2\" valign=\"top\">Non-binary</th>\n",
       "      <th>No</th>\n",
       "      <td>17</td>\n",
       "      <td>38.470588</td>\n",
       "    </tr>\n",
       "    <tr>\n",
       "      <th>Yes</th>\n",
       "      <td>6</td>\n",
       "      <td>30.500000</td>\n",
       "    </tr>\n",
       "    <tr>\n",
       "      <th rowspan=\"2\" valign=\"top\">Prefer not to say</th>\n",
       "      <th>No</th>\n",
       "      <td>5</td>\n",
       "      <td>36.200000</td>\n",
       "    </tr>\n",
       "    <tr>\n",
       "      <th>Yes</th>\n",
       "      <td>2</td>\n",
       "      <td>27.000000</td>\n",
       "    </tr>\n",
       "    <tr>\n",
       "      <th rowspan=\"2\" valign=\"top\">Prefer to self-describ</th>\n",
       "      <th>No</th>\n",
       "      <td>4</td>\n",
       "      <td>43.250000</td>\n",
       "    </tr>\n",
       "    <tr>\n",
       "      <th>Yes</th>\n",
       "      <td>1</td>\n",
       "      <td>52.000000</td>\n",
       "    </tr>\n",
       "  </tbody>\n",
       "</table>\n",
       "</div>"
      ],
      "text/plain": [
       "                                  EmployeeCount        Age\n",
       "Gender                 Attrition                          \n",
       "Female                 No                   490  38.142857\n",
       "                       Yes                   84  32.511905\n",
       "Male                   No                   717  37.119944\n",
       "                       Yes                  144  34.340278\n",
       "Non-binary             No                    17  38.470588\n",
       "                       Yes                    6  30.500000\n",
       "Prefer not to say      No                     5  36.200000\n",
       "                       Yes                    2  27.000000\n",
       "Prefer to self-describ No                     4  43.250000\n",
       "                       Yes                    1  52.000000"
      ]
     },
     "execution_count": 67,
     "metadata": {},
     "output_type": "execute_result"
    }
   ],
   "source": [
    "gender_attrition"
   ]
  },
  {
   "cell_type": "code",
   "execution_count": 68,
   "id": "fc21e831",
   "metadata": {
    "execution": {
     "iopub.execute_input": "2023-01-12T15:02:20.595479Z",
     "iopub.status.busy": "2023-01-12T15:02:20.595074Z",
     "iopub.status.idle": "2023-01-12T15:02:20.612846Z",
     "shell.execute_reply": "2023-01-12T15:02:20.611103Z"
    },
    "jupyter": {
     "source_hidden": true
    },
    "papermill": {
     "duration": 0.055105,
     "end_time": "2023-01-12T15:02:20.615665",
     "exception": false,
     "start_time": "2023-01-12T15:02:20.560560",
     "status": "completed"
    },
    "tags": []
   },
   "outputs": [
    {
     "data": {
      "text/plain": [
       "[[0.8536585365853658, 0.5398483572030329],\n",
       " [0.14634146341463414, 0.46015164279696713],\n",
       " [0.8327526132404182, 0.5194490470139771],\n",
       " [0.1672473867595819, 0.4805509529860228],\n",
       " [0.7391304347826086, 0.5577825159914712],\n",
       " [0.2608695652173913, 0.4422174840085288],\n",
       " [0.7142857142857143, 0.5727848101265823],\n",
       " [0.2857142857142857, 0.4272151898734177],\n",
       " [0.8, 0.4540682414698163],\n",
       " [0.2, 0.5459317585301837]]"
      ]
     },
     "execution_count": 68,
     "metadata": {},
     "output_type": "execute_result"
    }
   ],
   "source": [
    "percent_list = []\n",
    "i = 0\n",
    "for j in range(1, len(gender_attrition.index)):\n",
    "    if gender_attrition.index[i][0] == gender_attrition.index[j][0]:\n",
    "        percent_no = gender_attrition.iloc[i].values/ (gender_attrition.iloc[i].values + gender_attrition.iloc[j].values)\n",
    "        percent_list.append(list(percent_no))\n",
    "        percent_yes = gender_attrition.iloc[j].values/ (gender_attrition.iloc[i].values + gender_attrition.iloc[j].values)\n",
    "        percent_list.append(list(percent_yes))\n",
    "\n",
    "    i += 1\n",
    "\n",
    "percent_list"
   ]
  },
  {
   "cell_type": "code",
   "execution_count": 69,
   "id": "315993c2",
   "metadata": {
    "execution": {
     "iopub.execute_input": "2023-01-12T15:02:20.682503Z",
     "iopub.status.busy": "2023-01-12T15:02:20.681796Z",
     "iopub.status.idle": "2023-01-12T15:02:20.688197Z",
     "shell.execute_reply": "2023-01-12T15:02:20.687189Z"
    },
    "jupyter": {
     "source_hidden": true
    },
    "papermill": {
     "duration": 0.041952,
     "end_time": "2023-01-12T15:02:20.690816",
     "exception": false,
     "start_time": "2023-01-12T15:02:20.648864",
     "status": "completed"
    },
    "tags": []
   },
   "outputs": [],
   "source": [
    "gender_attrition[\"PercentEmployeeCount\"] = ['{:.2f}%'.format(percent_list[i][0]*100) for i in range(10)]"
   ]
  },
  {
   "cell_type": "code",
   "execution_count": 70,
   "id": "a109c85f",
   "metadata": {
    "execution": {
     "iopub.execute_input": "2023-01-12T15:02:20.760196Z",
     "iopub.status.busy": "2023-01-12T15:02:20.759780Z",
     "iopub.status.idle": "2023-01-12T15:02:20.771807Z",
     "shell.execute_reply": "2023-01-12T15:02:20.770920Z"
    },
    "jupyter": {
     "source_hidden": true
    },
    "papermill": {
     "duration": 0.049772,
     "end_time": "2023-01-12T15:02:20.774023",
     "exception": false,
     "start_time": "2023-01-12T15:02:20.724251",
     "status": "completed"
    },
    "tags": []
   },
   "outputs": [
    {
     "data": {
      "text/html": [
       "<div>\n",
       "<style scoped>\n",
       "    .dataframe tbody tr th:only-of-type {\n",
       "        vertical-align: middle;\n",
       "    }\n",
       "\n",
       "    .dataframe tbody tr th {\n",
       "        vertical-align: top;\n",
       "    }\n",
       "\n",
       "    .dataframe thead th {\n",
       "        text-align: right;\n",
       "    }\n",
       "</style>\n",
       "<table border=\"1\" class=\"dataframe\">\n",
       "  <thead>\n",
       "    <tr style=\"text-align: right;\">\n",
       "      <th></th>\n",
       "      <th></th>\n",
       "      <th>EmployeeCount</th>\n",
       "      <th>Age</th>\n",
       "      <th>PercentEmployeeCount</th>\n",
       "    </tr>\n",
       "    <tr>\n",
       "      <th>Gender</th>\n",
       "      <th>Attrition</th>\n",
       "      <th></th>\n",
       "      <th></th>\n",
       "      <th></th>\n",
       "    </tr>\n",
       "  </thead>\n",
       "  <tbody>\n",
       "    <tr>\n",
       "      <th rowspan=\"2\" valign=\"top\">Female</th>\n",
       "      <th>No</th>\n",
       "      <td>490</td>\n",
       "      <td>38.142857</td>\n",
       "      <td>85.37%</td>\n",
       "    </tr>\n",
       "    <tr>\n",
       "      <th>Yes</th>\n",
       "      <td>84</td>\n",
       "      <td>32.511905</td>\n",
       "      <td>14.63%</td>\n",
       "    </tr>\n",
       "    <tr>\n",
       "      <th rowspan=\"2\" valign=\"top\">Male</th>\n",
       "      <th>No</th>\n",
       "      <td>717</td>\n",
       "      <td>37.119944</td>\n",
       "      <td>83.28%</td>\n",
       "    </tr>\n",
       "    <tr>\n",
       "      <th>Yes</th>\n",
       "      <td>144</td>\n",
       "      <td>34.340278</td>\n",
       "      <td>16.72%</td>\n",
       "    </tr>\n",
       "    <tr>\n",
       "      <th rowspan=\"2\" valign=\"top\">Non-binary</th>\n",
       "      <th>No</th>\n",
       "      <td>17</td>\n",
       "      <td>38.470588</td>\n",
       "      <td>73.91%</td>\n",
       "    </tr>\n",
       "    <tr>\n",
       "      <th>Yes</th>\n",
       "      <td>6</td>\n",
       "      <td>30.500000</td>\n",
       "      <td>26.09%</td>\n",
       "    </tr>\n",
       "    <tr>\n",
       "      <th rowspan=\"2\" valign=\"top\">Prefer not to say</th>\n",
       "      <th>No</th>\n",
       "      <td>5</td>\n",
       "      <td>36.200000</td>\n",
       "      <td>71.43%</td>\n",
       "    </tr>\n",
       "    <tr>\n",
       "      <th>Yes</th>\n",
       "      <td>2</td>\n",
       "      <td>27.000000</td>\n",
       "      <td>28.57%</td>\n",
       "    </tr>\n",
       "    <tr>\n",
       "      <th rowspan=\"2\" valign=\"top\">Prefer to self-describ</th>\n",
       "      <th>No</th>\n",
       "      <td>4</td>\n",
       "      <td>43.250000</td>\n",
       "      <td>80.00%</td>\n",
       "    </tr>\n",
       "    <tr>\n",
       "      <th>Yes</th>\n",
       "      <td>1</td>\n",
       "      <td>52.000000</td>\n",
       "      <td>20.00%</td>\n",
       "    </tr>\n",
       "  </tbody>\n",
       "</table>\n",
       "</div>"
      ],
      "text/plain": [
       "                                  EmployeeCount        Age  \\\n",
       "Gender                 Attrition                             \n",
       "Female                 No                   490  38.142857   \n",
       "                       Yes                   84  32.511905   \n",
       "Male                   No                   717  37.119944   \n",
       "                       Yes                  144  34.340278   \n",
       "Non-binary             No                    17  38.470588   \n",
       "                       Yes                    6  30.500000   \n",
       "Prefer not to say      No                     5  36.200000   \n",
       "                       Yes                    2  27.000000   \n",
       "Prefer to self-describ No                     4  43.250000   \n",
       "                       Yes                    1  52.000000   \n",
       "\n",
       "                                 PercentEmployeeCount  \n",
       "Gender                 Attrition                       \n",
       "Female                 No                      85.37%  \n",
       "                       Yes                     14.63%  \n",
       "Male                   No                      83.28%  \n",
       "                       Yes                     16.72%  \n",
       "Non-binary             No                      73.91%  \n",
       "                       Yes                     26.09%  \n",
       "Prefer not to say      No                      71.43%  \n",
       "                       Yes                     28.57%  \n",
       "Prefer to self-describ No                      80.00%  \n",
       "                       Yes                     20.00%  "
      ]
     },
     "execution_count": 70,
     "metadata": {},
     "output_type": "execute_result"
    }
   ],
   "source": [
    "gender_attrition"
   ]
  },
  {
   "cell_type": "markdown",
   "id": "45925a41",
   "metadata": {
    "papermill": {
     "duration": 0.032522,
     "end_time": "2023-01-12T15:02:20.840461",
     "exception": false,
     "start_time": "2023-01-12T15:02:20.807939",
     "status": "completed"
    },
    "tags": []
   },
   "source": [
    "### JobLevel - EducationField"
   ]
  },
  {
   "cell_type": "code",
   "execution_count": 71,
   "id": "5565f605",
   "metadata": {
    "execution": {
     "iopub.execute_input": "2023-01-12T15:02:20.908523Z",
     "iopub.status.busy": "2023-01-12T15:02:20.907878Z",
     "iopub.status.idle": "2023-01-12T15:02:20.918486Z",
     "shell.execute_reply": "2023-01-12T15:02:20.917310Z"
    },
    "jupyter": {
     "source_hidden": true
    },
    "papermill": {
     "duration": 0.047188,
     "end_time": "2023-01-12T15:02:20.921063",
     "exception": false,
     "start_time": "2023-01-12T15:02:20.873875",
     "status": "completed"
    },
    "tags": []
   },
   "outputs": [],
   "source": [
    "joblevel_edu = raw.groupby([\"JobLevel\", \"EducationField\", \"Attrition\"]).agg({'EmployeeCount':sum}).sort_values([\"JobLevel\", \"Attrition\", \"EmployeeCount\"], ascending=False)"
   ]
  },
  {
   "cell_type": "code",
   "execution_count": 72,
   "id": "1b75d5f3",
   "metadata": {
    "execution": {
     "iopub.execute_input": "2023-01-12T15:02:20.987932Z",
     "iopub.status.busy": "2023-01-12T15:02:20.987196Z",
     "iopub.status.idle": "2023-01-12T15:02:21.004850Z",
     "shell.execute_reply": "2023-01-12T15:02:21.003562Z"
    },
    "jupyter": {
     "source_hidden": true
    },
    "papermill": {
     "duration": 0.053568,
     "end_time": "2023-01-12T15:02:21.007467",
     "exception": false,
     "start_time": "2023-01-12T15:02:20.953899",
     "status": "completed"
    },
    "tags": []
   },
   "outputs": [
    {
     "data": {
      "text/html": [
       "<div>\n",
       "<style scoped>\n",
       "    .dataframe tbody tr th:only-of-type {\n",
       "        vertical-align: middle;\n",
       "    }\n",
       "\n",
       "    .dataframe tbody tr th {\n",
       "        vertical-align: top;\n",
       "    }\n",
       "\n",
       "    .dataframe thead th {\n",
       "        text-align: right;\n",
       "    }\n",
       "</style>\n",
       "<table border=\"1\" class=\"dataframe\">\n",
       "  <thead>\n",
       "    <tr style=\"text-align: right;\">\n",
       "      <th></th>\n",
       "      <th></th>\n",
       "      <th>EmployeeCount</th>\n",
       "    </tr>\n",
       "    <tr>\n",
       "      <th>JobLevel</th>\n",
       "      <th>EducationField</th>\n",
       "      <th></th>\n",
       "    </tr>\n",
       "  </thead>\n",
       "  <tbody>\n",
       "    <tr>\n",
       "      <th rowspan=\"6\" valign=\"top\">5</th>\n",
       "      <th>Life Sciences</th>\n",
       "      <td>26</td>\n",
       "    </tr>\n",
       "    <tr>\n",
       "      <th>Medical</th>\n",
       "      <td>24</td>\n",
       "    </tr>\n",
       "    <tr>\n",
       "      <th>Marketing</th>\n",
       "      <td>8</td>\n",
       "    </tr>\n",
       "    <tr>\n",
       "      <th>Human Resources</th>\n",
       "      <td>4</td>\n",
       "    </tr>\n",
       "    <tr>\n",
       "      <th>Other</th>\n",
       "      <td>4</td>\n",
       "    </tr>\n",
       "    <tr>\n",
       "      <th>Technical Degree</th>\n",
       "      <td>3</td>\n",
       "    </tr>\n",
       "    <tr>\n",
       "      <th rowspan=\"6\" valign=\"top\">4</th>\n",
       "      <th>Life Sciences</th>\n",
       "      <td>48</td>\n",
       "    </tr>\n",
       "    <tr>\n",
       "      <th>Medical</th>\n",
       "      <td>36</td>\n",
       "    </tr>\n",
       "    <tr>\n",
       "      <th>Marketing</th>\n",
       "      <td>11</td>\n",
       "    </tr>\n",
       "    <tr>\n",
       "      <th>Technical Degree</th>\n",
       "      <td>6</td>\n",
       "    </tr>\n",
       "    <tr>\n",
       "      <th>Other</th>\n",
       "      <td>3</td>\n",
       "    </tr>\n",
       "    <tr>\n",
       "      <th>Human Resources</th>\n",
       "      <td>2</td>\n",
       "    </tr>\n",
       "    <tr>\n",
       "      <th rowspan=\"6\" valign=\"top\">3</th>\n",
       "      <th>Life Sciences</th>\n",
       "      <td>87</td>\n",
       "    </tr>\n",
       "    <tr>\n",
       "      <th>Medical</th>\n",
       "      <td>63</td>\n",
       "    </tr>\n",
       "    <tr>\n",
       "      <th>Marketing</th>\n",
       "      <td>32</td>\n",
       "    </tr>\n",
       "    <tr>\n",
       "      <th>Technical Degree</th>\n",
       "      <td>24</td>\n",
       "    </tr>\n",
       "    <tr>\n",
       "      <th>Other</th>\n",
       "      <td>11</td>\n",
       "    </tr>\n",
       "    <tr>\n",
       "      <th>Human Resources</th>\n",
       "      <td>1</td>\n",
       "    </tr>\n",
       "    <tr>\n",
       "      <th rowspan=\"6\" valign=\"top\">2</th>\n",
       "      <th>Life Sciences</th>\n",
       "      <td>216</td>\n",
       "    </tr>\n",
       "    <tr>\n",
       "      <th>Medical</th>\n",
       "      <td>153</td>\n",
       "    </tr>\n",
       "    <tr>\n",
       "      <th>Marketing</th>\n",
       "      <td>87</td>\n",
       "    </tr>\n",
       "    <tr>\n",
       "      <th>Technical Degree</th>\n",
       "      <td>37</td>\n",
       "    </tr>\n",
       "    <tr>\n",
       "      <th>Other</th>\n",
       "      <td>34</td>\n",
       "    </tr>\n",
       "    <tr>\n",
       "      <th>Human Resources</th>\n",
       "      <td>7</td>\n",
       "    </tr>\n",
       "    <tr>\n",
       "      <th rowspan=\"6\" valign=\"top\">1</th>\n",
       "      <th>Life Sciences</th>\n",
       "      <td>229</td>\n",
       "    </tr>\n",
       "    <tr>\n",
       "      <th>Medical</th>\n",
       "      <td>188</td>\n",
       "    </tr>\n",
       "    <tr>\n",
       "      <th>Technical Degree</th>\n",
       "      <td>62</td>\n",
       "    </tr>\n",
       "    <tr>\n",
       "      <th>Other</th>\n",
       "      <td>30</td>\n",
       "    </tr>\n",
       "    <tr>\n",
       "      <th>Marketing</th>\n",
       "      <td>21</td>\n",
       "    </tr>\n",
       "    <tr>\n",
       "      <th>Human Resources</th>\n",
       "      <td>13</td>\n",
       "    </tr>\n",
       "  </tbody>\n",
       "</table>\n",
       "</div>"
      ],
      "text/plain": [
       "                           EmployeeCount\n",
       "JobLevel EducationField                 \n",
       "5        Life Sciences                26\n",
       "         Medical                      24\n",
       "         Marketing                     8\n",
       "         Human Resources               4\n",
       "         Other                         4\n",
       "         Technical Degree              3\n",
       "4        Life Sciences                48\n",
       "         Medical                      36\n",
       "         Marketing                    11\n",
       "         Technical Degree              6\n",
       "         Other                         3\n",
       "         Human Resources               2\n",
       "3        Life Sciences                87\n",
       "         Medical                      63\n",
       "         Marketing                    32\n",
       "         Technical Degree             24\n",
       "         Other                        11\n",
       "         Human Resources               1\n",
       "2        Life Sciences               216\n",
       "         Medical                     153\n",
       "         Marketing                    87\n",
       "         Technical Degree             37\n",
       "         Other                        34\n",
       "         Human Resources               7\n",
       "1        Life Sciences               229\n",
       "         Medical                     188\n",
       "         Technical Degree             62\n",
       "         Other                        30\n",
       "         Marketing                    21\n",
       "         Human Resources              13"
      ]
     },
     "execution_count": 72,
     "metadata": {},
     "output_type": "execute_result"
    }
   ],
   "source": [
    "raw.groupby([\"JobLevel\", \"EducationField\"]).agg({'EmployeeCount':sum}).sort_values([\"JobLevel\", \"EmployeeCount\"], ascending=False)"
   ]
  },
  {
   "cell_type": "code",
   "execution_count": 73,
   "id": "1748aeea",
   "metadata": {
    "execution": {
     "iopub.execute_input": "2023-01-12T15:02:21.078320Z",
     "iopub.status.busy": "2023-01-12T15:02:21.077882Z",
     "iopub.status.idle": "2023-01-12T15:02:21.088286Z",
     "shell.execute_reply": "2023-01-12T15:02:21.087314Z"
    },
    "jupyter": {
     "source_hidden": true
    },
    "papermill": {
     "duration": 0.048626,
     "end_time": "2023-01-12T15:02:21.090994",
     "exception": false,
     "start_time": "2023-01-12T15:02:21.042368",
     "status": "completed"
    },
    "tags": []
   },
   "outputs": [],
   "source": [
    "df_grouped = raw.groupby([\"JobLevel\", \"EducationField\"]).agg({'EmployeeCount':sum}).sort_values([\"JobLevel\", \"EmployeeCount\"], ascending=False)"
   ]
  },
  {
   "cell_type": "code",
   "execution_count": 74,
   "id": "a152442f",
   "metadata": {
    "execution": {
     "iopub.execute_input": "2023-01-12T15:02:21.159127Z",
     "iopub.status.busy": "2023-01-12T15:02:21.158329Z",
     "iopub.status.idle": "2023-01-12T15:02:21.173086Z",
     "shell.execute_reply": "2023-01-12T15:02:21.172186Z"
    },
    "jupyter": {
     "source_hidden": true
    },
    "papermill": {
     "duration": 0.052122,
     "end_time": "2023-01-12T15:02:21.175296",
     "exception": false,
     "start_time": "2023-01-12T15:02:21.123174",
     "status": "completed"
    },
    "tags": []
   },
   "outputs": [
    {
     "data": {
      "text/html": [
       "<div>\n",
       "<style scoped>\n",
       "    .dataframe tbody tr th:only-of-type {\n",
       "        vertical-align: middle;\n",
       "    }\n",
       "\n",
       "    .dataframe tbody tr th {\n",
       "        vertical-align: top;\n",
       "    }\n",
       "\n",
       "    .dataframe thead th {\n",
       "        text-align: right;\n",
       "    }\n",
       "</style>\n",
       "<table border=\"1\" class=\"dataframe\">\n",
       "  <thead>\n",
       "    <tr style=\"text-align: right;\">\n",
       "      <th></th>\n",
       "      <th></th>\n",
       "      <th></th>\n",
       "      <th>EmployeeCount</th>\n",
       "    </tr>\n",
       "    <tr>\n",
       "      <th>JobLevel</th>\n",
       "      <th>EducationField</th>\n",
       "      <th>Attrition</th>\n",
       "      <th></th>\n",
       "    </tr>\n",
       "  </thead>\n",
       "  <tbody>\n",
       "    <tr>\n",
       "      <th rowspan=\"4\" valign=\"top\">5</th>\n",
       "      <th>Marketing</th>\n",
       "      <th>Yes</th>\n",
       "      <td>2</td>\n",
       "    </tr>\n",
       "    <tr>\n",
       "      <th>Life Sciences</th>\n",
       "      <th>Yes</th>\n",
       "      <td>1</td>\n",
       "    </tr>\n",
       "    <tr>\n",
       "      <th>Medical</th>\n",
       "      <th>Yes</th>\n",
       "      <td>1</td>\n",
       "    </tr>\n",
       "    <tr>\n",
       "      <th>Technical Degree</th>\n",
       "      <th>Yes</th>\n",
       "      <td>1</td>\n",
       "    </tr>\n",
       "    <tr>\n",
       "      <th rowspan=\"2\" valign=\"top\">4</th>\n",
       "      <th>Life Sciences</th>\n",
       "      <th>Yes</th>\n",
       "      <td>4</td>\n",
       "    </tr>\n",
       "    <tr>\n",
       "      <th>Marketing</th>\n",
       "      <th>Yes</th>\n",
       "      <td>1</td>\n",
       "    </tr>\n",
       "    <tr>\n",
       "      <th rowspan=\"6\" valign=\"top\">3</th>\n",
       "      <th>Life Sciences</th>\n",
       "      <th>Yes</th>\n",
       "      <td>12</td>\n",
       "    </tr>\n",
       "    <tr>\n",
       "      <th>Medical</th>\n",
       "      <th>Yes</th>\n",
       "      <td>9</td>\n",
       "    </tr>\n",
       "    <tr>\n",
       "      <th>Marketing</th>\n",
       "      <th>Yes</th>\n",
       "      <td>6</td>\n",
       "    </tr>\n",
       "    <tr>\n",
       "      <th>Technical Degree</th>\n",
       "      <th>Yes</th>\n",
       "      <td>3</td>\n",
       "    </tr>\n",
       "    <tr>\n",
       "      <th>Human Resources</th>\n",
       "      <th>Yes</th>\n",
       "      <td>1</td>\n",
       "    </tr>\n",
       "    <tr>\n",
       "      <th>Other</th>\n",
       "      <th>Yes</th>\n",
       "      <td>1</td>\n",
       "    </tr>\n",
       "    <tr>\n",
       "      <th rowspan=\"5\" valign=\"top\">2</th>\n",
       "      <th>Life Sciences</th>\n",
       "      <th>Yes</th>\n",
       "      <td>16</td>\n",
       "    </tr>\n",
       "    <tr>\n",
       "      <th>Marketing</th>\n",
       "      <th>Yes</th>\n",
       "      <td>14</td>\n",
       "    </tr>\n",
       "    <tr>\n",
       "      <th>Medical</th>\n",
       "      <th>Yes</th>\n",
       "      <td>14</td>\n",
       "    </tr>\n",
       "    <tr>\n",
       "      <th>Other</th>\n",
       "      <th>Yes</th>\n",
       "      <td>4</td>\n",
       "    </tr>\n",
       "    <tr>\n",
       "      <th>Technical Degree</th>\n",
       "      <th>Yes</th>\n",
       "      <td>4</td>\n",
       "    </tr>\n",
       "    <tr>\n",
       "      <th rowspan=\"6\" valign=\"top\">1</th>\n",
       "      <th>Life Sciences</th>\n",
       "      <th>Yes</th>\n",
       "      <td>56</td>\n",
       "    </tr>\n",
       "    <tr>\n",
       "      <th>Medical</th>\n",
       "      <th>Yes</th>\n",
       "      <td>39</td>\n",
       "    </tr>\n",
       "    <tr>\n",
       "      <th>Technical Degree</th>\n",
       "      <th>Yes</th>\n",
       "      <td>24</td>\n",
       "    </tr>\n",
       "    <tr>\n",
       "      <th>Marketing</th>\n",
       "      <th>Yes</th>\n",
       "      <td>12</td>\n",
       "    </tr>\n",
       "    <tr>\n",
       "      <th>Human Resources</th>\n",
       "      <th>Yes</th>\n",
       "      <td>6</td>\n",
       "    </tr>\n",
       "    <tr>\n",
       "      <th>Other</th>\n",
       "      <th>Yes</th>\n",
       "      <td>6</td>\n",
       "    </tr>\n",
       "  </tbody>\n",
       "</table>\n",
       "</div>"
      ],
      "text/plain": [
       "                                     EmployeeCount\n",
       "JobLevel EducationField   Attrition               \n",
       "5        Marketing        Yes                    2\n",
       "         Life Sciences    Yes                    1\n",
       "         Medical          Yes                    1\n",
       "         Technical Degree Yes                    1\n",
       "4        Life Sciences    Yes                    4\n",
       "         Marketing        Yes                    1\n",
       "3        Life Sciences    Yes                   12\n",
       "         Medical          Yes                    9\n",
       "         Marketing        Yes                    6\n",
       "         Technical Degree Yes                    3\n",
       "         Human Resources  Yes                    1\n",
       "         Other            Yes                    1\n",
       "2        Life Sciences    Yes                   16\n",
       "         Marketing        Yes                   14\n",
       "         Medical          Yes                   14\n",
       "         Other            Yes                    4\n",
       "         Technical Degree Yes                    4\n",
       "1        Life Sciences    Yes                   56\n",
       "         Medical          Yes                   39\n",
       "         Technical Degree Yes                   24\n",
       "         Marketing        Yes                   12\n",
       "         Human Resources  Yes                    6\n",
       "         Other            Yes                    6"
      ]
     },
     "execution_count": 74,
     "metadata": {},
     "output_type": "execute_result"
    }
   ],
   "source": [
    "joblevel_edu[[joblevel_edu.index[i][2] == \"Yes\" for i in range(len(joblevel_edu))]]"
   ]
  },
  {
   "cell_type": "code",
   "execution_count": 75,
   "id": "48ef1563",
   "metadata": {
    "execution": {
     "iopub.execute_input": "2023-01-12T15:02:21.243665Z",
     "iopub.status.busy": "2023-01-12T15:02:21.242879Z",
     "iopub.status.idle": "2023-01-12T15:02:21.256405Z",
     "shell.execute_reply": "2023-01-12T15:02:21.255510Z"
    },
    "jupyter": {
     "source_hidden": true
    },
    "papermill": {
     "duration": 0.050185,
     "end_time": "2023-01-12T15:02:21.258562",
     "exception": false,
     "start_time": "2023-01-12T15:02:21.208377",
     "status": "completed"
    },
    "tags": []
   },
   "outputs": [
    {
     "data": {
      "text/html": [
       "<div>\n",
       "<style scoped>\n",
       "    .dataframe tbody tr th:only-of-type {\n",
       "        vertical-align: middle;\n",
       "    }\n",
       "\n",
       "    .dataframe tbody tr th {\n",
       "        vertical-align: top;\n",
       "    }\n",
       "\n",
       "    .dataframe thead th {\n",
       "        text-align: right;\n",
       "    }\n",
       "</style>\n",
       "<table border=\"1\" class=\"dataframe\">\n",
       "  <thead>\n",
       "    <tr style=\"text-align: right;\">\n",
       "      <th></th>\n",
       "      <th></th>\n",
       "      <th></th>\n",
       "      <th>EmployeeCount</th>\n",
       "    </tr>\n",
       "    <tr>\n",
       "      <th>JobLevel</th>\n",
       "      <th>EducationField</th>\n",
       "      <th>Attrition</th>\n",
       "      <th></th>\n",
       "    </tr>\n",
       "  </thead>\n",
       "  <tbody>\n",
       "    <tr>\n",
       "      <th rowspan=\"6\" valign=\"top\">5</th>\n",
       "      <th>Life Sciences</th>\n",
       "      <th>No</th>\n",
       "      <td>25</td>\n",
       "    </tr>\n",
       "    <tr>\n",
       "      <th>Medical</th>\n",
       "      <th>No</th>\n",
       "      <td>23</td>\n",
       "    </tr>\n",
       "    <tr>\n",
       "      <th>Marketing</th>\n",
       "      <th>No</th>\n",
       "      <td>6</td>\n",
       "    </tr>\n",
       "    <tr>\n",
       "      <th>Human Resources</th>\n",
       "      <th>No</th>\n",
       "      <td>4</td>\n",
       "    </tr>\n",
       "    <tr>\n",
       "      <th>Other</th>\n",
       "      <th>No</th>\n",
       "      <td>4</td>\n",
       "    </tr>\n",
       "    <tr>\n",
       "      <th>Technical Degree</th>\n",
       "      <th>No</th>\n",
       "      <td>2</td>\n",
       "    </tr>\n",
       "    <tr>\n",
       "      <th rowspan=\"6\" valign=\"top\">4</th>\n",
       "      <th>Life Sciences</th>\n",
       "      <th>No</th>\n",
       "      <td>44</td>\n",
       "    </tr>\n",
       "    <tr>\n",
       "      <th>Medical</th>\n",
       "      <th>No</th>\n",
       "      <td>36</td>\n",
       "    </tr>\n",
       "    <tr>\n",
       "      <th>Marketing</th>\n",
       "      <th>No</th>\n",
       "      <td>10</td>\n",
       "    </tr>\n",
       "    <tr>\n",
       "      <th>Technical Degree</th>\n",
       "      <th>No</th>\n",
       "      <td>6</td>\n",
       "    </tr>\n",
       "    <tr>\n",
       "      <th>Other</th>\n",
       "      <th>No</th>\n",
       "      <td>3</td>\n",
       "    </tr>\n",
       "    <tr>\n",
       "      <th>Human Resources</th>\n",
       "      <th>No</th>\n",
       "      <td>2</td>\n",
       "    </tr>\n",
       "    <tr>\n",
       "      <th rowspan=\"5\" valign=\"top\">3</th>\n",
       "      <th>Life Sciences</th>\n",
       "      <th>No</th>\n",
       "      <td>75</td>\n",
       "    </tr>\n",
       "    <tr>\n",
       "      <th>Medical</th>\n",
       "      <th>No</th>\n",
       "      <td>54</td>\n",
       "    </tr>\n",
       "    <tr>\n",
       "      <th>Marketing</th>\n",
       "      <th>No</th>\n",
       "      <td>26</td>\n",
       "    </tr>\n",
       "    <tr>\n",
       "      <th>Technical Degree</th>\n",
       "      <th>No</th>\n",
       "      <td>21</td>\n",
       "    </tr>\n",
       "    <tr>\n",
       "      <th>Other</th>\n",
       "      <th>No</th>\n",
       "      <td>10</td>\n",
       "    </tr>\n",
       "    <tr>\n",
       "      <th rowspan=\"6\" valign=\"top\">2</th>\n",
       "      <th>Life Sciences</th>\n",
       "      <th>No</th>\n",
       "      <td>200</td>\n",
       "    </tr>\n",
       "    <tr>\n",
       "      <th>Medical</th>\n",
       "      <th>No</th>\n",
       "      <td>139</td>\n",
       "    </tr>\n",
       "    <tr>\n",
       "      <th>Marketing</th>\n",
       "      <th>No</th>\n",
       "      <td>73</td>\n",
       "    </tr>\n",
       "    <tr>\n",
       "      <th>Technical Degree</th>\n",
       "      <th>No</th>\n",
       "      <td>33</td>\n",
       "    </tr>\n",
       "    <tr>\n",
       "      <th>Other</th>\n",
       "      <th>No</th>\n",
       "      <td>30</td>\n",
       "    </tr>\n",
       "    <tr>\n",
       "      <th>Human Resources</th>\n",
       "      <th>No</th>\n",
       "      <td>7</td>\n",
       "    </tr>\n",
       "    <tr>\n",
       "      <th rowspan=\"6\" valign=\"top\">1</th>\n",
       "      <th>Life Sciences</th>\n",
       "      <th>No</th>\n",
       "      <td>173</td>\n",
       "    </tr>\n",
       "    <tr>\n",
       "      <th>Medical</th>\n",
       "      <th>No</th>\n",
       "      <td>149</td>\n",
       "    </tr>\n",
       "    <tr>\n",
       "      <th>Technical Degree</th>\n",
       "      <th>No</th>\n",
       "      <td>38</td>\n",
       "    </tr>\n",
       "    <tr>\n",
       "      <th>Other</th>\n",
       "      <th>No</th>\n",
       "      <td>24</td>\n",
       "    </tr>\n",
       "    <tr>\n",
       "      <th>Marketing</th>\n",
       "      <th>No</th>\n",
       "      <td>9</td>\n",
       "    </tr>\n",
       "    <tr>\n",
       "      <th>Human Resources</th>\n",
       "      <th>No</th>\n",
       "      <td>7</td>\n",
       "    </tr>\n",
       "  </tbody>\n",
       "</table>\n",
       "</div>"
      ],
      "text/plain": [
       "                                     EmployeeCount\n",
       "JobLevel EducationField   Attrition               \n",
       "5        Life Sciences    No                    25\n",
       "         Medical          No                    23\n",
       "         Marketing        No                     6\n",
       "         Human Resources  No                     4\n",
       "         Other            No                     4\n",
       "         Technical Degree No                     2\n",
       "4        Life Sciences    No                    44\n",
       "         Medical          No                    36\n",
       "         Marketing        No                    10\n",
       "         Technical Degree No                     6\n",
       "         Other            No                     3\n",
       "         Human Resources  No                     2\n",
       "3        Life Sciences    No                    75\n",
       "         Medical          No                    54\n",
       "         Marketing        No                    26\n",
       "         Technical Degree No                    21\n",
       "         Other            No                    10\n",
       "2        Life Sciences    No                   200\n",
       "         Medical          No                   139\n",
       "         Marketing        No                    73\n",
       "         Technical Degree No                    33\n",
       "         Other            No                    30\n",
       "         Human Resources  No                     7\n",
       "1        Life Sciences    No                   173\n",
       "         Medical          No                   149\n",
       "         Technical Degree No                    38\n",
       "         Other            No                    24\n",
       "         Marketing        No                     9\n",
       "         Human Resources  No                     7"
      ]
     },
     "execution_count": 75,
     "metadata": {},
     "output_type": "execute_result"
    }
   ],
   "source": [
    "joblevel_edu[[joblevel_edu.index[i][2] == \"No\" for i in range(len(joblevel_edu))]]"
   ]
  },
  {
   "cell_type": "markdown",
   "id": "10f80a25",
   "metadata": {
    "papermill": {
     "duration": 0.032464,
     "end_time": "2023-01-12T15:02:21.323890",
     "exception": false,
     "start_time": "2023-01-12T15:02:21.291426",
     "status": "completed"
    },
    "tags": []
   },
   "source": [
    "#### Notes:\n",
    "- We can analyse the importance of each degree based on the number of them in each job level"
   ]
  },
  {
   "cell_type": "markdown",
   "id": "9f371945",
   "metadata": {
    "papermill": {
     "duration": 0.032601,
     "end_time": "2023-01-12T15:02:21.389682",
     "exception": false,
     "start_time": "2023-01-12T15:02:21.357081",
     "status": "completed"
    },
    "tags": []
   },
   "source": [
    "### JobLevel - JobRole"
   ]
  },
  {
   "cell_type": "code",
   "execution_count": 76,
   "id": "58885d03",
   "metadata": {
    "execution": {
     "iopub.execute_input": "2023-01-12T15:02:21.460730Z",
     "iopub.status.busy": "2023-01-12T15:02:21.460108Z",
     "iopub.status.idle": "2023-01-12T15:02:21.478867Z",
     "shell.execute_reply": "2023-01-12T15:02:21.477682Z"
    },
    "papermill": {
     "duration": 0.058257,
     "end_time": "2023-01-12T15:02:21.481553",
     "exception": false,
     "start_time": "2023-01-12T15:02:21.423296",
     "status": "completed"
    },
    "tags": []
   },
   "outputs": [
    {
     "data": {
      "text/html": [
       "<div>\n",
       "<style scoped>\n",
       "    .dataframe tbody tr th:only-of-type {\n",
       "        vertical-align: middle;\n",
       "    }\n",
       "\n",
       "    .dataframe tbody tr th {\n",
       "        vertical-align: top;\n",
       "    }\n",
       "\n",
       "    .dataframe thead th {\n",
       "        text-align: right;\n",
       "    }\n",
       "</style>\n",
       "<table border=\"1\" class=\"dataframe\">\n",
       "  <thead>\n",
       "    <tr style=\"text-align: right;\">\n",
       "      <th></th>\n",
       "      <th></th>\n",
       "      <th>MonthlyIncome</th>\n",
       "      <th>EmployeeCount</th>\n",
       "    </tr>\n",
       "    <tr>\n",
       "      <th>JobLevel</th>\n",
       "      <th>JobRole</th>\n",
       "      <th></th>\n",
       "      <th></th>\n",
       "    </tr>\n",
       "  </thead>\n",
       "  <tbody>\n",
       "    <tr>\n",
       "      <th rowspan=\"2\" valign=\"top\">5</th>\n",
       "      <th>Research Director</th>\n",
       "      <td>21125.288462</td>\n",
       "      <td>26</td>\n",
       "    </tr>\n",
       "    <tr>\n",
       "      <th>Manager</th>\n",
       "      <td>21102.374419</td>\n",
       "      <td>43</td>\n",
       "    </tr>\n",
       "    <tr>\n",
       "      <th rowspan=\"5\" valign=\"top\">4</th>\n",
       "      <th>Manager</th>\n",
       "      <td>18274.604255</td>\n",
       "      <td>47</td>\n",
       "    </tr>\n",
       "    <tr>\n",
       "      <th>Research Director</th>\n",
       "      <td>18071.942308</td>\n",
       "      <td>26</td>\n",
       "    </tr>\n",
       "    <tr>\n",
       "      <th>Manufacturing Director</th>\n",
       "      <td>14721.300000</td>\n",
       "      <td>10</td>\n",
       "    </tr>\n",
       "    <tr>\n",
       "      <th>Sales Executive</th>\n",
       "      <td>14522.750000</td>\n",
       "      <td>14</td>\n",
       "    </tr>\n",
       "    <tr>\n",
       "      <th>Healthcare Representative</th>\n",
       "      <td>14270.300000</td>\n",
       "      <td>9</td>\n",
       "    </tr>\n",
       "    <tr>\n",
       "      <th rowspan=\"8\" valign=\"top\">3</th>\n",
       "      <th>Research Director</th>\n",
       "      <td>13993.728571</td>\n",
       "      <td>28</td>\n",
       "    </tr>\n",
       "    <tr>\n",
       "      <th>Manager</th>\n",
       "      <td>13456.300000</td>\n",
       "      <td>12</td>\n",
       "    </tr>\n",
       "    <tr>\n",
       "      <th>Research Scientist</th>\n",
       "      <td>10696.400000</td>\n",
       "      <td>1</td>\n",
       "    </tr>\n",
       "    <tr>\n",
       "      <th>Human Resources</th>\n",
       "      <td>10585.300000</td>\n",
       "      <td>6</td>\n",
       "    </tr>\n",
       "    <tr>\n",
       "      <th>Healthcare Representative</th>\n",
       "      <td>10300.350000</td>\n",
       "      <td>44</td>\n",
       "    </tr>\n",
       "    <tr>\n",
       "      <th>Manufacturing Director</th>\n",
       "      <td>10237.748889</td>\n",
       "      <td>45</td>\n",
       "    </tr>\n",
       "    <tr>\n",
       "      <th>Sales Executive</th>\n",
       "      <td>10037.486076</td>\n",
       "      <td>79</td>\n",
       "    </tr>\n",
       "    <tr>\n",
       "      <th>Laboratory Technician</th>\n",
       "      <td>6597.800000</td>\n",
       "      <td>3</td>\n",
       "    </tr>\n",
       "    <tr>\n",
       "      <th rowspan=\"7\" valign=\"top\">2</th>\n",
       "      <th>Healthcare Representative</th>\n",
       "      <td>6451.880769</td>\n",
       "      <td>78</td>\n",
       "    </tr>\n",
       "    <tr>\n",
       "      <th>Sales Executive</th>\n",
       "      <td>6380.972532</td>\n",
       "      <td>233</td>\n",
       "    </tr>\n",
       "    <tr>\n",
       "      <th>Manufacturing Director</th>\n",
       "      <td>6174.031111</td>\n",
       "      <td>90</td>\n",
       "    </tr>\n",
       "    <tr>\n",
       "      <th>Human Resources</th>\n",
       "      <td>6119.807692</td>\n",
       "      <td>13</td>\n",
       "    </tr>\n",
       "    <tr>\n",
       "      <th>Research Scientist</th>\n",
       "      <td>5300.803509</td>\n",
       "      <td>57</td>\n",
       "    </tr>\n",
       "    <tr>\n",
       "      <th>Laboratory Technician</th>\n",
       "      <td>4901.187500</td>\n",
       "      <td>56</td>\n",
       "    </tr>\n",
       "    <tr>\n",
       "      <th>Sales Representative</th>\n",
       "      <td>4313.100000</td>\n",
       "      <td>7</td>\n",
       "    </tr>\n",
       "    <tr>\n",
       "      <th rowspan=\"4\" valign=\"top\">1</th>\n",
       "      <th>Laboratory Technician</th>\n",
       "      <td>3140.049000</td>\n",
       "      <td>200</td>\n",
       "    </tr>\n",
       "    <tr>\n",
       "      <th>Research Scientist</th>\n",
       "      <td>3110.414530</td>\n",
       "      <td>234</td>\n",
       "    </tr>\n",
       "    <tr>\n",
       "      <th>Human Resources</th>\n",
       "      <td>3006.533333</td>\n",
       "      <td>33</td>\n",
       "    </tr>\n",
       "    <tr>\n",
       "      <th>Sales Representative</th>\n",
       "      <td>2757.396053</td>\n",
       "      <td>76</td>\n",
       "    </tr>\n",
       "  </tbody>\n",
       "</table>\n",
       "</div>"
      ],
      "text/plain": [
       "                                    MonthlyIncome  EmployeeCount\n",
       "JobLevel JobRole                                                \n",
       "5        Research Director           21125.288462             26\n",
       "         Manager                     21102.374419             43\n",
       "4        Manager                     18274.604255             47\n",
       "         Research Director           18071.942308             26\n",
       "         Manufacturing Director      14721.300000             10\n",
       "         Sales Executive             14522.750000             14\n",
       "         Healthcare Representative   14270.300000              9\n",
       "3        Research Director           13993.728571             28\n",
       "         Manager                     13456.300000             12\n",
       "         Research Scientist          10696.400000              1\n",
       "         Human Resources             10585.300000              6\n",
       "         Healthcare Representative   10300.350000             44\n",
       "         Manufacturing Director      10237.748889             45\n",
       "         Sales Executive             10037.486076             79\n",
       "         Laboratory Technician        6597.800000              3\n",
       "2        Healthcare Representative    6451.880769             78\n",
       "         Sales Executive              6380.972532            233\n",
       "         Manufacturing Director       6174.031111             90\n",
       "         Human Resources              6119.807692             13\n",
       "         Research Scientist           5300.803509             57\n",
       "         Laboratory Technician        4901.187500             56\n",
       "         Sales Representative         4313.100000              7\n",
       "1        Laboratory Technician        3140.049000            200\n",
       "         Research Scientist           3110.414530            234\n",
       "         Human Resources              3006.533333             33\n",
       "         Sales Representative         2757.396053             76"
      ]
     },
     "execution_count": 76,
     "metadata": {},
     "output_type": "execute_result"
    }
   ],
   "source": [
    "raw.groupby([\"JobLevel\", \"JobRole\"]).agg({\"MonthlyIncome\":np.mean, \"EmployeeCount\":np.sum}).sort_values([\"JobLevel\", \"MonthlyIncome\"], ascending = False)"
   ]
  },
  {
   "cell_type": "markdown",
   "id": "c4be10cb",
   "metadata": {
    "papermill": {
     "duration": 0.03461,
     "end_time": "2023-01-12T15:02:21.550860",
     "exception": false,
     "start_time": "2023-01-12T15:02:21.516250",
     "status": "completed"
    },
    "tags": []
   },
   "source": [
    "### Department - Job Level"
   ]
  },
  {
   "cell_type": "code",
   "execution_count": 77,
   "id": "51f06335",
   "metadata": {
    "execution": {
     "iopub.execute_input": "2023-01-12T15:02:21.619595Z",
     "iopub.status.busy": "2023-01-12T15:02:21.619112Z",
     "iopub.status.idle": "2023-01-12T15:02:21.629838Z",
     "shell.execute_reply": "2023-01-12T15:02:21.628990Z"
    },
    "jupyter": {
     "source_hidden": true
    },
    "papermill": {
     "duration": 0.047405,
     "end_time": "2023-01-12T15:02:21.632288",
     "exception": false,
     "start_time": "2023-01-12T15:02:21.584883",
     "status": "completed"
    },
    "tags": []
   },
   "outputs": [],
   "source": [
    "df_grouped = raw.groupby([\"Department\", \"JobRole\", \"Attrition\"]).agg({\"EmployeeCount\": np.sum}).sort_values([\"Department\",\"EmployeeCount\"],ascending=False)"
   ]
  },
  {
   "cell_type": "code",
   "execution_count": 78,
   "id": "0c417913",
   "metadata": {
    "execution": {
     "iopub.execute_input": "2023-01-12T15:02:21.700601Z",
     "iopub.status.busy": "2023-01-12T15:02:21.699928Z",
     "iopub.status.idle": "2023-01-12T15:02:21.712201Z",
     "shell.execute_reply": "2023-01-12T15:02:21.711325Z"
    },
    "jupyter": {
     "source_hidden": true
    },
    "papermill": {
     "duration": 0.048757,
     "end_time": "2023-01-12T15:02:21.714491",
     "exception": false,
     "start_time": "2023-01-12T15:02:21.665734",
     "status": "completed"
    },
    "tags": []
   },
   "outputs": [
    {
     "data": {
      "text/html": [
       "<div>\n",
       "<style scoped>\n",
       "    .dataframe tbody tr th:only-of-type {\n",
       "        vertical-align: middle;\n",
       "    }\n",
       "\n",
       "    .dataframe tbody tr th {\n",
       "        vertical-align: top;\n",
       "    }\n",
       "\n",
       "    .dataframe thead th {\n",
       "        text-align: right;\n",
       "    }\n",
       "</style>\n",
       "<table border=\"1\" class=\"dataframe\">\n",
       "  <thead>\n",
       "    <tr style=\"text-align: right;\">\n",
       "      <th></th>\n",
       "      <th></th>\n",
       "      <th></th>\n",
       "      <th>EmployeeCount</th>\n",
       "    </tr>\n",
       "    <tr>\n",
       "      <th>Department</th>\n",
       "      <th>JobRole</th>\n",
       "      <th>Attrition</th>\n",
       "      <th></th>\n",
       "    </tr>\n",
       "  </thead>\n",
       "  <tbody>\n",
       "    <tr>\n",
       "      <th rowspan=\"3\" valign=\"top\">Sales</th>\n",
       "      <th>Sales Executive</th>\n",
       "      <th>Yes</th>\n",
       "      <td>57</td>\n",
       "    </tr>\n",
       "    <tr>\n",
       "      <th>Sales Representative</th>\n",
       "      <th>Yes</th>\n",
       "      <td>33</td>\n",
       "    </tr>\n",
       "    <tr>\n",
       "      <th>Manager</th>\n",
       "      <th>Yes</th>\n",
       "      <td>2</td>\n",
       "    </tr>\n",
       "    <tr>\n",
       "      <th rowspan=\"6\" valign=\"top\">Research &amp; Development</th>\n",
       "      <th>Laboratory Technician</th>\n",
       "      <th>Yes</th>\n",
       "      <td>62</td>\n",
       "    </tr>\n",
       "    <tr>\n",
       "      <th>Research Scientist</th>\n",
       "      <th>Yes</th>\n",
       "      <td>47</td>\n",
       "    </tr>\n",
       "    <tr>\n",
       "      <th>Manufacturing Director</th>\n",
       "      <th>Yes</th>\n",
       "      <td>10</td>\n",
       "    </tr>\n",
       "    <tr>\n",
       "      <th>Healthcare Representative</th>\n",
       "      <th>Yes</th>\n",
       "      <td>9</td>\n",
       "    </tr>\n",
       "    <tr>\n",
       "      <th>Manager</th>\n",
       "      <th>Yes</th>\n",
       "      <td>3</td>\n",
       "    </tr>\n",
       "    <tr>\n",
       "      <th>Research Director</th>\n",
       "      <th>Yes</th>\n",
       "      <td>2</td>\n",
       "    </tr>\n",
       "    <tr>\n",
       "      <th>Human Resources</th>\n",
       "      <th>Human Resources</th>\n",
       "      <th>Yes</th>\n",
       "      <td>12</td>\n",
       "    </tr>\n",
       "  </tbody>\n",
       "</table>\n",
       "</div>"
      ],
      "text/plain": [
       "                                                            EmployeeCount\n",
       "Department             JobRole                   Attrition               \n",
       "Sales                  Sales Executive           Yes                   57\n",
       "                       Sales Representative      Yes                   33\n",
       "                       Manager                   Yes                    2\n",
       "Research & Development Laboratory Technician     Yes                   62\n",
       "                       Research Scientist        Yes                   47\n",
       "                       Manufacturing Director    Yes                   10\n",
       "                       Healthcare Representative Yes                    9\n",
       "                       Manager                   Yes                    3\n",
       "                       Research Director         Yes                    2\n",
       "Human Resources        Human Resources           Yes                   12"
      ]
     },
     "execution_count": 78,
     "metadata": {},
     "output_type": "execute_result"
    }
   ],
   "source": [
    "df_grouped[[df_grouped.index[i][2] == \"Yes\" for i in range(len(df_grouped.index))]]"
   ]
  },
  {
   "cell_type": "markdown",
   "id": "05a35ecf",
   "metadata": {
    "papermill": {
     "duration": 0.034251,
     "end_time": "2023-01-12T15:02:21.782427",
     "exception": false,
     "start_time": "2023-01-12T15:02:21.748176",
     "status": "completed"
    },
    "tags": []
   },
   "source": [
    "### Monthly Income by Job Role"
   ]
  },
  {
   "cell_type": "code",
   "execution_count": 79,
   "id": "a74f19fa",
   "metadata": {
    "execution": {
     "iopub.execute_input": "2023-01-12T15:02:21.853438Z",
     "iopub.status.busy": "2023-01-12T15:02:21.852709Z",
     "iopub.status.idle": "2023-01-12T15:02:21.953959Z",
     "shell.execute_reply": "2023-01-12T15:02:21.952796Z"
    },
    "papermill": {
     "duration": 0.139345,
     "end_time": "2023-01-12T15:02:21.956659",
     "exception": false,
     "start_time": "2023-01-12T15:02:21.817314",
     "status": "completed"
    },
    "tags": []
   },
   "outputs": [
    {
     "data": {
      "text/html": [
       "<div>                            <div id=\"deb4afbe-ff83-480e-9475-9a991a764349\" class=\"plotly-graph-div\" style=\"height:525px; width:100%;\"></div>            <script type=\"text/javascript\">                require([\"plotly\"], function(Plotly) {                    window.PLOTLYENV=window.PLOTLYENV || {};                                    if (document.getElementById(\"deb4afbe-ff83-480e-9475-9a991a764349\")) {                    Plotly.newPlot(                        \"deb4afbe-ff83-480e-9475-9a991a764349\",                        [{\"alignmentgroup\":\"True\",\"hovertemplate\":\"color=Yes<br>Job Roles=%{x}<br>Monthly Income=%{y}<extra></extra>\",\"legendgroup\":\"Yes\",\"marker\":{\"color\":\"#636efa\"},\"name\":\"Yes\",\"notched\":false,\"offsetgroup\":\"Yes\",\"orientation\":\"v\",\"showlegend\":true,\"x\":[\"Sales Executive\",\"Laboratory Technician\",\"Laboratory Technician\",\"Sales Representative\",\"Research Scientist\",\"Research Scientist\",\"Sales Representative\",\"Research Scientist\",\"Sales Representative\",\"Laboratory Technician\",\"Research Director\",\"Laboratory Technician\",\"Laboratory Technician\",\"Research Scientist\",\"Sales Executive\",\"Human Resources\",\"Laboratory Technician\",\"Sales Executive\",\"Laboratory Technician\",\"Research Scientist\",\"Sales Executive\",\"Healthcare Representative\",\"Sales Representative\",\"Sales Executive\",\"Manufacturing Director\",\"Laboratory Technician\",\"Sales Representative\",\"Laboratory Technician\",\"Sales Representative\",\"Manufacturing Director\",\"Healthcare Representative\",\"Sales Executive\",\"Sales Executive\",\"Research Scientist\",\"Sales Executive\",\"Research Scientist\",\"Research Scientist\",\"Laboratory Technician\",\"Laboratory Technician\",\"Laboratory Technician\",\"Manufacturing Director\",\"Laboratory Technician\",\"Laboratory Technician\",\"Manager\",\"Laboratory Technician\",\"Laboratory Technician\",\"Sales Executive\",\"Laboratory Technician\",\"Research Scientist\",\"Research Scientist\",\"Sales Executive\",\"Laboratory Technician\",\"Sales Representative\",\"Sales Representative\",\"Sales Executive\",\"Sales Executive\",\"Sales Representative\",\"Sales Executive\",\"Research Scientist\",\"Research Scientist\",\"Laboratory Technician\",\"Sales Representative\",\"Sales Representative\",\"Research Scientist\",\"Human Resources\",\"Manager\",\"Laboratory Technician\",\"Healthcare Representative\",\"Human Resources\",\"Laboratory Technician\",\"Human Resources\",\"Sales Representative\",\"Laboratory Technician\",\"Sales Executive\",\"Laboratory Technician\",\"Sales Representative\",\"Sales Executive\",\"Sales Representative\",\"Sales Executive\",\"Research Scientist\",\"Research Scientist\",\"Sales Executive\",\"Sales Executive\",\"Research Scientist\",\"Research Scientist\",\"Research Scientist\",\"Sales Executive\",\"Manager\",\"Sales Executive\",\"Laboratory Technician\",\"Laboratory Technician\",\"Sales Executive\",\"Research Director\",\"Research Scientist\",\"Sales Executive\",\"Sales Executive\",\"Research Scientist\",\"Research Scientist\",\"Sales Representative\",\"Laboratory Technician\",\"Laboratory Technician\",\"Sales Representative\",\"Research Scientist\",\"Manufacturing Director\",\"Laboratory Technician\",\"Laboratory Technician\",\"Sales Representative\",\"Sales Representative\",\"Laboratory Technician\",\"Sales Executive\",\"Sales Executive\",\"Research Scientist\",\"Sales Executive\",\"Research Scientist\",\"Research Scientist\",\"Research Scientist\",\"Laboratory Technician\",\"Research Scientist\",\"Laboratory Technician\",\"Healthcare Representative\",\"Sales Executive\",\"Manager\",\"Laboratory Technician\",\"Laboratory Technician\",\"Research Scientist\",\"Sales Representative\",\"Laboratory Technician\",\"Research Scientist\",\"Healthcare Representative\",\"Human Resources\",\"Sales Executive\",\"Research Scientist\",\"Laboratory Technician\",\"Laboratory Technician\",\"Research Scientist\",\"Laboratory Technician\",\"Sales Executive\",\"Healthcare Representative\",\"Laboratory Technician\",\"Sales Executive\",\"Laboratory Technician\",\"Sales Executive\",\"Sales Executive\",\"Laboratory Technician\",\"Sales Executive\",\"Research Scientist\",\"Research Scientist\",\"Research Scientist\",\"Laboratory Technician\",\"Research Scientist\",\"Sales Representative\",\"Manager\",\"Laboratory Technician\",\"Healthcare Representative\",\"Laboratory Technician\",\"Laboratory Technician\",\"Research Scientist\",\"Sales Executive\",\"Sales Executive\",\"Sales Representative\",\"Laboratory Technician\",\"Manufacturing Director\",\"Sales Executive\",\"Sales Representative\",\"Sales Executive\",\"Manufacturing Director\",\"Research Scientist\",\"Laboratory Technician\",\"Healthcare Representative\",\"Sales Representative\",\"Research Scientist\",\"Sales Representative\",\"Sales Executive\",\"Laboratory Technician\",\"Manufacturing Director\",\"Laboratory Technician\",\"Human Resources\",\"Sales Representative\",\"Sales Executive\",\"Sales Executive\",\"Laboratory Technician\",\"Laboratory Technician\",\"Research Scientist\",\"Laboratory Technician\",\"Research Scientist\",\"Sales Executive\",\"Laboratory Technician\",\"Manufacturing Director\",\"Manufacturing Director\",\"Laboratory Technician\",\"Sales Representative\",\"Sales Executive\",\"Sales Executive\",\"Laboratory Technician\",\"Sales Executive\",\"Laboratory Technician\",\"Sales Representative\",\"Laboratory Technician\",\"Sales Representative\",\"Human Resources\",\"Sales Executive\",\"Sales Executive\",\"Sales Executive\",\"Human Resources\",\"Sales Representative\",\"Sales Executive\",\"Sales Executive\",\"Research Scientist\",\"Sales Representative\",\"Laboratory Technician\",\"Research Scientist\",\"Sales Executive\",\"Laboratory Technician\",\"Manufacturing Director\",\"Human Resources\",\"Healthcare Representative\",\"Human Resources\",\"Human Resources\",\"Sales Executive\",\"Research Scientist\",\"Sales Executive\",\"Sales Representative\",\"Research Scientist\",\"Research Scientist\",\"Laboratory Technician\",\"Sales Representative\",\"Sales Executive\",\"Research Scientist\",\"Human Resources\",\"Laboratory Technician\",\"Sales Executive\",\"Sales Executive\",\"Sales Representative\",\"Research Scientist\",\"Laboratory Technician\",\"Sales Executive\",\"Sales Executive\"],\"x0\":\" \",\"xaxis\":\"x\",\"y\":[6592.3,2299.0,2230.8,3747.7000000000003,3256.0000000000005,4310.900000000001,2294.6000000000004,2522.3,2951.3,2522.3,21499.5,5919.1,3785.1000000000004,3726.8,10580.900000000001,2280.3,3218.6000000000004,6318.400000000001,6681.400000000001,5459.3,6789.200000000001,11343.2,1842.5000000000002,5014.900000000001,11715.000000000002,4620.0,2557.5,1212.2,3454.0000000000005,6507.6,7340.3,8402.900000000001,11440.000000000002,2922.7000000000003,7365.6,2263.8,2627.9,2679.6000000000004,2977.7000000000003,4103.0,11052.800000000001,3826.9,3833.5000000000005,13033.900000000001,3477.1000000000004,2610.3,6410.8,1562.0000000000002,5435.1,3810.4,5761.8,2330.9,2391.4,3136.1000000000004,10290.5,7018.000000000001,2987.6000000000004,5834.400000000001,3412.2000000000003,2513.5,4434.1,3522.2000000000003,2586.1000000000004,2800.6000000000004,2820.4,14971.000000000002,3748.8,10806.400000000001,10945.0,4283.400000000001,3015.1000000000004,2065.8,2574.0,5177.700000000001,3174.6000000000004,2236.3,4656.3,3345.1000000000004,4714.6,1109.9,3682.8,5034.700000000001,7475.6,2437.6000000000004,3034.9,2954.6000000000004,7036.700000000001,21844.9,5858.6,1761.1000000000001,2550.9,5856.400000000001,21170.600000000002,4820.200000000001,8419.400000000001,5676.000000000001,2602.6000000000004,2224.2000000000003,3080.0000000000005,3074.5000000000005,2618.0,2248.4,2962.3,4588.1,3055.8,2644.4,2654.3,2333.1000000000004,3270.3,11357.500000000002,11669.900000000001,2726.9,14513.400000000001,2553.1000000000004,2644.4,2345.2000000000003,4117.3,2860.0000000000005,2664.2000000000003,5254.700000000001,5465.900000000001,21829.5,3017.3,5317.400000000001,2246.2000000000003,2555.3,1557.6000000000001,2707.1000000000004,9594.2,11530.2,10540.2,4958.8,4060.1000000000004,2614.7000000000003,2544.3,2855.6000000000004,5200.8,13385.900000000001,2094.4,9046.400000000001,2871.0000000000005,8069.6,15133.800000000001,2766.5,5880.6,3229.6000000000004,3138.3,2317.7000000000003,2431.0,2044.9,1229.8000000000002,20706.4,2887.5000000000005,8775.800000000001,3672.9,5371.3,4294.400000000001,10003.400000000001,9290.6,2532.2000000000003,2598.2000000000003,11008.800000000001,15064.500000000002,3063.5000000000005,5075.400000000001,6796.900000000001,2633.4,4712.400000000001,8308.300000000001,1494.9,1387.1000000000001,4840.0,11105.6,4010.6000000000004,8190.6,4094.2000000000003,3016.2000000000003,3199.9,6341.500000000001,5058.900000000001,3489.2000000000003,2817.1000000000004,2598.2000000000003,2219.8,4492.400000000001,10685.400000000001,2281.4,11185.900000000001,5340.5,2648.8,1725.9,11336.6,5984.000000000001,2382.6000000000004,5039.1,4387.900000000001,2920.5000000000005,1532.3000000000002,2502.5,1710.5000000000002,14229.6,6747.400000000001,7408.500000000001,2398.0,3036.0000000000005,9420.400000000001,8977.1,2680.7000000000003,2946.9,2637.8,2576.2000000000003,6394.3,5880.6,4634.3,2362.8,9818.6,3251.6000000000004,2568.5,10897.7,2682.9,8045.400000000001,1189.1000000000001,2719.2000000000003,2537.7000000000003,2845.7000000000003,1200.1000000000001,10839.400000000001,2675.2000000000003,3149.3,2603.7000000000003,6178.700000000001,11492.800000000001,1969.0000000000002,5265.700000000001,2572.9,7400.8,11939.400000000001],\"y0\":\" \",\"yaxis\":\"y\",\"type\":\"box\"},{\"alignmentgroup\":\"True\",\"hovertemplate\":\"color=No<br>Job Roles=%{x}<br>Monthly Income=%{y}<extra></extra>\",\"legendgroup\":\"No\",\"marker\":{\"color\":\"#EF553B\"},\"name\":\"No\",\"notched\":false,\"offsetgroup\":\"No\",\"orientation\":\"v\",\"showlegend\":true,\"x\":[\"Research Scientist\",\"Research Scientist\",\"Laboratory Technician\",\"Laboratory Technician\",\"Laboratory Technician\",\"Laboratory Technician\",\"Manufacturing Director\",\"Healthcare Representative\",\"Laboratory Technician\",\"Laboratory Technician\",\"Research Scientist\",\"Laboratory Technician\",\"Manufacturing Director\",\"Research Scientist\",\"Laboratory Technician\",\"Manager\",\"Research Scientist\",\"Manufacturing Director\",\"Research Director\",\"Research Scientist\",\"Manager\",\"Sales Executive\",\"Healthcare Representative\",\"Manager\",\"Laboratory Technician\",\"Healthcare Representative\",\"Laboratory Technician\",\"Research Scientist\",\"Sales Representative\",\"Research Scientist\",\"Sales Executive\",\"Laboratory Technician\",\"Laboratory Technician\",\"Sales Executive\",\"Laboratory Technician\",\"Sales Executive\",\"Research Scientist\",\"Sales Executive\",\"Laboratory Technician\",\"Sales Executive\",\"Healthcare Representative\",\"Sales Executive\",\"Research Director\",\"Sales Executive\",\"Laboratory Technician\",\"Laboratory Technician\",\"Manufacturing Director\",\"Manufacturing Director\",\"Laboratory Technician\",\"Research Director\",\"Sales Executive\",\"Healthcare Representative\",\"Manager\",\"Manufacturing Director\",\"Research Scientist\",\"Research Scientist\",\"Sales Executive\",\"Research Scientist\",\"Research Scientist\",\"Research Scientist\",\"Laboratory Technician\",\"Manufacturing Director\",\"Sales Executive\",\"Research Director\",\"Research Director\",\"Human Resources\",\"Laboratory Technician\",\"Research Scientist\",\"Sales Executive\",\"Research Scientist\",\"Manufacturing Director\",\"Manufacturing Director\",\"Sales Representative\",\"Laboratory Technician\",\"Healthcare Representative\",\"Healthcare Representative\",\"Sales Executive\",\"Sales Executive\",\"Healthcare Representative\",\"Sales Executive\",\"Research Director\",\"Sales Executive\",\"Sales Executive\",\"Sales Executive\",\"Laboratory Technician\",\"Research Scientist\",\"Research Scientist\",\"Healthcare Representative\",\"Manager\",\"Research Director\",\"Research Scientist\",\"Laboratory Technician\",\"Healthcare Representative\",\"Manager\",\"Laboratory Technician\",\"Research Scientist\",\"Sales Executive\",\"Manager\",\"Sales Executive\",\"Laboratory Technician\",\"Manager\",\"Research Scientist\",\"Sales Executive\",\"Research Director\",\"Research Scientist\",\"Laboratory Technician\",\"Manufacturing Director\",\"Research Scientist\",\"Sales Executive\",\"Sales Executive\",\"Human Resources\",\"Manufacturing Director\",\"Sales Executive\",\"Sales Executive\",\"Human Resources\",\"Research Scientist\",\"Research Scientist\",\"Research Scientist\",\"Sales Executive\",\"Research Scientist\",\"Laboratory Technician\",\"Manager\",\"Laboratory Technician\",\"Laboratory Technician\",\"Research Scientist\",\"Sales Executive\",\"Sales Representative\",\"Laboratory Technician\",\"Sales Executive\",\"Manufacturing Director\",\"Manufacturing Director\",\"Research Scientist\",\"Sales Executive\",\"Sales Representative\",\"Research Scientist\",\"Research Scientist\",\"Research Scientist\",\"Healthcare Representative\",\"Research Scientist\",\"Manager\",\"Research Scientist\",\"Sales Executive\",\"Sales Executive\",\"Research Scientist\",\"Research Scientist\",\"Laboratory Technician\",\"Laboratory Technician\",\"Sales Executive\",\"Research Scientist\",\"Research Scientist\",\"Sales Executive\",\"Laboratory Technician\",\"Research Scientist\",\"Research Scientist\",\"Laboratory Technician\",\"Manufacturing Director\",\"Research Scientist\",\"Manager\",\"Research Director\",\"Manufacturing Director\",\"Healthcare Representative\",\"Manager\",\"Research Scientist\",\"Research Scientist\",\"Manager\",\"Research Scientist\",\"Laboratory Technician\",\"Manufacturing Director\",\"Manufacturing Director\",\"Manufacturing Director\",\"Manufacturing Director\",\"Manufacturing Director\",\"Research Scientist\",\"Laboratory Technician\",\"Research Scientist\",\"Laboratory Technician\",\"Healthcare Representative\",\"Healthcare Representative\",\"Manufacturing Director\",\"Sales Executive\",\"Research Director\",\"Manager\",\"Sales Executive\",\"Sales Executive\",\"Laboratory Technician\",\"Research Scientist\",\"Research Director\",\"Sales Executive\",\"Manufacturing Director\",\"Research Scientist\",\"Sales Representative\",\"Sales Executive\",\"Sales Executive\",\"Laboratory Technician\",\"Manager\",\"Human Resources\",\"Manager\",\"Manager\",\"Manager\",\"Sales Representative\",\"Laboratory Technician\",\"Sales Executive\",\"Research Scientist\",\"Research Scientist\",\"Manager\",\"Research Director\",\"Research Scientist\",\"Manufacturing Director\",\"Research Scientist\",\"Manufacturing Director\",\"Healthcare Representative\",\"Research Scientist\",\"Research Scientist\",\"Sales Executive\",\"Manufacturing Director\",\"Laboratory Technician\",\"Research Director\",\"Research Scientist\",\"Laboratory Technician\",\"Sales Executive\",\"Laboratory Technician\",\"Manager\",\"Sales Executive\",\"Healthcare Representative\",\"Healthcare Representative\",\"Healthcare Representative\",\"Laboratory Technician\",\"Manager\",\"Research Scientist\",\"Sales Executive\",\"Research Scientist\",\"Research Director\",\"Manager\",\"Sales Executive\",\"Manufacturing Director\",\"Research Director\",\"Research Director\",\"Sales Executive\",\"Sales Executive\",\"Laboratory Technician\",\"Healthcare Representative\",\"Research Scientist\",\"Healthcare Representative\",\"Research Scientist\",\"Research Director\",\"Research Scientist\",\"Sales Representative\",\"Research Scientist\",\"Sales Executive\",\"Sales Executive\",\"Laboratory Technician\",\"Manufacturing Director\",\"Manager\",\"Sales Representative\",\"Healthcare Representative\",\"Sales Executive\",\"Healthcare Representative\",\"Laboratory Technician\",\"Sales Executive\",\"Research Director\",\"Healthcare Representative\",\"Research Scientist\",\"Human Resources\",\"Laboratory Technician\",\"Research Scientist\",\"Manager\",\"Manager\",\"Laboratory Technician\",\"Healthcare Representative\",\"Research Scientist\",\"Sales Executive\",\"Sales Executive\",\"Sales Executive\",\"Research Scientist\",\"Research Scientist\",\"Manufacturing Director\",\"Manager\",\"Sales Executive\",\"Research Director\",\"Laboratory Technician\",\"Sales Executive\",\"Research Scientist\",\"Healthcare Representative\",\"Research Scientist\",\"Sales Executive\",\"Laboratory Technician\",\"Sales Executive\",\"Sales Executive\",\"Manufacturing Director\",\"Research Director\",\"Manufacturing Director\",\"Sales Executive\",\"Manufacturing Director\",\"Research Scientist\",\"Manufacturing Director\",\"Sales Representative\",\"Research Director\",\"Sales Executive\",\"Human Resources\",\"Laboratory Technician\",\"Manager\",\"Research Scientist\",\"Sales Executive\",\"Sales Executive\",\"Healthcare Representative\",\"Sales Executive\",\"Sales Executive\",\"Healthcare Representative\",\"Laboratory Technician\",\"Sales Representative\",\"Laboratory Technician\",\"Manufacturing Director\",\"Healthcare Representative\",\"Research Scientist\",\"Research Scientist\",\"Healthcare Representative\",\"Laboratory Technician\",\"Sales Executive\",\"Healthcare Representative\",\"Sales Executive\",\"Research Scientist\",\"Manager\",\"Sales Executive\",\"Sales Representative\",\"Research Scientist\",\"Sales Executive\",\"Laboratory Technician\",\"Sales Executive\",\"Laboratory Technician\",\"Manufacturing Director\",\"Research Director\",\"Laboratory Technician\",\"Research Director\",\"Sales Executive\",\"Manufacturing Director\",\"Laboratory Technician\",\"Healthcare Representative\",\"Sales Executive\",\"Research Scientist\",\"Laboratory Technician\",\"Manager\",\"Sales Executive\",\"Sales Executive\",\"Sales Executive\",\"Laboratory Technician\",\"Manufacturing Director\",\"Research Scientist\",\"Manager\",\"Research Scientist\",\"Manufacturing Director\",\"Manager\",\"Manufacturing Director\",\"Healthcare Representative\",\"Laboratory Technician\",\"Manager\",\"Research Scientist\",\"Laboratory Technician\",\"Research Director\",\"Sales Executive\",\"Manager\",\"Manager\",\"Laboratory Technician\",\"Sales Executive\",\"Manufacturing Director\",\"Research Director\",\"Laboratory Technician\",\"Laboratory Technician\",\"Research Scientist\",\"Sales Executive\",\"Manufacturing Director\",\"Sales Representative\",\"Healthcare Representative\",\"Laboratory Technician\",\"Sales Executive\",\"Sales Executive\",\"Manager\",\"Sales Executive\",\"Sales Executive\",\"Manufacturing Director\",\"Laboratory Technician\",\"Sales Executive\",\"Manufacturing Director\",\"Sales Executive\",\"Manufacturing Director\",\"Research Director\",\"Manager\",\"Sales Executive\",\"Healthcare Representative\",\"Sales Executive\",\"Sales Executive\",\"Sales Executive\",\"Manufacturing Director\",\"Healthcare Representative\",\"Manager\",\"Sales Executive\",\"Research Scientist\",\"Sales Representative\",\"Healthcare Representative\",\"Manufacturing Director\",\"Research Director\",\"Research Scientist\",\"Sales Executive\",\"Laboratory Technician\",\"Manager\",\"Sales Representative\",\"Research Scientist\",\"Laboratory Technician\",\"Sales Executive\",\"Research Scientist\",\"Sales Executive\",\"Research Scientist\",\"Healthcare Representative\",\"Research Director\",\"Research Scientist\",\"Laboratory Technician\",\"Manager\",\"Human Resources\",\"Sales Representative\",\"Sales Representative\",\"Manager\",\"Research Scientist\",\"Sales Executive\",\"Research Scientist\",\"Research Scientist\",\"Sales Executive\",\"Research Scientist\",\"Laboratory Technician\",\"Manufacturing Director\",\"Sales Executive\",\"Research Scientist\",\"Healthcare Representative\",\"Human Resources\",\"Manufacturing Director\",\"Research Scientist\",\"Laboratory Technician\",\"Research Scientist\",\"Sales Executive\",\"Sales Executive\",\"Research Scientist\",\"Sales Executive\",\"Sales Executive\",\"Research Scientist\",\"Laboratory Technician\",\"Healthcare Representative\",\"Healthcare Representative\",\"Sales Executive\",\"Healthcare Representative\",\"Manufacturing Director\",\"Research Director\",\"Sales Executive\",\"Sales Executive\",\"Research Director\",\"Manager\",\"Sales Executive\",\"Manufacturing Director\",\"Manager\",\"Sales Representative\",\"Research Director\",\"Manufacturing Director\",\"Laboratory Technician\",\"Sales Executive\",\"Sales Executive\",\"Sales Representative\",\"Sales Executive\",\"Healthcare Representative\",\"Laboratory Technician\",\"Human Resources\",\"Healthcare Representative\",\"Research Scientist\",\"Healthcare Representative\",\"Sales Representative\",\"Laboratory Technician\",\"Healthcare Representative\",\"Laboratory Technician\",\"Research Scientist\",\"Manufacturing Director\",\"Manager\",\"Sales Executive\",\"Sales Representative\",\"Research Scientist\",\"Sales Executive\",\"Sales Executive\",\"Research Scientist\",\"Laboratory Technician\",\"Healthcare Representative\",\"Research Scientist\",\"Manufacturing Director\",\"Sales Executive\",\"Research Scientist\",\"Manufacturing Director\",\"Research Scientist\",\"Sales Representative\",\"Laboratory Technician\",\"Healthcare Representative\",\"Sales Executive\",\"Manager\",\"Laboratory Technician\",\"Laboratory Technician\",\"Research Director\",\"Research Director\",\"Manager\",\"Manufacturing Director\",\"Research Scientist\",\"Research Scientist\",\"Manufacturing Director\",\"Human Resources\",\"Manufacturing Director\",\"Laboratory Technician\",\"Manufacturing Director\",\"Research Scientist\",\"Manufacturing Director\",\"Healthcare Representative\",\"Research Scientist\",\"Research Director\",\"Research Director\",\"Manufacturing Director\",\"Sales Executive\",\"Human Resources\",\"Research Scientist\",\"Manager\",\"Healthcare Representative\",\"Research Scientist\",\"Sales Executive\",\"Research Scientist\",\"Sales Executive\",\"Sales Executive\",\"Research Scientist\",\"Sales Executive\",\"Sales Executive\",\"Research Scientist\",\"Manufacturing Director\",\"Sales Executive\",\"Human Resources\",\"Manufacturing Director\",\"Laboratory Technician\",\"Research Scientist\",\"Human Resources\",\"Sales Executive\",\"Manufacturing Director\",\"Laboratory Technician\",\"Sales Executive\",\"Research Scientist\",\"Laboratory Technician\",\"Sales Executive\",\"Sales Representative\",\"Laboratory Technician\",\"Research Scientist\",\"Sales Executive\",\"Manufacturing Director\",\"Sales Representative\",\"Research Director\",\"Healthcare Representative\",\"Sales Executive\",\"Sales Executive\",\"Manager\",\"Human Resources\",\"Human Resources\",\"Laboratory Technician\",\"Research Scientist\",\"Sales Executive\",\"Manufacturing Director\",\"Healthcare Representative\",\"Sales Representative\",\"Research Scientist\",\"Research Scientist\",\"Laboratory Technician\",\"Sales Executive\",\"Research Scientist\",\"Healthcare Representative\",\"Sales Representative\",\"Healthcare Representative\",\"Laboratory Technician\",\"Research Scientist\",\"Sales Executive\",\"Research Scientist\",\"Research Director\",\"Laboratory Technician\",\"Sales Executive\",\"Sales Executive\",\"Laboratory Technician\",\"Laboratory Technician\",\"Healthcare Representative\",\"Research Scientist\",\"Manufacturing Director\",\"Healthcare Representative\",\"Laboratory Technician\",\"Sales Representative\",\"Sales Executive\",\"Manager\",\"Manager\",\"Sales Executive\",\"Sales Executive\",\"Sales Executive\",\"Sales Executive\",\"Manufacturing Director\",\"Sales Executive\",\"Manager\",\"Research Scientist\",\"Laboratory Technician\",\"Research Director\",\"Healthcare Representative\",\"Research Director\",\"Laboratory Technician\",\"Laboratory Technician\",\"Sales Executive\",\"Manufacturing Director\",\"Research Scientist\",\"Manufacturing Director\",\"Manufacturing Director\",\"Manufacturing Director\",\"Research Scientist\",\"Manufacturing Director\",\"Healthcare Representative\",\"Research Director\",\"Manufacturing Director\",\"Laboratory Technician\",\"Healthcare Representative\",\"Healthcare Representative\",\"Manufacturing Director\",\"Manufacturing Director\",\"Manufacturing Director\",\"Laboratory Technician\",\"Manager\",\"Laboratory Technician\",\"Manufacturing Director\",\"Healthcare Representative\",\"Research Director\",\"Sales Executive\",\"Sales Executive\",\"Sales Executive\",\"Manufacturing Director\",\"Sales Representative\",\"Manager\",\"Laboratory Technician\",\"Sales Executive\",\"Manager\",\"Human Resources\",\"Sales Executive\",\"Sales Representative\",\"Sales Representative\",\"Research Scientist\",\"Research Director\",\"Healthcare Representative\",\"Sales Executive\",\"Research Scientist\",\"Research Director\",\"Sales Executive\",\"Research Scientist\",\"Manufacturing Director\",\"Manager\",\"Sales Executive\",\"Research Scientist\",\"Laboratory Technician\",\"Manufacturing Director\",\"Research Scientist\",\"Healthcare Representative\",\"Healthcare Representative\",\"Laboratory Technician\",\"Manufacturing Director\",\"Research Scientist\",\"Healthcare Representative\",\"Laboratory Technician\",\"Healthcare Representative\",\"Sales Executive\",\"Manager\",\"Sales Executive\",\"Research Scientist\",\"Manager\",\"Sales Executive\",\"Healthcare Representative\",\"Sales Executive\",\"Research Scientist\",\"Manufacturing Director\",\"Manager\",\"Sales Executive\",\"Manufacturing Director\",\"Research Director\",\"Research Scientist\",\"Laboratory Technician\",\"Manufacturing Director\",\"Sales Representative\",\"Research Scientist\",\"Sales Executive\",\"Sales Executive\",\"Manufacturing Director\",\"Research Scientist\",\"Laboratory Technician\",\"Manufacturing Director\",\"Human Resources\",\"Research Scientist\",\"Laboratory Technician\",\"Healthcare Representative\",\"Research Scientist\",\"Sales Executive\",\"Human Resources\",\"Research Director\",\"Sales Executive\",\"Laboratory Technician\",\"Laboratory Technician\",\"Laboratory Technician\",\"Sales Executive\",\"Research Scientist\",\"Manufacturing Director\",\"Healthcare Representative\",\"Laboratory Technician\",\"Sales Representative\",\"Manager\",\"Laboratory Technician\",\"Research Scientist\",\"Research Scientist\",\"Manufacturing Director\",\"Laboratory Technician\",\"Manager\",\"Research Scientist\",\"Manager\",\"Research Scientist\",\"Human Resources\",\"Sales Executive\",\"Sales Executive\",\"Manager\",\"Laboratory Technician\",\"Research Director\",\"Sales Executive\",\"Sales Executive\",\"Laboratory Technician\",\"Laboratory Technician\",\"Research Scientist\",\"Sales Representative\",\"Manufacturing Director\",\"Human Resources\",\"Sales Executive\",\"Laboratory Technician\",\"Research Scientist\",\"Manufacturing Director\",\"Research Scientist\",\"Sales Executive\",\"Sales Executive\",\"Research Scientist\",\"Research Director\",\"Sales Executive\",\"Research Scientist\",\"Manufacturing Director\",\"Research Scientist\",\"Research Scientist\",\"Research Director\",\"Healthcare Representative\",\"Healthcare Representative\",\"Sales Executive\",\"Research Director\",\"Manager\",\"Research Scientist\",\"Laboratory Technician\",\"Research Scientist\",\"Healthcare Representative\",\"Research Director\",\"Research Director\",\"Research Scientist\",\"Manager\",\"Sales Executive\",\"Research Scientist\",\"Research Scientist\",\"Research Scientist\",\"Healthcare Representative\",\"Manager\",\"Sales Executive\",\"Manager\",\"Manufacturing Director\",\"Laboratory Technician\",\"Laboratory Technician\",\"Manager\",\"Human Resources\",\"Research Scientist\",\"Research Scientist\",\"Sales Executive\",\"Manufacturing Director\",\"Laboratory Technician\",\"Laboratory Technician\",\"Manufacturing Director\",\"Research Scientist\",\"Research Scientist\",\"Sales Executive\",\"Manager\",\"Manager\",\"Research Scientist\",\"Laboratory Technician\",\"Healthcare Representative\",\"Human Resources\",\"Laboratory Technician\",\"Research Director\",\"Manager\",\"Manufacturing Director\",\"Sales Executive\",\"Sales Executive\",\"Manager\",\"Manager\",\"Manager\",\"Research Scientist\",\"Healthcare Representative\",\"Research Scientist\",\"Sales Executive\",\"Research Scientist\",\"Manager\",\"Sales Executive\",\"Sales Executive\",\"Laboratory Technician\",\"Laboratory Technician\",\"Sales Executive\",\"Manufacturing Director\",\"Sales Representative\",\"Manufacturing Director\",\"Laboratory Technician\",\"Laboratory Technician\",\"Sales Executive\",\"Manufacturing Director\",\"Research Scientist\",\"Healthcare Representative\",\"Laboratory Technician\",\"Research Scientist\",\"Healthcare Representative\",\"Sales Executive\",\"Sales Executive\",\"Sales Executive\",\"Research Scientist\",\"Research Scientist\",\"Sales Executive\",\"Sales Executive\",\"Healthcare Representative\",\"Sales Executive\",\"Manufacturing Director\",\"Research Scientist\",\"Sales Executive\",\"Research Scientist\",\"Manager\",\"Laboratory Technician\",\"Laboratory Technician\",\"Manufacturing Director\",\"Laboratory Technician\",\"Laboratory Technician\",\"Human Resources\",\"Research Director\",\"Research Director\",\"Research Director\",\"Sales Executive\",\"Sales Executive\",\"Research Director\",\"Research Scientist\",\"Laboratory Technician\",\"Laboratory Technician\",\"Sales Executive\",\"Research Scientist\",\"Laboratory Technician\",\"Research Scientist\",\"Research Director\",\"Sales Executive\",\"Sales Executive\",\"Laboratory Technician\",\"Research Scientist\",\"Laboratory Technician\",\"Sales Executive\",\"Healthcare Representative\",\"Human Resources\",\"Manufacturing Director\",\"Sales Executive\",\"Research Director\",\"Sales Executive\",\"Laboratory Technician\",\"Research Director\",\"Healthcare Representative\",\"Research Scientist\",\"Research Scientist\",\"Sales Executive\",\"Sales Executive\",\"Sales Executive\",\"Laboratory Technician\",\"Sales Executive\",\"Research Scientist\",\"Research Scientist\",\"Healthcare Representative\",\"Research Director\",\"Sales Representative\",\"Sales Representative\",\"Manufacturing Director\",\"Sales Executive\",\"Human Resources\",\"Healthcare Representative\",\"Laboratory Technician\",\"Sales Executive\",\"Research Scientist\",\"Sales Executive\",\"Laboratory Technician\",\"Laboratory Technician\",\"Manufacturing Director\",\"Healthcare Representative\",\"Manager\",\"Manager\",\"Research Director\",\"Manufacturing Director\",\"Manager\",\"Healthcare Representative\",\"Laboratory Technician\",\"Sales Executive\",\"Research Director\",\"Sales Representative\",\"Laboratory Technician\",\"Research Scientist\",\"Healthcare Representative\",\"Manufacturing Director\",\"Research Scientist\",\"Healthcare Representative\",\"Sales Executive\",\"Laboratory Technician\",\"Manager\",\"Laboratory Technician\",\"Healthcare Representative\",\"Healthcare Representative\",\"Sales Representative\",\"Research Scientist\",\"Sales Representative\",\"Sales Executive\",\"Research Scientist\",\"Sales Executive\",\"Human Resources\",\"Laboratory Technician\",\"Sales Executive\",\"Research Scientist\",\"Research Scientist\",\"Research Scientist\",\"Manager\",\"Research Scientist\",\"Research Scientist\",\"Sales Executive\",\"Sales Executive\",\"Sales Executive\",\"Laboratory Technician\",\"Healthcare Representative\",\"Sales Executive\",\"Healthcare Representative\",\"Manager\",\"Research Scientist\",\"Laboratory Technician\",\"Manager\",\"Laboratory Technician\",\"Healthcare Representative\",\"Sales Executive\",\"Laboratory Technician\",\"Laboratory Technician\",\"Manager\",\"Research Scientist\",\"Healthcare Representative\",\"Research Scientist\",\"Research Director\",\"Research Scientist\",\"Laboratory Technician\",\"Sales Executive\",\"Sales Executive\",\"Manufacturing Director\",\"Manufacturing Director\",\"Laboratory Technician\",\"Manufacturing Director\",\"Laboratory Technician\",\"Research Scientist\",\"Manufacturing Director\",\"Research Scientist\",\"Manager\",\"Laboratory Technician\",\"Manufacturing Director\",\"Healthcare Representative\",\"Manufacturing Director\",\"Manufacturing Director\",\"Manufacturing Director\",\"Manufacturing Director\",\"Research Scientist\",\"Manufacturing Director\",\"Human Resources\",\"Manager\",\"Research Scientist\",\"Research Scientist\",\"Research Scientist\",\"Sales Executive\",\"Healthcare Representative\",\"Manufacturing Director\",\"Manufacturing Director\",\"Research Director\",\"Research Director\",\"Sales Representative\",\"Research Scientist\",\"Laboratory Technician\",\"Healthcare Representative\",\"Manufacturing Director\",\"Healthcare Representative\",\"Manager\",\"Research Director\",\"Research Scientist\",\"Sales Executive\",\"Sales Executive\",\"Research Scientist\",\"Sales Executive\",\"Laboratory Technician\",\"Laboratory Technician\",\"Manager\",\"Manager\",\"Sales Executive\",\"Sales Representative\",\"Sales Executive\",\"Healthcare Representative\",\"Human Resources\",\"Laboratory Technician\",\"Healthcare Representative\",\"Laboratory Technician\",\"Research Scientist\",\"Laboratory Technician\",\"Healthcare Representative\",\"Laboratory Technician\",\"Sales Executive\",\"Research Scientist\",\"Healthcare Representative\",\"Research Scientist\",\"Sales Executive\",\"Research Scientist\",\"Sales Executive\",\"Laboratory Technician\",\"Sales Representative\",\"Healthcare Representative\",\"Laboratory Technician\",\"Research Director\",\"Research Scientist\",\"Laboratory Technician\",\"Human Resources\",\"Manufacturing Director\",\"Laboratory Technician\",\"Healthcare Representative\",\"Manufacturing Director\",\"Research Scientist\",\"Sales Executive\",\"Sales Executive\",\"Laboratory Technician\",\"Manufacturing Director\",\"Laboratory Technician\",\"Sales Executive\",\"Manager\",\"Human Resources\",\"Research Scientist\",\"Human Resources\",\"Sales Executive\",\"Research Scientist\",\"Healthcare Representative\",\"Sales Executive\",\"Research Scientist\",\"Sales Executive\",\"Sales Executive\",\"Laboratory Technician\",\"Research Scientist\",\"Healthcare Representative\",\"Research Scientist\",\"Healthcare Representative\",\"Laboratory Technician\",\"Research Director\",\"Research Scientist\",\"Laboratory Technician\",\"Sales Executive\",\"Manufacturing Director\",\"Human Resources\",\"Sales Executive\",\"Laboratory Technician\",\"Sales Executive\",\"Manager\",\"Sales Executive\",\"Research Director\",\"Healthcare Representative\",\"Human Resources\",\"Research Scientist\",\"Research Scientist\",\"Research Director\",\"Sales Executive\",\"Laboratory Technician\",\"Healthcare Representative\",\"Manufacturing Director\",\"Human Resources\",\"Sales Executive\",\"Research Scientist\",\"Healthcare Representative\",\"Sales Executive\",\"Manufacturing Director\",\"Healthcare Representative\",\"Sales Executive\",\"Manager\",\"Laboratory Technician\",\"Manufacturing Director\",\"Healthcare Representative\",\"Research Scientist\",\"Sales Executive\",\"Research Scientist\",\"Sales Representative\",\"Sales Executive\",\"Research Director\",\"Research Scientist\",\"Sales Executive\",\"Research Scientist\",\"Sales Executive\",\"Laboratory Technician\",\"Laboratory Technician\",\"Sales Executive\",\"Research Scientist\",\"Laboratory Technician\",\"Manufacturing Director\",\"Human Resources\",\"Healthcare Representative\",\"Laboratory Technician\",\"Sales Executive\",\"Sales Representative\",\"Human Resources\",\"Manager\",\"Research Director\",\"Research Scientist\",\"Research Scientist\",\"Research Scientist\",\"Sales Representative\",\"Sales Executive\",\"Laboratory Technician\",\"Sales Executive\",\"Laboratory Technician\",\"Research Scientist\",\"Manufacturing Director\",\"Manufacturing Director\",\"Human Resources\",\"Manager\",\"Research Scientist\",\"Sales Executive\",\"Manager\",\"Healthcare Representative\",\"Sales Executive\",\"Sales Executive\",\"Research Director\",\"Sales Executive\",\"Sales Executive\",\"Laboratory Technician\",\"Laboratory Technician\",\"Healthcare Representative\",\"Sales Executive\",\"Sales Executive\",\"Sales Executive\",\"Research Scientist\",\"Research Scientist\",\"Research Scientist\",\"Sales Executive\",\"Manufacturing Director\",\"Research Scientist\",\"Manager\",\"Research Scientist\",\"Research Director\",\"Sales Executive\",\"Sales Executive\",\"Research Scientist\",\"Research Scientist\",\"Laboratory Technician\",\"Sales Executive\",\"Sales Executive\",\"Laboratory Technician\",\"Healthcare Representative\",\"Healthcare Representative\",\"Research Scientist\",\"Sales Representative\",\"Sales Executive\",\"Sales Executive\",\"Manufacturing Director\",\"Research Scientist\",\"Healthcare Representative\",\"Healthcare Representative\",\"Human Resources\",\"Manager\",\"Laboratory Technician\",\"Sales Executive\",\"Research Scientist\",\"Research Director\",\"Manufacturing Director\",\"Healthcare Representative\",\"Laboratory Technician\",\"Laboratory Technician\",\"Sales Executive\",\"Human Resources\",\"Laboratory Technician\",\"Laboratory Technician\",\"Healthcare Representative\",\"Laboratory Technician\",\"Sales Executive\",\"Sales Representative\",\"Manufacturing Director\",\"Research Scientist\",\"Research Scientist\",\"Research Director\",\"Laboratory Technician\",\"Research Scientist\",\"Research Scientist\",\"Healthcare Representative\",\"Laboratory Technician\",\"Laboratory Technician\",\"Sales Representative\",\"Research Scientist\",\"Research Director\",\"Sales Executive\",\"Research Director\",\"Sales Executive\",\"Sales Representative\",\"Research Scientist\",\"Sales Representative\",\"Manager\",\"Sales Executive\",\"Manufacturing Director\",\"Healthcare Representative\",\"Manager\",\"Manufacturing Director\",\"Sales Executive\",\"Sales Executive\",\"Sales Executive\",\"Research Scientist\",\"Human Resources\",\"Sales Executive\",\"Sales Executive\",\"Sales Executive\",\"Research Scientist\",\"Healthcare Representative\",\"Research Scientist\",\"Research Scientist\",\"Laboratory Technician\",\"Research Scientist\",\"Sales Executive\",\"Manufacturing Director\",\"Sales Representative\",\"Laboratory Technician\",\"Healthcare Representative\",\"Manufacturing Director\",\"Sales Executive\",\"Laboratory Technician\"],\"x0\":\" \",\"xaxis\":\"x\",\"y\":[5643.000000000001,3199.9,3814.8,3374.8,2937.0000000000005,2962.3,10478.6,5760.700000000001,2668.6000000000004,4612.3,3202.1000000000004,2927.1000000000004,10978.0,3627.8,3228.5000000000005,16969.7,4338.400000000001,4412.1,13193.400000000001,1355.2,21003.4,7507.500000000001,11272.800000000001,20841.7,2745.6000000000004,7111.500000000001,2426.6000000000004,2909.5000000000005,2215.4,3760.9,5913.6,2146.1000000000004,2575.1000000000004,9598.6,4412.1,5024.8,3324.2000000000003,6349.200000000001,2495.9,5999.400000000001,10872.400000000001,4572.700000000001,14803.800000000001,9975.900000000001,4415.400000000001,6506.500000000001,6592.3,6778.200000000001,2646.6000000000004,20614.0,8400.7,11105.6,16231.600000000002,7148.900000000001,10696.400000000001,2413.4,6020.3,2973.3,2751.1000000000004,6842.000000000001,3341.8,4866.400000000001,4743.200000000001,14569.500000000002,15030.400000000001,5523.1,5638.6,3144.9,11262.900000000001,5861.900000000001,4757.5,7986.000000000001,2554.2000000000003,2282.5,4567.200000000001,14853.300000000001,5985.1,5729.900000000001,11740.300000000001,5511.0,14903.900000000001,5498.900000000001,4643.1,15259.2,2246.2000000000003,3251.6000000000004,5289.900000000001,5679.3,20728.4,19989.2,3177.9,3158.1000000000004,8232.400000000001,19060.800000000003,3051.4,4955.5,8170.800000000001,12794.1,10711.800000000001,3118.5000000000005,18654.9,2874.3,6760.6,21490.7,2604.8,2775.3,7223.700000000001,5212.900000000001,10128.800000000001,9007.900000000001,3236.2000000000003,5435.1,6492.200000000001,9502.900000000001,6981.700000000001,3797.2000000000003,4748.700000000001,2895.2000000000003,5134.8,3524.4,2992.0000000000005,18899.100000000002,2461.8,1631.3000000000002,6165.500000000001,8024.500000000001,2536.6000000000004,2582.8,9897.800000000001,4750.900000000001,6745.200000000001,3680.6000000000004,11940.500000000002,2454.1000000000004,2555.3,2226.4,2984.3,10382.900000000001,2822.6000000000004,21918.600000000002,2696.1000000000004,10360.900000000001,9554.6,3341.8,3363.8,2296.8,3379.2000000000003,5506.6,4682.700000000001,2750.0,11498.300000000001,2516.8,4321.900000000001,2542.1000000000004,4059.0000000000005,4895.0,3031.6000000000004,20936.300000000003,20594.2,10501.7,15107.400000000001,21998.9,2506.9,2297.9,18471.2,3920.4,4867.5,5791.500000000001,7208.3,6887.1,4727.8,7484.400000000001,4196.5,3015.1000000000004,2560.8,2368.3,5363.6,10335.6,9321.400000000001,10979.1,13739.000000000002,14950.1,9751.5,6534.000000000001,6505.400000000001,2884.2000000000003,13403.500000000002,11669.900000000001,4779.5,2394.7000000000003,3072.3,8709.800000000001,9667.900000000001,3533.2000000000003,21155.2,2493.7000000000003,21468.7,17670.4,20974.800000000003,4324.1,2455.2000000000003,4911.5,3379.2000000000003,3650.9,21122.2,15042.500000000002,3202.1000000000004,6552.700000000001,4312.0,7077.400000000001,12031.800000000001,2574.0,7199.500000000001,7624.1,5387.8,2852.3,21379.600000000002,2995.3,3073.4,5773.900000000001,2393.6000000000004,18559.2,7308.400000000001,6140.200000000001,4400.0,14845.6,3531.0000000000005,20949.5,2277.0,7152.200000000001,3553.0000000000005,14963.300000000001,13195.6,6165.500000000001,7036.700000000001,21058.4,19342.4,5397.700000000001,5009.400000000001,5956.500000000001,5215.1,2326.5,6319.500000000001,3641.0000000000005,20531.5,4933.5,3067.9,2558.6000000000004,14877.500000000002,8822.0,4056.8,6030.200000000001,17616.5,1320.0,6227.1,7621.900000000001,10574.300000000001,6241.400000000001,6032.400000000001,13267.1,6226.000000000001,5303.1,7051.000000000001,5731.000000000001,2964.5000000000005,13065.800000000001,18774.800000000003,2700.5,15360.400000000001,2725.8,5750.8,4925.8,8301.7,5560.5,6352.500000000001,9837.300000000001,21199.2,5150.200000000001,20130.0,5782.700000000001,6983.900000000001,5355.900000000001,10983.5,4066.7000000000003,8202.7,4381.3,6729.8,6835.400000000001,6981.700000000001,12661.000000000002,7857.3,9094.800000000001,8904.5,3194.4,6635.200000000001,3273.6000000000004,17591.2,5113.900000000001,2965.6000000000004,2607.0,13754.400000000001,6571.400000000001,5209.6,5825.6,7459.1,7318.3,10668.900000000001,7430.500000000001,2434.3,2871.0000000000005,3797.2000000000003,5783.8,11545.6,2922.7000000000003,2421.1000000000004,7194.000000000001,4197.6,5778.3,12061.500000000002,5429.6,2797.3,18324.9,4686.0,2723.6000000000004,2468.4,8355.6,3337.4,6286.500000000001,2833.6000000000004,4616.700000000001,15769.600000000002,3792.8,21346.600000000002,7191.8,4736.6,2483.8,4974.200000000001,4935.700000000001,4893.900000000001,2439.8,21116.7,14533.2,7234.700000000001,9231.2,5013.8,8765.900000000001,2919.4,18210.5,5011.6,6700.1,21522.600000000002,5291.0,4975.3,1872.2,19845.100000000002,3174.6000000000004,2306.7000000000003,13128.500000000002,9253.2,15529.800000000001,18750.600000000002,2820.4,11292.6,5577.0,19647.100000000002,4653.0,4158.0,3044.8,9978.1,11712.800000000001,3281.3,8395.2,2302.3,10978.0,4456.1,18518.5,6853.000000000001,5188.700000000001,14560.7,4130.5,7240.200000000001,8146.6,5285.5,4688.200000000001,17802.4,12712.7,12025.2,7492.1,4736.6,5344.900000000001,5870.700000000001,8240.1,11579.7,18254.5,9717.400000000001,6134.700000000001,2640.0,10806.400000000001,7091.700000000001,21452.2,2997.5000000000005,6899.200000000001,2339.7000000000003,20020.0,2305.6000000000004,3984.2000000000003,4049.1000000000004,6006.000000000001,2405.7000000000003,10562.2,3119.6000000000004,4497.900000000001,18289.7,2880.9,6246.900000000001,16942.2,6583.500000000001,2836.9,3791.7000000000003,21464.300000000003,3050.3,7814.400000000001,6954.200000000001,2291.3,9219.1,2960.1000000000004,2924.9,10377.400000000001,6117.1,7310.6,8497.5,11797.500000000002,9731.7,2249.5,1409.1000000000001,3100.9,5336.1,4430.8,2992.0000000000005,8932.0,5111.700000000001,5148.0,3543.1000000000004,9483.1,5008.3,5935.6,8387.5,8153.200000000001,12274.900000000001,5456.0,11522.500000000002,16295.400000000001,21055.100000000002,5945.500000000001,9672.300000000001,21107.9,4262.5,12884.300000000001,8647.1,4078.8,15147.000000000002,5834.400000000001,2906.2000000000003,7484.400000000001,6756.200000000001,2750.0,7027.900000000001,12213.300000000001,2576.2000000000003,7492.1,2526.7000000000003,2695.0,5602.3,5839.900000000001,3362.7000000000003,5633.1,18541.600000000002,6798.000000000001,7295.200000000001,3855.5000000000005,6901.400000000001,8345.7,4683.8,4800.400000000001,4768.5,3608.0000000000005,6033.500000000001,4776.200000000001,3060.2000000000003,6578.000000000001,4819.1,2829.2000000000003,4216.3,4668.400000000001,7150.000000000001,20273.0,2963.4,3463.9,19402.9,12860.1,18427.2,5750.8,2970.0000000000005,2756.6000000000004,6668.200000000001,2357.3,6778.200000000001,5603.400000000001,7564.700000000001,2501.4,4877.400000000001,6916.8,2808.3,18874.9,14088.800000000001,11243.1,5256.900000000001,4110.700000000001,1876.6000000000001,17937.7,6526.3,3766.4,4440.700000000001,2814.9,6821.1,4843.3,4137.1,12027.400000000001,11837.1,5692.500000000001,15208.6,6967.400000000001,5429.6,5252.5,3099.8,2766.5,2576.2000000000003,4613.400000000001,11753.500000000002,2545.4,4681.6,3938.0000000000005,3478.2000000000003,7176.400000000001,3188.9,5754.1,2591.6000000000004,13019.6,11993.300000000001,3270.3,15702.500000000002,6118.200000000001,4990.700000000001,8406.2,19716.4,5724.400000000001,2504.7000000000003,2785.2000000000003,2814.9,5398.8,5241.5,7244.6,3623.4,2614.7000000000003,2549.8,2208.8,6868.400000000001,3078.9,11607.2,2561.9,4415.400000000001,8143.300000000001,2484.9,7625.200000000001,5145.8,14940.2,2565.2000000000003,10675.5,4723.400000000001,5193.1,2770.9,6440.500000000001,3978.7000000000003,7397.500000000001,7643.900000000001,4891.700000000001,2372.7000000000003,5061.1,18808.9,16337.2,7990.400000000001,6232.6,8605.300000000001,8668.0,5573.700000000001,5586.900000000001,19188.4,3797.2000000000003,2497.0,19138.9,6036.8,21360.9,3092.1000000000004,3996.3,4579.3,15370.300000000001,2952.4,11929.500000000002,4814.700000000001,4562.8,1156.1000000000001,11812.900000000001,11426.800000000001,12557.6,6019.200000000001,2696.1000000000004,4664.0,12098.900000000001,5503.3,14016.2,4649.700000000001,4308.700000000001,20133.300000000003,2618.0,15098.6,7023.500000000001,21970.300000000003,7547.1,14652.000000000002,6981.700000000001,11968.000000000002,2576.2000000000003,19415.0,4427.5,10697.5,13094.400000000001,2394.7000000000003,8277.5,2442.0,1157.2,3103.1000000000004,21160.7,4517.700000000001,9235.6,2207.7000000000003,21589.7,11754.6,3236.2000000000003,9743.800000000001,18431.600000000002,11877.800000000001,5076.5,4350.5,10952.7,3713.6000000000004,9705.300000000001,11354.2,5083.1,12073.6,4026.0000000000005,7830.900000000001,2427.7000000000003,8531.6,7363.400000000001,19431.5,4732.200000000001,3276.9,18573.5,6152.3,11489.500000000002,9614.0,2765.4,8420.5,19211.5,8086.1,11902.000000000002,21588.600000000002,2277.0,7460.200000000001,8556.900000000001,3070.1000000000004,3521.1000000000004,5464.8,14432.000000000002,4436.3,3620.1000000000004,4699.200000000001,5561.6,3128.4,2973.3,5242.6,6304.1,2792.9,6285.400000000001,4755.3,14848.900000000001,5670.500000000001,2483.8,3956.7000000000003,4862.0,7235.8,4864.200000000001,11301.400000000001,5877.3,2613.6000000000004,3109.7000000000003,21937.300000000003,3444.1000000000004,2807.2000000000003,4924.700000000001,7121.400000000001,3336.3,20466.600000000002,2384.8,18752.800000000003,2519.0,3960.0000000000005,4526.5,4759.700000000001,19641.600000000002,3515.6000000000004,20989.100000000002,9862.6,4992.900000000001,3015.1000000000004,3840.1000000000004,4995.1,2945.8,8116.900000000001,6899.200000000001,5742.000000000001,3017.3,5497.8,11277.2,3059.1000000000004,7537.200000000001,5445.0,3936.9,14510.1,11414.7,2458.5,11552.2,2212.1000000000004,4136.0,19556.9,7516.3,7493.200000000001,5688.1,21714.0,20582.100000000002,4061.2000000000003,2814.9,2768.7000000000003,7285.3,20091.5,17736.4,2843.5000000000005,20034.300000000003,9218.0,3293.4,1345.3000000000002,3162.5000000000005,14934.7,20667.9,4991.8,21831.7,11563.2,4888.400000000001,2369.4,21109.0,4939.0,3856.6000000000004,2609.2000000000003,11254.1,5951.000000000001,4253.700000000001,3121.8,5164.5,2288.0,2305.6000000000004,6829.900000000001,19867.100000000002,18835.300000000003,2609.2000000000003,5089.700000000001,7803.400000000001,3765.3,7341.400000000001,18568.0,13107.6,4987.400000000001,10837.2,6766.1,19647.100000000002,21105.7,21688.7,3898.4,9350.0,5127.1,4513.3,4673.900000000001,15428.6,7582.3,6737.500000000001,4035.9000000000005,2625.7000000000003,5102.900000000001,8687.800000000001,2787.4,14456.2,1772.1000000000001,5899.3,5578.1,14742.2,2231.9,7014.700000000001,5971.900000000001,2871.0000000000005,7355.700000000001,5196.400000000001,6732.000000000001,11655.6,6013.700000000001,3295.6000000000004,10997.800000000001,4485.8,12012.000000000002,6855.200000000001,14571.7,4489.1,6345.900000000001,4294.400000000001,18478.9,3245.0000000000005,3991.9000000000005,10298.2,3551.9,3935.8,8786.800000000001,19060.800000000003,21671.100000000002,16205.2,10205.800000000001,5256.900000000001,18064.2,3295.6000000000004,2308.9,6391.000000000001,6211.700000000001,3762.0000000000005,3850.0000000000005,2272.6000000000004,18885.9,4578.200000000001,10124.400000000001,3623.4,2339.7000000000003,4372.5,11872.300000000001,11936.1,2319.9,10318.0,6034.6,15132.7,9309.300000000001,3478.2000000000003,18257.800000000003,7316.1,2579.5,3762.0000000000005,4810.3,5234.900000000001,5831.1,4040.3,5244.8,1401.4,5390.0,11512.6,18707.7,2644.4,2236.3,11229.900000000001,9482.0,2270.4,4438.5,4221.8,5050.1,1719.3000000000002,5387.8,5267.900000000001,3498.0000000000005,7203.900000000001,7026.8,12368.400000000001,17635.2,17960.800000000003,9213.6,18266.600000000002,9466.6,2499.2000000000003,7791.3,15852.100000000002,2538.8,5325.1,4713.5,10686.5,4752.0,2345.2000000000003,11136.400000000001,6020.3,5727.700000000001,18080.7,2525.6000000000004,4475.900000000001,8185.1,2673.0,6465.8,2908.4,7082.900000000001,2696.1000000000004,7031.200000000001,6684.700000000001,2695.0,10175.0,4495.700000000001,2603.7000000000003,3269.2000000000003,21544.600000000002,6032.400000000001,2267.1000000000004,10916.400000000001,4617.8,7496.500000000001,5195.3,6756.200000000001,9060.7,9738.300000000001,21264.100000000002,2280.3,6118.200000000001,21574.300000000003,3747.7000000000003,5569.3,5102.900000000001,5363.6,2959.0000000000005,19323.7,3095.4,12369.500000000002,3643.2000000000003,20953.9,2355.1000000000004,6345.900000000001,4823.5,5865.200000000001,5129.3,5196.400000000001,3532.1000000000004,5914.700000000001,4472.6,5728.8,5364.700000000001,3428.7000000000003,21623.800000000003,3375.9,11478.500000000002,4562.8,6344.8,5546.200000000001,6347.000000000001,8531.6,4329.6,8739.5,6317.3,16722.2,4136.0,3868.7000000000003,2838.0000000000005,6455.900000000001,8808.800000000001,5726.6,5824.500000000001,18054.300000000003,14595.900000000001,3061.3,5976.3,2214.3,15362.6,4811.400000000001,7526.200000000001,19168.600000000002,19363.300000000003,5208.5,4605.700000000001,6055.500000000001,6017.000000000001,6023.6,2845.7000000000003,2684.0,17569.2,16916.9,7790.200000000001,3000.8,5904.8,5881.700000000001,3514.5000000000005,3636.6000000000004,7705.500000000001,2827.0000000000005,3890.7000000000003,4384.6,11971.300000000001,2230.8,10477.5,3221.9,8666.900000000001,5423.0,8631.7,4841.1,10165.1,3271.4,4952.200000000001,11822.800000000001,2535.5,18374.4,3776.3,3824.7000000000003,7073.000000000001,7167.6,4297.700000000001,6118.200000000001,7571.3,3148.2000000000003,5475.8,11404.800000000001,3624.5000000000005,5761.8,7119.200000000001,10571.0,21816.300000000003,10731.6,5464.8,2359.5,9180.6,3789.5000000000005,6923.400000000001,7854.000000000001,3225.2000000000003,5661.700000000001,4957.700000000001,2714.8,2319.9,5823.400000000001,2989.8,6392.1,3042.6000000000004,20941.800000000003,3360.5000000000005,2517.9,4401.1,14261.500000000002,3892.9,6631.900000000001,4072.2000000000003,6014.8,14427.6,4607.900000000001,21260.800000000003,9153.1,4478.1,3457.3,2248.4,14810.400000000001,8790.1,3714.7000000000003,6091.8,6338.200000000001,2851.2000000000003,4539.700000000001,2681.8,7557.000000000001,11491.7,10633.7,7164.3,7478.900000000001,17920.100000000002,2975.5000000000005,11366.300000000001,4892.8,7539.400000000001,10600.7,3950.1000000000004,5945.500000000001,5152.400000000001,17365.7,1665.4,5669.400000000001,7658.200000000001,6242.500000000001,2616.9,4193.200000000001,5112.8,3229.6000000000004,2315.5,9435.800000000001,2976.6000000000004,7022.400000000001,4364.8,14547.500000000002,3894.0000000000005,3084.4,21331.2,21631.5,5251.400000000001,4292.200000000001,2928.2000000000003,3141.6000000000004,6240.3,4616.700000000001,10684.300000000001,2268.2000000000003,4712.400000000001,5266.8,6496.6,4274.6,18505.300000000003,3226.3,7150.000000000001,18891.4,5536.3,6057.700000000001,4832.3,14682.800000000001,7241.3,8913.300000000001,4375.8,2798.4,5938.900000000001,6035.700000000001,7517.400000000001,6309.6,2448.6000000000004,6321.700000000001,6013.700000000001,5918.000000000001,5666.1,2346.3,19662.5,5248.1,21077.100000000002,5595.700000000001,6117.1,2358.4,3371.5000000000005,3091.0000000000005,10876.800000000001,9490.800000000001,3153.7000000000003,5910.3,7333.700000000001,5503.3,3143.8,5724.400000000001,4515.5,10646.900000000001,3186.7000000000003,6564.8,8261.0,3290.1000000000004,21599.600000000002,1241.9,14675.1,4765.200000000001,12134.1,4884.0,5078.700000000001,2911.7000000000003,6955.3,6244.700000000001,2405.7000000000003,4122.8,4374.700000000001,9496.300000000001,2208.8,4884.0,3373.7000000000003,5853.1,5951.000000000001,3060.2000000000003,13152.7,2926.0000000000005,3712.5000000000005,5607.8,5365.8,3120.7000000000003,2646.6000000000004,2495.9,4518.8,14526.6,11464.2,15118.400000000001,5397.700000000001,3830.2000000000003,2679.6000000000004,2618.0,21374.100000000002,8408.400000000001,5644.1,6936.6,20768.0,14927.000000000002,7383.200000000001,5946.6,9831.800000000001,2682.9,9720.7,5877.3,7317.200000000001,5335.0,3089.9,6257.900000000001,2201.1000000000004,3274.7000000000003,4427.5,4163.5,13234.1,10929.6,3262.6000000000004,2828.1000000000004,10990.1,6756.200000000001,5929.000000000001,4844.400000000001],\"y0\":\" \",\"yaxis\":\"y\",\"type\":\"box\"}],                        {\"template\":{\"data\":{\"histogram2dcontour\":[{\"type\":\"histogram2dcontour\",\"colorbar\":{\"outlinewidth\":0,\"ticks\":\"\"},\"colorscale\":[[0.0,\"#0d0887\"],[0.1111111111111111,\"#46039f\"],[0.2222222222222222,\"#7201a8\"],[0.3333333333333333,\"#9c179e\"],[0.4444444444444444,\"#bd3786\"],[0.5555555555555556,\"#d8576b\"],[0.6666666666666666,\"#ed7953\"],[0.7777777777777778,\"#fb9f3a\"],[0.8888888888888888,\"#fdca26\"],[1.0,\"#f0f921\"]]}],\"choropleth\":[{\"type\":\"choropleth\",\"colorbar\":{\"outlinewidth\":0,\"ticks\":\"\"}}],\"histogram2d\":[{\"type\":\"histogram2d\",\"colorbar\":{\"outlinewidth\":0,\"ticks\":\"\"},\"colorscale\":[[0.0,\"#0d0887\"],[0.1111111111111111,\"#46039f\"],[0.2222222222222222,\"#7201a8\"],[0.3333333333333333,\"#9c179e\"],[0.4444444444444444,\"#bd3786\"],[0.5555555555555556,\"#d8576b\"],[0.6666666666666666,\"#ed7953\"],[0.7777777777777778,\"#fb9f3a\"],[0.8888888888888888,\"#fdca26\"],[1.0,\"#f0f921\"]]}],\"heatmap\":[{\"type\":\"heatmap\",\"colorbar\":{\"outlinewidth\":0,\"ticks\":\"\"},\"colorscale\":[[0.0,\"#0d0887\"],[0.1111111111111111,\"#46039f\"],[0.2222222222222222,\"#7201a8\"],[0.3333333333333333,\"#9c179e\"],[0.4444444444444444,\"#bd3786\"],[0.5555555555555556,\"#d8576b\"],[0.6666666666666666,\"#ed7953\"],[0.7777777777777778,\"#fb9f3a\"],[0.8888888888888888,\"#fdca26\"],[1.0,\"#f0f921\"]]}],\"heatmapgl\":[{\"type\":\"heatmapgl\",\"colorbar\":{\"outlinewidth\":0,\"ticks\":\"\"},\"colorscale\":[[0.0,\"#0d0887\"],[0.1111111111111111,\"#46039f\"],[0.2222222222222222,\"#7201a8\"],[0.3333333333333333,\"#9c179e\"],[0.4444444444444444,\"#bd3786\"],[0.5555555555555556,\"#d8576b\"],[0.6666666666666666,\"#ed7953\"],[0.7777777777777778,\"#fb9f3a\"],[0.8888888888888888,\"#fdca26\"],[1.0,\"#f0f921\"]]}],\"contourcarpet\":[{\"type\":\"contourcarpet\",\"colorbar\":{\"outlinewidth\":0,\"ticks\":\"\"}}],\"contour\":[{\"type\":\"contour\",\"colorbar\":{\"outlinewidth\":0,\"ticks\":\"\"},\"colorscale\":[[0.0,\"#0d0887\"],[0.1111111111111111,\"#46039f\"],[0.2222222222222222,\"#7201a8\"],[0.3333333333333333,\"#9c179e\"],[0.4444444444444444,\"#bd3786\"],[0.5555555555555556,\"#d8576b\"],[0.6666666666666666,\"#ed7953\"],[0.7777777777777778,\"#fb9f3a\"],[0.8888888888888888,\"#fdca26\"],[1.0,\"#f0f921\"]]}],\"surface\":[{\"type\":\"surface\",\"colorbar\":{\"outlinewidth\":0,\"ticks\":\"\"},\"colorscale\":[[0.0,\"#0d0887\"],[0.1111111111111111,\"#46039f\"],[0.2222222222222222,\"#7201a8\"],[0.3333333333333333,\"#9c179e\"],[0.4444444444444444,\"#bd3786\"],[0.5555555555555556,\"#d8576b\"],[0.6666666666666666,\"#ed7953\"],[0.7777777777777778,\"#fb9f3a\"],[0.8888888888888888,\"#fdca26\"],[1.0,\"#f0f921\"]]}],\"mesh3d\":[{\"type\":\"mesh3d\",\"colorbar\":{\"outlinewidth\":0,\"ticks\":\"\"}}],\"scatter\":[{\"fillpattern\":{\"fillmode\":\"overlay\",\"size\":10,\"solidity\":0.2},\"type\":\"scatter\"}],\"parcoords\":[{\"type\":\"parcoords\",\"line\":{\"colorbar\":{\"outlinewidth\":0,\"ticks\":\"\"}}}],\"scatterpolargl\":[{\"type\":\"scatterpolargl\",\"marker\":{\"colorbar\":{\"outlinewidth\":0,\"ticks\":\"\"}}}],\"bar\":[{\"error_x\":{\"color\":\"#2a3f5f\"},\"error_y\":{\"color\":\"#2a3f5f\"},\"marker\":{\"line\":{\"color\":\"#E5ECF6\",\"width\":0.5},\"pattern\":{\"fillmode\":\"overlay\",\"size\":10,\"solidity\":0.2}},\"type\":\"bar\"}],\"scattergeo\":[{\"type\":\"scattergeo\",\"marker\":{\"colorbar\":{\"outlinewidth\":0,\"ticks\":\"\"}}}],\"scatterpolar\":[{\"type\":\"scatterpolar\",\"marker\":{\"colorbar\":{\"outlinewidth\":0,\"ticks\":\"\"}}}],\"histogram\":[{\"marker\":{\"pattern\":{\"fillmode\":\"overlay\",\"size\":10,\"solidity\":0.2}},\"type\":\"histogram\"}],\"scattergl\":[{\"type\":\"scattergl\",\"marker\":{\"colorbar\":{\"outlinewidth\":0,\"ticks\":\"\"}}}],\"scatter3d\":[{\"type\":\"scatter3d\",\"line\":{\"colorbar\":{\"outlinewidth\":0,\"ticks\":\"\"}},\"marker\":{\"colorbar\":{\"outlinewidth\":0,\"ticks\":\"\"}}}],\"scattermapbox\":[{\"type\":\"scattermapbox\",\"marker\":{\"colorbar\":{\"outlinewidth\":0,\"ticks\":\"\"}}}],\"scatterternary\":[{\"type\":\"scatterternary\",\"marker\":{\"colorbar\":{\"outlinewidth\":0,\"ticks\":\"\"}}}],\"scattercarpet\":[{\"type\":\"scattercarpet\",\"marker\":{\"colorbar\":{\"outlinewidth\":0,\"ticks\":\"\"}}}],\"carpet\":[{\"aaxis\":{\"endlinecolor\":\"#2a3f5f\",\"gridcolor\":\"white\",\"linecolor\":\"white\",\"minorgridcolor\":\"white\",\"startlinecolor\":\"#2a3f5f\"},\"baxis\":{\"endlinecolor\":\"#2a3f5f\",\"gridcolor\":\"white\",\"linecolor\":\"white\",\"minorgridcolor\":\"white\",\"startlinecolor\":\"#2a3f5f\"},\"type\":\"carpet\"}],\"table\":[{\"cells\":{\"fill\":{\"color\":\"#EBF0F8\"},\"line\":{\"color\":\"white\"}},\"header\":{\"fill\":{\"color\":\"#C8D4E3\"},\"line\":{\"color\":\"white\"}},\"type\":\"table\"}],\"barpolar\":[{\"marker\":{\"line\":{\"color\":\"#E5ECF6\",\"width\":0.5},\"pattern\":{\"fillmode\":\"overlay\",\"size\":10,\"solidity\":0.2}},\"type\":\"barpolar\"}],\"pie\":[{\"automargin\":true,\"type\":\"pie\"}]},\"layout\":{\"autotypenumbers\":\"strict\",\"colorway\":[\"#636efa\",\"#EF553B\",\"#00cc96\",\"#ab63fa\",\"#FFA15A\",\"#19d3f3\",\"#FF6692\",\"#B6E880\",\"#FF97FF\",\"#FECB52\"],\"font\":{\"color\":\"#2a3f5f\"},\"hovermode\":\"closest\",\"hoverlabel\":{\"align\":\"left\"},\"paper_bgcolor\":\"white\",\"plot_bgcolor\":\"#E5ECF6\",\"polar\":{\"bgcolor\":\"#E5ECF6\",\"angularaxis\":{\"gridcolor\":\"white\",\"linecolor\":\"white\",\"ticks\":\"\"},\"radialaxis\":{\"gridcolor\":\"white\",\"linecolor\":\"white\",\"ticks\":\"\"}},\"ternary\":{\"bgcolor\":\"#E5ECF6\",\"aaxis\":{\"gridcolor\":\"white\",\"linecolor\":\"white\",\"ticks\":\"\"},\"baxis\":{\"gridcolor\":\"white\",\"linecolor\":\"white\",\"ticks\":\"\"},\"caxis\":{\"gridcolor\":\"white\",\"linecolor\":\"white\",\"ticks\":\"\"}},\"coloraxis\":{\"colorbar\":{\"outlinewidth\":0,\"ticks\":\"\"}},\"colorscale\":{\"sequential\":[[0.0,\"#0d0887\"],[0.1111111111111111,\"#46039f\"],[0.2222222222222222,\"#7201a8\"],[0.3333333333333333,\"#9c179e\"],[0.4444444444444444,\"#bd3786\"],[0.5555555555555556,\"#d8576b\"],[0.6666666666666666,\"#ed7953\"],[0.7777777777777778,\"#fb9f3a\"],[0.8888888888888888,\"#fdca26\"],[1.0,\"#f0f921\"]],\"sequentialminus\":[[0.0,\"#0d0887\"],[0.1111111111111111,\"#46039f\"],[0.2222222222222222,\"#7201a8\"],[0.3333333333333333,\"#9c179e\"],[0.4444444444444444,\"#bd3786\"],[0.5555555555555556,\"#d8576b\"],[0.6666666666666666,\"#ed7953\"],[0.7777777777777778,\"#fb9f3a\"],[0.8888888888888888,\"#fdca26\"],[1.0,\"#f0f921\"]],\"diverging\":[[0,\"#8e0152\"],[0.1,\"#c51b7d\"],[0.2,\"#de77ae\"],[0.3,\"#f1b6da\"],[0.4,\"#fde0ef\"],[0.5,\"#f7f7f7\"],[0.6,\"#e6f5d0\"],[0.7,\"#b8e186\"],[0.8,\"#7fbc41\"],[0.9,\"#4d9221\"],[1,\"#276419\"]]},\"xaxis\":{\"gridcolor\":\"white\",\"linecolor\":\"white\",\"ticks\":\"\",\"title\":{\"standoff\":15},\"zerolinecolor\":\"white\",\"automargin\":true,\"zerolinewidth\":2},\"yaxis\":{\"gridcolor\":\"white\",\"linecolor\":\"white\",\"ticks\":\"\",\"title\":{\"standoff\":15},\"zerolinecolor\":\"white\",\"automargin\":true,\"zerolinewidth\":2},\"scene\":{\"xaxis\":{\"backgroundcolor\":\"#E5ECF6\",\"gridcolor\":\"white\",\"linecolor\":\"white\",\"showbackground\":true,\"ticks\":\"\",\"zerolinecolor\":\"white\",\"gridwidth\":2},\"yaxis\":{\"backgroundcolor\":\"#E5ECF6\",\"gridcolor\":\"white\",\"linecolor\":\"white\",\"showbackground\":true,\"ticks\":\"\",\"zerolinecolor\":\"white\",\"gridwidth\":2},\"zaxis\":{\"backgroundcolor\":\"#E5ECF6\",\"gridcolor\":\"white\",\"linecolor\":\"white\",\"showbackground\":true,\"ticks\":\"\",\"zerolinecolor\":\"white\",\"gridwidth\":2}},\"shapedefaults\":{\"line\":{\"color\":\"#2a3f5f\"}},\"annotationdefaults\":{\"arrowcolor\":\"#2a3f5f\",\"arrowhead\":0,\"arrowwidth\":1},\"geo\":{\"bgcolor\":\"white\",\"landcolor\":\"#E5ECF6\",\"subunitcolor\":\"white\",\"showland\":true,\"showlakes\":true,\"lakecolor\":\"white\"},\"title\":{\"x\":0.05},\"mapbox\":{\"style\":\"light\"}}},\"xaxis\":{\"anchor\":\"y\",\"domain\":[0.0,1.0],\"title\":{\"text\":\"Job Roles\"},\"categoryorder\":\"median descending\"},\"yaxis\":{\"anchor\":\"x\",\"domain\":[0.0,1.0],\"title\":{\"text\":\"Monthly Income\"}},\"legend\":{\"title\":{\"text\":\"color\"},\"tracegroupgap\":0},\"margin\":{\"t\":60},\"boxmode\":\"group\"},                        {\"responsive\": true}                    ).then(function(){\n",
       "                            \n",
       "var gd = document.getElementById('deb4afbe-ff83-480e-9475-9a991a764349');\n",
       "var x = new MutationObserver(function (mutations, observer) {{\n",
       "        var display = window.getComputedStyle(gd).display;\n",
       "        if (!display || display === 'none') {{\n",
       "            console.log([gd, 'removed!']);\n",
       "            Plotly.purge(gd);\n",
       "            observer.disconnect();\n",
       "        }}\n",
       "}});\n",
       "\n",
       "// Listen for the removal of the full notebook cells\n",
       "var notebookContainer = gd.closest('#notebook-container');\n",
       "if (notebookContainer) {{\n",
       "    x.observe(notebookContainer, {childList: true});\n",
       "}}\n",
       "\n",
       "// Listen for the clearing of the current output cell\n",
       "var outputEl = gd.closest('.output');\n",
       "if (outputEl) {{\n",
       "    x.observe(outputEl, {childList: true});\n",
       "}}\n",
       "\n",
       "                        })                };                });            </script>        </div>"
      ]
     },
     "metadata": {},
     "output_type": "display_data"
    }
   ],
   "source": [
    "fig = px.box(y= raw.MonthlyIncome, x= raw.JobRole, color=raw.Attrition, labels=({'x':\"Job Roles\", 'y':\"Monthly Income\"}))\n",
    "fig.update_layout(xaxis={'categoryorder': 'median descending'})"
   ]
  },
  {
   "cell_type": "markdown",
   "id": "00e651b0",
   "metadata": {
    "papermill": {
     "duration": 0.034496,
     "end_time": "2023-01-12T15:02:22.026194",
     "exception": false,
     "start_time": "2023-01-12T15:02:21.991698",
     "status": "completed"
    },
    "tags": []
   },
   "source": [
    "#### Notes:\n",
    "- Manager roles (```Manager```, ```Research Director```, ```Sales Executive```, ```Manufacturing Director```) were recieving the highest salaries\n",
    "- ```Sales Rep```has the lowest salary\n"
   ]
  },
  {
   "cell_type": "markdown",
   "id": "dc8d28a5",
   "metadata": {
    "papermill": {
     "duration": 0.033586,
     "end_time": "2023-01-12T15:02:22.093608",
     "exception": false,
     "start_time": "2023-01-12T15:02:22.060022",
     "status": "completed"
    },
    "tags": []
   },
   "source": [
    "#### Analysis:\n",
    "- Distribution of monthly income for each job role in Sale Departments Sales Execs, Manager and Sales Reps (kde displot to visualize the distribution of each job role in one plot) + Compare between two groups of attrition in the Sales Dept"
   ]
  },
  {
   "cell_type": "code",
   "execution_count": 80,
   "id": "6672bf0a",
   "metadata": {
    "execution": {
     "iopub.execute_input": "2023-01-12T15:02:22.164791Z",
     "iopub.status.busy": "2023-01-12T15:02:22.164393Z",
     "iopub.status.idle": "2023-01-12T15:02:24.910655Z",
     "shell.execute_reply": "2023-01-12T15:02:24.909320Z"
    },
    "papermill": {
     "duration": 2.789879,
     "end_time": "2023-01-12T15:02:24.917582",
     "exception": false,
     "start_time": "2023-01-12T15:02:22.127703",
     "status": "completed"
    },
    "tags": []
   },
   "outputs": [
    {
     "data": {
      "text/plain": [
       "<AxesSubplot:>"
      ]
     },
     "execution_count": 80,
     "metadata": {},
     "output_type": "execute_result"
    },
    {
     "data": {
      "image/png": "[encoded data removed]",
      "text/plain": [
       "<Figure size 1440x1296 with 2 Axes>"
      ]
     },
     "metadata": {},
     "output_type": "display_data"
    }
   ],
   "source": [
    "fig = plt.figure(figsize=(20,18))\n",
    "sns.heatmap(raw.corr(), annot=True)"
   ]
  }
 ],
 "metadata": {
  "kernelspec": {
   "display_name": "Python 3",
   "language": "python",
   "name": "python3"
  },
  "language_info": {
   "codemirror_mode": {
    "name": "ipython",
    "version": 3
   },
   "file_extension": ".py",
   "mimetype": "text/x-python",
   "name": "python",
   "nbconvert_exporter": "python",
   "pygments_lexer": "ipython3",
   "version": "3.7.12"
  },
  "papermill": {
   "default_parameters": {},
   "duration": 27.747201,
   "end_time": "2023-01-12T15:02:25.880357",
   "environment_variables": {},
   "exception": null,
   "input_path": "__notebook__.ipynb",
   "output_path": "__notebook__.ipynb",
   "parameters": {},
   "start_time": "2023-01-12T15:01:58.133156",
   "version": "2.3.4"
  }
 },
 "nbformat": 4,
 "nbformat_minor": 5
}
